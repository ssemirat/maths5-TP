{
 "cells": [
  {
   "cell_type": "markdown",
   "metadata": {},
   "source": [
    "Double cliquer et entrer nom, prénom et groupe ici"
   ]
  },
  {
   "attachments": {
    "image.png": {
     "image/png": "[encoded data removed]"
    }
   },
   "cell_type": "markdown",
   "metadata": {},
   "source": [
    "# TP 2 : Régression par minimisation avec 2 variables\n",
    "\n",
    "## Problème A (à faire en parallèle avec l'enseignant)\n",
    "On considère les points $(1,3)$, $(3,3)$ et $(5,4)$\n",
    "\n",
    "On cherche l'ordonnée à l'origine $b$ et le coefficient directeur $w$ de la droite d'équation $$y=wx+b$$ minimisant la somme des carrés des distances verticales entre les points et la droite (comme représenté ci-dessous) :\n",
    "![image.png](attachment:image.png)"
   ]
  },
  {
   "cell_type": "markdown",
   "metadata": {},
   "source": [
    "**Exercice**\n",
    "\n",
    "Compléter la description des trois composantes du programme d'optimisation (selon les notations du cours) :\n",
    "\n",
    "- Variable décisionnelle $d$ : ...\n",
    "- Domaine $\\mathcal{D}$ : ...\n",
    "- Critère $f(d)$ : ...\n",
    "\n",
    "(on ne demande pas de résoudre le programme)"
   ]
  },
  {
   "cell_type": "markdown",
   "metadata": {},
   "source": [
    "## Exploration graphique\n",
    "*Ne pas oublier d'exécuter les cellules suivantes, via `CTRL+Entrée`*"
   ]
  },
  {
   "cell_type": "code",
   "execution_count": null,
   "metadata": {},
   "outputs": [],
   "source": [
    "# Chargement des librairies Python\n",
    "\n",
    "# Mathématiques \n",
    "import numpy as np\n",
    "\n",
    "# Graphique\n",
    "from matplotlib import pyplot as plt\n",
    "\n",
    "print('Librairies chargées en mémoire')"
   ]
  },
  {
   "cell_type": "markdown",
   "metadata": {},
   "source": [
    "### Définition du nuage de points\n",
    "\n",
    "La liste des points $(1,3)$, $(3,3)$ et $(5,4)$ se définit par la liste des abscisses et la liste des ordonnées."
   ]
  },
  {
   "cell_type": "code",
   "execution_count": null,
   "metadata": {},
   "outputs": [],
   "source": [
    "X=[1,3,5]\n",
    "Y=[3,3,4]\n",
    "print('Données X et Y chargées en mémoire')"
   ]
  },
  {
   "cell_type": "markdown",
   "metadata": {},
   "source": [
    "### Visualisation des points"
   ]
  },
  {
   "cell_type": "code",
   "execution_count": null,
   "metadata": {
    "scrolled": false
   },
   "outputs": [],
   "source": [
    "plt.axis([0,6,0,5]) # xmin,xmax,ymin,ymax\n",
    "plt.plot(X,Y,'o') # représentation graphique des points\n",
    "plt.show()"
   ]
  },
  {
   "cell_type": "markdown",
   "metadata": {},
   "source": [
    "### Visualisation d'une droite de régression (pas forcément optimale)"
   ]
  },
  {
   "cell_type": "code",
   "execution_count": null,
   "metadata": {
    "scrolled": false
   },
   "outputs": [],
   "source": [
    "w=1\n",
    "b=1\n",
    "plt.axis([0,6,0,8])\n",
    "plt.plot(X,Y,'o')\n",
    "plt.plot([0,6],[b+w*0,b+w*6])\n",
    "for i in range(len(X)):\n",
    "    plt.plot([X[i],X[i]],[Y[i],b+w*X[i]],'*--')\n",
    "    \n",
    "SommeResidus=0\n",
    "for i in range(len(X)):\n",
    "    ri=(Y[i]-(b+w*X[i]))**2\n",
    "    plt.text(X[i],(Y[i]+b+w*X[i])/2,' $r_'+str(i)+'^2=$'+str(ri))\n",
    "    SommeResidus=SommeResidus+ri\n",
    "plt.text(0,6,'Pour $b='+str(b)+'$ et $w='+str(w)+'$: $\\sum r_i^2=$'+str(SommeResidus))\n",
    "plt.show()"
   ]
  },
  {
   "cell_type": "markdown",
   "metadata": {},
   "source": [
    "**Exercice**\n",
    "\n",
    "Décrire les rôles des codes de la cellule permettant le générer le graphique précédent :\n",
    "- `plt.plot([0,6],[b+w*0,b+w*6])` : ...\n",
    "- `for i in range(len(X)):` : ...\n",
    "- `SommeResidus=SommeResidus+ri` : \n",
    "- `ri=(Y[i]-(b+w*X[i]))**2` : ..."
   ]
  },
  {
   "cell_type": "markdown",
   "metadata": {},
   "source": [
    "**Exercice**\n",
    "    \n",
    "1. Déterminer, en modifiant les valeurs de $b$ et $w$ puis en exécutant la cellule plusieurs fois, une solution approximative $(b^*,w^*)$ du problème A à $10^{-1}$ près.\n",
    "\n",
    "2. Remarquer le critère `SommeResidus` est beaucoup plus sensible aux variations de $w$ qu'aux variations de $b$ : proposer une explication de ce phénomène."
   ]
  },
  {
   "cell_type": "markdown",
   "metadata": {},
   "source": [
    "## Représentation graphique de la fonction à minimiser\n",
    "\n",
    "### Définition de la fonction"
   ]
  },
  {
   "cell_type": "code",
   "execution_count": null,
   "metadata": {},
   "outputs": [],
   "source": [
    "def f(b,w):\n",
    "    return np.sum([(b+w*X[i]-Y[i])**2 for i in range(len(X))])"
   ]
  },
  {
   "cell_type": "markdown",
   "metadata": {},
   "source": [
    "**Exercice**\n",
    "\n",
    "Dérouler les étapes du calcul de `f(1,2)` du code ci-dessus par Python:\n",
    "\n",
    "- En mémoire : `b`, valeur : ..., et `w`, valeur : ...\n",
    "- Premier calcul: `len(X)`, valeur : ...\n",
    "- Calcul suivant : `range(len(X))`, valeur : ... \n",
    "- Calcul suivant : premier `i`, valeur : ... \n",
    "- Calcul suivant : `(b+w*X[i]-Y[i])**2`, valeur : \n",
    "- Calcul suivant : liste `[...]`, valeur : \n",
    "- Calcul suivant : nouveau `i`, valeur : ... \n",
    "- Calcul suivant : `(b+w*X[i]-Y[i])**2`, valeur : ...\n",
    "- Calcul suivant : liste `[...]`, valeur : ...\n",
    "- (... calculs suivants ...)\n",
    "- Calcul suivant : dernier `i`, valeur : ... \n",
    "- Calcul suivant : `(b+w*X[i]-Y[i])**2`, valeur : ...\n",
    "- Calcul suivant : liste `[...]`, valeur : ...\n",
    "- Dernier calcul : `np.sum([...])`, valeur : \n"
   ]
  },
  {
   "cell_type": "markdown",
   "metadata": {},
   "source": [
    "### Création d'un tableau de valeurs pour $f$"
   ]
  },
  {
   "cell_type": "markdown",
   "metadata": {},
   "source": [
    "**Exercice**\n",
    "\n",
    "Les valeurs de $f$ sont à calculer pour un ensemble de $b$ et un ensemble de $w$.\n",
    "\n",
    "Pour créer un tableau de valeurs de $f$, il faut donc faire varier $b$ et $w$ simultanément.\n",
    "\n",
    "On construit une liste de valeurs de $w$, puis, pour chaque valeur de $w$, une liste de valeurs de $b$, selon le principe suivant :\n",
    "- `Liste1=[1,2,3,4]`\n",
    "- `Liste2=[1,2,3,4]`\n",
    "- `Valeurs=[[calcul(x,y) for x in Liste1] for y in Liste2]`\n",
    "\n",
    "En supposant par exemple que `calcul(x,y)=x*y', quel sera le contenu de la liste `Valeurs` ci-dessus à l'issue de l'éxécution du code ?"
   ]
  },
  {
   "cell_type": "markdown",
   "metadata": {},
   "source": [
    "*Réponde ici*"
   ]
  },
  {
   "cell_type": "code",
   "execution_count": null,
   "metadata": {
    "scrolled": false
   },
   "outputs": [],
   "source": [
    "# Tableau de valeurs de f\n",
    "\n",
    "blist=np.linspace(-5,5,50) # crée une liste de 50 nombres régulièrement espacés entre -5 et 5\n",
    "wlist=np.linspace(-5,5,50) # crée une liste de 50 nombres régulièrement espacés entre -5 et 5\n",
    "flist=[[f(b,w) for b in blist] for w in wlist] # Tableau de valeur de f à 2 dimensions"
   ]
  },
  {
   "cell_type": "markdown",
   "metadata": {},
   "source": [
    "**Exercice**\n",
    "\n",
    "Quelles sont les 5 premières valeurs de $b$ et $w$ pour lesquelles est calculé $f(b,w)$ dans la liste `flist` du code ci-dessus ?"
   ]
  },
  {
   "cell_type": "markdown",
   "metadata": {},
   "source": [
    "*Répondre ici*"
   ]
  },
  {
   "cell_type": "markdown",
   "metadata": {},
   "source": [
    "### Représentation graphique de la fonction"
   ]
  },
  {
   "cell_type": "code",
   "execution_count": null,
   "metadata": {
    "scrolled": false
   },
   "outputs": [],
   "source": [
    "plt.axis([-5,5,-5,5]) #xmin,xmax,ymin,ymax\n",
    "\n",
    "plt.contour(blist,wlist,flist,100)\n",
    "# crée 100 courbes de niveau de la fonction f\n",
    "# à partir des valeurs de b,w et de f(b,w) calculées précédemment\n",
    "\n",
    "plt.colorbar() # affiche une légende avec les niveaux\n",
    "\n",
    "plt.show()"
   ]
  },
  {
   "cell_type": "markdown",
   "metadata": {},
   "source": [
    "**Exercice**\n",
    "\n",
    "Comment expliquer l'allure allongées des ellipses associées aux courbes de niveau ?"
   ]
  },
  {
   "cell_type": "markdown",
   "metadata": {},
   "source": [
    "Répondre ici"
   ]
  },
  {
   "cell_type": "markdown",
   "metadata": {},
   "source": [
    "**Exercice**\n",
    "\n",
    "Changer le tableau de valeur ainsi que les valeurs xmin,xmax,ymin,ymax du graphique précédent afin de visualiser au mieux sur le graphique la solution approximative $(b^*,w^*)$ optimale calculée dans l'exercice 1 et la placer sur le graphique à l'aide de `plt([b*],[w*],'o')`"
   ]
  },
  {
   "cell_type": "markdown",
   "metadata": {},
   "source": [
    "## Représentation du nuage et de la droite de régression optimale"
   ]
  },
  {
   "cell_type": "markdown",
   "metadata": {},
   "source": [
    "**Exercice**\n",
    "\n",
    "Modifier les valeurs de $b$ et $w$ ci-dessous pour représenter le nuage des 3 points ainsi que la droite de régression."
   ]
  },
  {
   "cell_type": "code",
   "execution_count": null,
   "metadata": {},
   "outputs": [],
   "source": [
    "w=1\n",
    "b=1\n",
    "plt.axis([0,6,0,8])\n",
    "plt.plot(X,Y,'o')\n",
    "plt.plot([0,6],[b+w*0,b+w*6])"
   ]
  },
  {
   "cell_type": "markdown",
   "metadata": {},
   "source": [
    "## Problème B\n",
    "\n",
    "On se donne à présent un paquet de 20 points, on cherche à déterminer la droite $y=b+wx$ minimisant la somme des carrés des distances verticales entre les points et la droite.\n",
    "\n",
    "Les 20 données sont générées aléatoirement ci-dessous : **il ne faut exécuter cette cellule qu'une fois**, puis copier coller les deux listes de valeurs dans la cellule suivante, afin de les fixer une fois pour toute."
   ]
  },
  {
   "cell_type": "markdown",
   "metadata": {},
   "source": [
    "### Génération aléatoire des points"
   ]
  },
  {
   "cell_type": "code",
   "execution_count": null,
   "metadata": {},
   "outputs": [],
   "source": [
    "# Génère un b et un w aléatoires choisis uniformément entre 1 et 2\n",
    "br=np.random.uniform(1,2)\n",
    "wr=np.random.uniform(1,2)\n",
    "# Génère 20 abscisses aléatoires uniformément compris en 0 et 10\n",
    "L1=np.random.uniform(0, 10, 20)\n",
    "# Génère 20 ordonnées approximativement égales à br+wr*x\n",
    "L2=[br+wr*x+np.random.uniform(-3,3) for x in L1]\n",
    "print('Liste des X à copier-coller ci-dessous:\\n')\n",
    "print(*L1,sep=', ')\n",
    "print('\\nListe des Y à copier-coller ci-dessous:\\n')\n",
    "print(*L2,sep=', ')"
   ]
  },
  {
   "cell_type": "code",
   "execution_count": null,
   "metadata": {},
   "outputs": [],
   "source": [
    "# Définition des données\n",
    "X=[???]\n",
    "Y=[???]\n",
    "print('Données chargées')"
   ]
  },
  {
   "cell_type": "markdown",
   "metadata": {},
   "source": [
    "### Réprésentation du nuage des points"
   ]
  },
  {
   "cell_type": "code",
   "execution_count": null,
   "metadata": {},
   "outputs": [],
   "source": [
    "plt.axis([-5,15,-5,35])\n",
    "plt.plot(X,Y,'o')"
   ]
  },
  {
   "cell_type": "markdown",
   "metadata": {},
   "source": [
    "**Exercice**\n",
    "\n",
    "En vous inspirant des calculs précédent, compléter par copié-collé les cellules ci-dessous afin de résoudre graphiquement le problème :\n",
    "- Programmer la fonction $f$ à minimiser\n",
    "- Calculer un tableau de valeurs de $f$\n",
    "- Représenter les courbes de niveau de $f$\n",
    "- Déterminer une valeur approximative de son minimum en lisant le graphique\n",
    "- Tracer le nuage de point ainsi que la droite de régression trouvée"
   ]
  },
  {
   "cell_type": "code",
   "execution_count": null,
   "metadata": {},
   "outputs": [],
   "source": []
  },
  {
   "cell_type": "code",
   "execution_count": null,
   "metadata": {},
   "outputs": [],
   "source": []
  },
  {
   "cell_type": "code",
   "execution_count": null,
   "metadata": {},
   "outputs": [],
   "source": []
  },
  {
   "cell_type": "code",
   "execution_count": null,
   "metadata": {},
   "outputs": [],
   "source": []
  },
  {
   "cell_type": "code",
   "execution_count": null,
   "metadata": {},
   "outputs": [],
   "source": []
  },
  {
   "cell_type": "code",
   "execution_count": null,
   "metadata": {},
   "outputs": [],
   "source": []
  }
 ],
 "metadata": {
  "kernelspec": {
   "display_name": "Python 3",
   "language": "python",
   "name": "python3"
  },
  "language_info": {
   "codemirror_mode": {
    "name": "ipython",
    "version": 3
   },
   "file_extension": ".py",
   "mimetype": "text/x-python",
   "name": "python",
   "nbconvert_exporter": "python",
   "pygments_lexer": "ipython3",
   "version": "3.8.3"
  }
 },
 "nbformat": 4,
 "nbformat_minor": 4
}
