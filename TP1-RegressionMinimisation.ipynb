{
 "cells": [
  {
   "attachments": {
    "image.png": {
     "image/png": "[encoded data removed]"
    }
   },
   "cell_type": "markdown",
   "metadata": {},
   "source": [
    "# TP 1 : Régression par minimisation\n",
    "\n",
    "## Problème 1\n",
    "On considère les points (1,3) et (4,2).\n",
    "\n",
    "On cherche le coefficient directeur $w$ de la droite d'équation $$y=wx$$ minimisant la somme des carrés des distances verticales entre les points et la droite (comme représenté ci-dessous) :\n",
    "![image.png](attachment:image.png)\n",
    "\n",
    "##### **Exercice 1** \n",
    "Quel est le programme d'optimisation à résoudre ? Quelle est sa solution $w^*$ ?"
   ]
  },
  {
   "cell_type": "markdown",
   "metadata": {},
   "source": [
    "## Exploration graphique"
   ]
  },
  {
   "cell_type": "code",
   "execution_count": 1,
   "metadata": {},
   "outputs": [],
   "source": [
    "# Chargement des librairies Python\n",
    "\n",
    "# Mathématiques \n",
    "import numpy as np\n",
    "\n",
    "# Graphique\n",
    "from matplotlib import pyplot as plt"
   ]
  },
  {
   "cell_type": "markdown",
   "metadata": {},
   "source": [
    "### Définition des points\n",
    "\n",
    "La liste des points $(1,3)$ et $(4,2)$ se définit par la liste des abscisses et la liste des ordonnées."
   ]
  },
  {
   "cell_type": "code",
   "execution_count": 2,
   "metadata": {},
   "outputs": [],
   "source": [
    "X=[1,4]  #Créer une liste X telle que X[0]=1 et X[1]=4\n",
    "Y=[3,2]  #Créer une liste Y telle que Y[0]=3 et Y[1]=2"
   ]
  },
  {
   "cell_type": "markdown",
   "metadata": {},
   "source": [
    "### Visualisation des points"
   ]
  },
  {
   "cell_type": "code",
   "execution_count": 3,
   "metadata": {
    "scrolled": false
   },
   "outputs": [
    {
     "data": {
      "text/plain": [
       "[<matplotlib.lines.Line2D at 0x216e0a3c4f0>]"
      ]
     },
     "execution_count": 3,
     "metadata": {},
     "output_type": "execute_result"
    },
    {
     "data": {
      "image/png": "[encoded data removed]",
      "text/plain": [
       "<Figure size 432x288 with 1 Axes>"
      ]
     },
     "metadata": {
      "needs_background": "light"
     },
     "output_type": "display_data"
    }
   ],
   "source": [
    "plt.axis([0,5,0,5]) # xmin,xmax,ymin,ymax\n",
    "plt.plot(X,Y,'o') # représentation graphique des points"
   ]
  },
  {
   "cell_type": "markdown",
   "metadata": {},
   "source": [
    "### Visualisation d'une droite de régression (pas forcément optimale)"
   ]
  },
  {
   "cell_type": "code",
   "execution_count": 39,
   "metadata": {},
   "outputs": [
    {
     "data": {
      "text/plain": [
       "Text(0, 6, ' $d_1+d_2=$18.25')"
      ]
     },
     "execution_count": 39,
     "metadata": {},
     "output_type": "execute_result"
    },
    {
     "data": {
      "image/png": "[encoded data removed]",
      "text/plain": [
       "<Figure size 432x288 with 1 Axes>"
      ]
     },
     "metadata": {
      "needs_background": "light"
     },
     "output_type": "display_data"
    }
   ],
   "source": [
    "w=1.5\n",
    "plt.axis([0,5,0,10]) # xmin,xmax,ymin,ymax\n",
    "plt.plot(X,Y,'o')\n",
    "plt.plot([0,5],[0,w*5])\n",
    "plt.plot([X[0],X[0]],[Y[0],w*X[0]],'*--')\n",
    "plt.plot([X[1],X[1]],[Y[1],w*X[1]],'*--')\n",
    "d1=(Y[0]-w*X[0])**2\n",
    "d2=(Y[1]-w*X[1])**2\n",
    "plt.text(X[0],(Y[0]+w*X[0])/2,' $d_1=$'+str(d1))\n",
    "plt.text(X[1],(Y[1]+w*X[1])/2,' $d_2=$'+str(d2))\n",
    "plt.text(0,6,' $d_1+d_2=$'+str(d1+d2))"
   ]
  },
  {
   "cell_type": "markdown",
   "metadata": {},
   "source": [
    "##### **Exercice 2.**\n",
    "Dans le code exécuté ci-dessus, et redonné ci-dessous, quelles sont les coordonnées des points considérés par chacun des segments tracés ?\n",
    "- `plt.plot([0,5],[0,w*5])`\n",
    "- `plt.plot([X[0],X[0]],[Y[0],w*X[0]],'*--')`\n",
    "- `plt.plot([X[1],X[1]],[Y[1],w*X[1]],'*--')`\n"
   ]
  },
  {
   "cell_type": "markdown",
   "metadata": {},
   "source": [
    "##### **Exercice 3.**\n",
    "- Explorer le graphique en changeant la valeur de $w$ (à 0.5, 1, 2, ...).\n",
    "- Représenter la droite de régression optimale ($w=w^*$, où $w^*$ est la solution trouvée dans l'exercice 1)."
   ]
  },
  {
   "cell_type": "markdown",
   "metadata": {},
   "source": [
    "## Représentation graphique de la fonction à minimiser\n",
    "\n",
    "### Définition de la fonction"
   ]
  },
  {
   "cell_type": "code",
   "execution_count": 37,
   "metadata": {},
   "outputs": [],
   "source": [
    "def f(w):\n",
    "    return np.sum([(w*X[i]-Y[i])**2 for i in [0,1]])"
   ]
  },
  {
   "cell_type": "markdown",
   "metadata": {},
   "source": [
    "##### **Exercice 4.**\n",
    "\n",
    "- D'après vous, quel est le résultat de la commande : `[(w*X[i]-Y[i])**2 for i in [0,1]]` ?\n",
    "- D'après vous, quel est le résultat de la commande : `np.sum([1,2,3,4])` ?\n",
    "- Quelle est l'expression de la fonction définie ci-dessus ?"
   ]
  },
  {
   "cell_type": "markdown",
   "metadata": {},
   "source": [
    "### Création d'un tableau de valeurs pour $f$"
   ]
  },
  {
   "cell_type": "code",
   "execution_count": 47,
   "metadata": {},
   "outputs": [
    {
     "name": "stdout",
     "output_type": "stream",
     "text": [
      "w :  [0.0, 0.1, 0.2, 0.3, 0.4, 0.5, 0.6, 0.7, 0.8, 0.9, 1.0, 1.1, 1.2, 1.3, 1.4, 1.5, 1.6, 1.7, 1.8, 1.9]\n",
      "f(w) :  [13.0, 10.97, 9.28, 7.9300000000000015, 6.920000000000001, 6.25, 5.92, 5.929999999999999, 6.280000000000001, 6.970000000000001, 8.0, 9.370000000000001, 11.079999999999998, 13.130000000000003, 15.519999999999998, 18.25, 21.320000000000004, 24.73, 28.480000000000004, 32.56999999999999]\n"
     ]
    }
   ],
   "source": [
    "wlist=[i/10 for i in range(20)] # créer la liste 0/10, 1/10, ..., 19/10\n",
    "flist=[f(w) for w in wlist]\n",
    "print('w : ',wlist)\n",
    "print('f(w) : ',flist)"
   ]
  },
  {
   "cell_type": "markdown",
   "metadata": {},
   "source": [
    "### Représentation graphique de la fonction"
   ]
  },
  {
   "cell_type": "code",
   "execution_count": 48,
   "metadata": {
    "scrolled": true
   },
   "outputs": [
    {
     "data": {
      "text/plain": [
       "[<matplotlib.lines.Line2D at 0x216e26db5b0>]"
      ]
     },
     "execution_count": 48,
     "metadata": {},
     "output_type": "execute_result"
    },
    {
     "data": {
      "image/png": "[encoded data removed]",
      "text/plain": [
       "<Figure size 432x288 with 1 Axes>"
      ]
     },
     "metadata": {
      "needs_background": "light"
     },
     "output_type": "display_data"
    }
   ],
   "source": [
    "plt.axis([0,2,0,35])\n",
    "plt.plot(wlist,flist)"
   ]
  },
  {
   "cell_type": "markdown",
   "metadata": {},
   "source": [
    "**Question.**\n",
    "Peut-on lire, sur le graphique le $w^*$ optimal calculé dans l'exercice 1 ?"
   ]
  },
  {
   "cell_type": "markdown",
   "metadata": {},
   "source": [
    "## Problème 2\n",
    "\n",
    "Dans ce problème, on généralise le problème 1 à plus de 2 points.\n",
    "\n",
    "On se donne un paquet de 20 points (générés aléatoirement), et on va déterminer la droite $y=wx$ minimisant la somme des carrés des distances verticales entre les points et la droite"
   ]
  },
  {
   "cell_type": "markdown",
   "metadata": {},
   "source": [
    "### Génération aléatoire des points"
   ]
  },
  {
   "cell_type": "code",
   "execution_count": 49,
   "metadata": {},
   "outputs": [
    {
     "name": "stdout",
     "output_type": "stream",
     "text": [
      "X :  [9.88672525 4.36508688 3.78680494 4.05582968 3.93996943 1.87226055\n",
      " 1.52994109 1.96656875 6.94771709 1.98576285 4.01208876 0.66225659\n",
      " 9.23446335 0.74723466 7.0864056  2.14885707 6.20149247 6.61817485\n",
      " 9.60315532 8.90158771]\n",
      "Y :  [8.70927187 9.12015894 2.58104629 1.48765102 5.62076616 1.67205745\n",
      " 2.03214325 4.05594073 9.73335146 7.95005791 6.10537597 6.05497963\n",
      " 7.24023976 1.79303223 0.8976867  5.75721089 0.20140939 2.67207822\n",
      " 3.32730901 1.70410808]\n"
     ]
    }
   ],
   "source": [
    "# Génère uniformément 20 nombres aléatoires compris en 0 et 10\n",
    "X=np.random.uniform(0, 10, 20)\n",
    "Y=np.random.uniform(0, 10, 20)\n",
    "print('X : ',X)\n",
    "print('Y : ',Y)"
   ]
  },
  {
   "cell_type": "markdown",
   "metadata": {},
   "source": [
    "### Nuage des points"
   ]
  },
  {
   "cell_type": "code",
   "execution_count": 51,
   "metadata": {},
   "outputs": [
    {
     "data": {
      "text/plain": [
       "[<matplotlib.lines.Line2D at 0x216e37e0ee0>]"
      ]
     },
     "execution_count": 51,
     "metadata": {},
     "output_type": "execute_result"
    },
    {
     "data": {
      "image/png": "[encoded data removed]",
      "text/plain": [
       "<Figure size 432x288 with 1 Axes>"
      ]
     },
     "metadata": {
      "needs_background": "light"
     },
     "output_type": "display_data"
    }
   ],
   "source": [
    "plt.axis([0,10,0,10])\n",
    "plt.plot(X,Y,'o')"
   ]
  },
  {
   "cell_type": "markdown",
   "metadata": {},
   "source": [
    "**Exercice 5.**\n",
    "\n",
    "Utiliser Python pour résoudre graphiquement le problème :\n",
    "- Programmer la fonction à minimiser\n",
    "- La représenter graphiquement\n",
    "- Déterminer graphiquement une valeur approximative de son minimum\n",
    "- Tracer dans un même graphique le nuage de points ainsi que la droite de régression trouvée"
   ]
  }
 ],
 "metadata": {
  "kernelspec": {
   "display_name": "Python 3",
   "language": "python",
   "name": "python3"
  },
  "language_info": {
   "codemirror_mode": {
    "name": "ipython",
    "version": 3
   },
   "file_extension": ".py",
   "mimetype": "text/x-python",
   "name": "python",
   "nbconvert_exporter": "python",
   "pygments_lexer": "ipython3",
   "version": "3.8.3"
  }
 },
 "nbformat": 4,
 "nbformat_minor": 4
}
