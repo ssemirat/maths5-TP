{
 "cells": [
  {
   "cell_type": "markdown",
   "metadata": {},
   "source": [
    "# TP6 : Maximum de vraisemblance"
   ]
  },
  {
   "cell_type": "markdown",
   "metadata": {},
   "source": [
    "## Nom :\n",
    "## Prénom :\n",
    "## Groupe :\n",
    "\n",
    "*(double cliquer pour compléter votre réponse, puis valider en exécutant (CTRL+ENTREE))*"
   ]
  },
  {
   "cell_type": "code",
   "execution_count": 2,
   "metadata": {
    "executionInfo": {
     "elapsed": 530,
     "status": "ok",
     "timestamp": 1606831889555,
     "user": {
      "displayName": "Stephan Semirat",
      "photoUrl": "",
      "userId": "06413469689434144964"
     },
     "user_tz": -60
    },
    "id": "Zupdaax6Xf8b"
   },
   "outputs": [],
   "source": [
    "# Chargement des librairies\n",
    "from matplotlib import pyplot as plt\n",
    "import numpy as np\n",
    "from sklearn.datasets import make_blobs"
   ]
  },
  {
   "cell_type": "code",
   "execution_count": 3,
   "metadata": {
    "scrolled": true
   },
   "outputs": [
    {
     "name": "stdout",
     "output_type": "stream",
     "text": [
      "Liste des [x1j,x2j] (à copier coller dans la cellule ci-dessous): \n",
      "\n",
      " [[-1.2058666 ,-0.29031487], [ 1.42881856,-0.10063527], [ 0.68873859, 1.49485857], [-0.6499209 ,-0.53105161], [ 1.05182275, 0.76617176], [ 0.7434435 , 0.79645959], [-0.02818135,-0.05173428], [ 0.371487  , 0.17222422], [ 1.39831494, 0.93206565], [ 0.33992013, 0.08702859], [ 0.33185909, 0.29591819], [ 0.39814437,-0.47929644], [-0.04976604,-0.80216419], [-0.11357104,-0.55531833], [-0.42009736,-0.82811052], [-1.21669269,-0.77864133], [ 0.25051001,-0.73609796], [-0.55220464,-0.50560386], [ 0.63621439, 0.36399272], [-0.48454751,-0.74186033]]\n",
      "\n",
      "Liste des Yj (à copier coller dans la cellule ci-dessous): \n",
      "\n",
      " [0,1,1,0,1,1,0,1,1,1,1,1,0,0,0,0,0,0,1,0]\n"
     ]
    }
   ],
   "source": [
    "# Cette cellule n'est à exécuter qu'une fois afin de générer des données aléatoires,\n",
    "# et afin de les recopier dans la cellule suivante\n",
    "\n",
    "# Création aléatoire des données :\n",
    "# génère 20 données (Xj,Yj), avec Xj=(xj1,xj2), Y=0 ou 1\n",
    "# données centrées autour de 2 centres\n",
    "X, Y = make_blobs(n_samples=20, centers=[[-0.5,-0.5],[0.5,0.5]], n_features=2, cluster_std=0.5,center_box=(-1, 1.0))\n",
    "print('Liste des [x1j,x2j] (à copier coller dans la cellule ci-dessous): \\n\\n',np.array2string(X,separator=',',max_line_width=10000).replace('\\n', ''))\n",
    "print('\\nListe des Yj (à copier coller dans la cellule ci-dessous): \\n\\n',np.array2string(Y,separator=',',max_line_width=10000).replace('\\n', ''))"
   ]
  },
  {
   "cell_type": "code",
   "execution_count": 5,
   "metadata": {},
   "outputs": [],
   "source": [
    "# Modifier en copiant collant avec les données générées aléatoirement ci-dessus\n",
    "X=np.array([[-1.2058666 ,-0.29031487], [ 1.42881856,-0.10063527], [ 0.68873859, 1.49485857], [-0.6499209 ,-0.53105161], [ 1.05182275, 0.76617176], [ 0.7434435 , 0.79645959], [-0.02818135,-0.05173428], [ 0.371487  , 0.17222422], [ 1.39831494, 0.93206565], [ 0.33992013, 0.08702859], [ 0.33185909, 0.29591819], [ 0.39814437,-0.47929644], [-0.04976604,-0.80216419], [-0.11357104,-0.55531833], [-0.42009736,-0.82811052], [-1.21669269,-0.77864133], [ 0.25051001,-0.73609796], [-0.55220464,-0.50560386], [ 0.63621439, 0.36399272], [-0.48454751,-0.74186033]])\n",
    "Y=np.array([0,1,1,0,1,1,0,1,1,1,1,1,0,0,0,0,0,0,1,0])"
   ]
  },
  {
   "cell_type": "code",
   "execution_count": 6,
   "metadata": {},
   "outputs": [
    {
     "data": {
      "text/plain": [
       "[<matplotlib.lines.Line2D at 0x19ffabed220>]"
      ]
     },
     "execution_count": 6,
     "metadata": {},
     "output_type": "execute_result"
    },
    {
     "data": {
      "image/png": "[encoded data removed]",
      "text/plain": [
       "<Figure size 432x288 with 1 Axes>"
      ]
     },
     "metadata": {
      "needs_background": "light"
     },
     "output_type": "display_data"
    }
   ],
   "source": [
    "# Visualisation des données\n",
    "# Création de la fenêtre\n",
    "plt.xlim([-2,2])\n",
    "plt.ylim([-2,2])\n",
    "# Création d'un \"masque\" permettant d'identifier les X associés à Y=0, et affichage en rouge\n",
    "mask=(Y==0)\n",
    "plt.plot(X[mask, 0], X[mask, 1],'o',c='red')\n",
    "# Création d'un \"masque\" permettant d'identifier les X associés à Y=1, et affichage en bleu\n",
    "mask=(Y==1)\n",
    "plt.plot(X[mask, 0], X[mask, 1],'o',c='blue')"
   ]
  },
  {
   "cell_type": "markdown",
   "metadata": {},
   "source": [
    "### Exercice\n",
    "D'après vos données, proposer des paramètres pour la régression $$X=\\begin{pmatrix}x_1\\\\x_2\\end{pmatrix}\\mapsto \\sigma(b+w_1x_1+w_2x_2)$$ séparant au mieux les valeurs $(x_1,x_2,Y=0)$ et $(x_1,x_2,Y=1)$"
   ]
  },
  {
   "cell_type": "markdown",
   "metadata": {},
   "source": [
    "### *Reponse* :\n",
    "- b=\n",
    "- w1=\n",
    "- w2=\n",
    "\n",
    "*(double cliquer pour compléter votre réponse, puis valider en exécutant (CTRL+ENTREE))*"
   ]
  },
  {
   "cell_type": "markdown",
   "metadata": {},
   "source": [
    "## Maximum de vraisemblance\n",
    "\n",
    "On cherche $(b,w_1,w_2)$ tel que pour chacune des données $X_j=\\begin{pmatrix}X_{j1}&X_{j2}\\end{pmatrix}$, $Y_j\\in\\{0,1\\}$, \n",
    "$$\\sigma(b+w_1X_{i1}+w_2X_{i2})\\simeq Y_i$$\n",
    "\n",
    "Pour ce faire, on pose $h(X)=b+w_1x_1+w_2x_2$ et on considère la log-vraisemblance :\n",
    "$$LogV(b,W)=\\sum\\limits_j\\left(Y_j\\log(\\sigma(h(X_j)))+(1-Y_j)\\log(1-\\sigma(h(X_j)\\right)$$\n",
    "qu'on cherche à maximiser"
   ]
  },
  {
   "cell_type": "code",
   "execution_count": 7,
   "metadata": {
    "executionInfo": {
     "elapsed": 574,
     "status": "ok",
     "timestamp": 1606831895405,
     "user": {
      "displayName": "Stephan Semirat",
      "photoUrl": "",
      "userId": "06413469689434144964"
     },
     "user_tz": -60
    },
    "id": "x8vrszX1Xo7B"
   },
   "outputs": [],
   "source": [
    "# Définition des fonctions\n",
    "\n",
    "# Fonction sigmoïde\n",
    "def sigmoid(x):\n",
    "    return 1/(1+np.exp(-x))\n",
    "\n",
    "# Log-Vraisemblance\n",
    "def LogV(b,w1,w2):\n",
    "    return np.sum([Y[j]*np.log(sigmoid(b+w1*X[j][0]+w2*X[j][1]))\n",
    "                   +(1-Y[j])*np.log(1-sigmoid(b+w1*X[j][0]+w2*X[j][1]))\n",
    "                   for j in range(len(X))])\n"
   ]
  },
  {
   "cell_type": "code",
   "execution_count": 8,
   "metadata": {},
   "outputs": [],
   "source": [
    "# Fonction permettant de dessiner les courbes de niveau de la log-Vraisemblance\n",
    "def niveaux(b, w1_min=-5, w1_max=5, w2_min=-5, w2_max=5):\n",
    "    # Tableau de valeur à 2 variables\n",
    "    w1_values = np.linspace(w1_min, w1_max,100)\n",
    "    w2_values = np.linspace(w2_min, w2_max,100)\n",
    "    fct_values = [[LogV(b,w1,w2) for w1 in w1_values] for w2 in w2_values]\n",
    "    # Fenêtre\n",
    "    plt.xlim([w1_min, w1_max])\n",
    "    plt.ylim([w2_min, w2_max])\n",
    "    # Dessin de 50 courbes de niveaux\n",
    "    plt.contour(w1_values, w2_values, fct_values, 50)\n",
    "    # Légendes\n",
    "    plt.colorbar()\n",
    "    plt.xlabel('$w1$')\n",
    "    plt.ylabel('$w2$')\n",
    "    \n",
    "# Fonction permettant de dessiner les données et la droites b+w1x1+w2x2=0\n",
    "def separation(b,w1,w2):\n",
    "    # Création de la fenêtre\n",
    "    plt.xlim([-2,2])\n",
    "    plt.ylim([-2,2])\n",
    "    # Dessin des données\n",
    "    mask=(Y==0)\n",
    "    plt.plot(X[mask, 0], X[mask, 1],'o',c='red',clip_on=True)\n",
    "    mask=(Y==1)\n",
    "    plt.plot(X[mask, 0], X[mask, 1],'o',c='blue',clip_on=True)\n",
    "    # Dessin de la droite d'équation b+w1x1+w2x2\n",
    "    # si elle n'est pas verticale, elle coupe les bords gauche et droit de la fenêtre\n",
    "    # en (-2,(-w1*(-2)-b)/w2) et (2,(-w1*2-b)/w2)\n",
    "    # sinon, elle coupe les bords bas et haut de la fenêtre\n",
    "    # en (-w2*(-2)-b)/w1,-2) et (-w2*2-b)/w1,2)\n",
    "    if (w2!=0):\n",
    "        plt.plot([-2,2],[(-w1*(-2)-b)/w2,(-w1*2-b)/w2],c=\"black\")\n",
    "    elif (w1!=0):\n",
    "            plt.plot([(-w2*(-2)-b)/w1,(-w2*2-b)/w1],[-2,2],c=\"black\")        \n",
    "    plt.show"
   ]
  },
  {
   "cell_type": "markdown",
   "metadata": {},
   "source": [
    "### Exercice\n",
    "Faire apparaitre dans la figure suivante \n",
    "le point (w1*,w2*) maximisant la vraisemblance, à une dizaine près,\n",
    "en explorant les valeurs de `b` et de la fenêtre `w1min,w1max,w2min,w2max`\n",
    "(des avertissements de division par zéro peuvent apparaître, ne pas en tenir compte)"
   ]
  },
  {
   "cell_type": "code",
   "execution_count": 9,
   "metadata": {
    "scrolled": false
   },
   "outputs": [
    {
     "name": "stderr",
     "output_type": "stream",
     "text": [
      "<ipython-input-7-4ee869cc4b27>:10: RuntimeWarning: divide by zero encountered in log\n",
      "  +(1-Y[j])*np.log(1-sigmoid(b+w1*X[j][0]+w2*X[j][1]))\n",
      "<ipython-input-7-4ee869cc4b27>:10: RuntimeWarning: invalid value encountered in multiply\n",
      "  +(1-Y[j])*np.log(1-sigmoid(b+w1*X[j][0]+w2*X[j][1]))\n"
     ]
    },
    {
     "data": {
      "image/png": "[encoded data removed]",
      "text/plain": [
       "<Figure size 432x288 with 2 Axes>"
      ]
     },
     "metadata": {
      "needs_background": "light"
     },
     "output_type": "display_data"
    }
   ],
   "source": [
    "# Courbes de niveaux de la log vraisemblance selon w1,w2, avec b fixé\n",
    "# Syntaxe :\n",
    "# niveaux(b,w1min,w1max,w2min,w2max)\n",
    "\n",
    "niveaux(0,-100,100,-100,100)"
   ]
  },
  {
   "cell_type": "markdown",
   "metadata": {},
   "source": [
    "### Exercice\n",
    "Faire apparaitre ci-dessous la droite $b+w_1x_1+w_2x_2=0$ trouvée par lecture graphique ci-dessus, et permettant de séparer au mieux les données"
   ]
  },
  {
   "cell_type": "code",
   "execution_count": 10,
   "metadata": {
    "scrolled": true
   },
   "outputs": [
    {
     "data": {
      "image/png": "[encoded data removed]",
      "text/plain": [
       "<Figure size 432x288 with 1 Axes>"
      ]
     },
     "metadata": {
      "needs_background": "light"
     },
     "output_type": "display_data"
    }
   ],
   "source": [
    "# Représentation de la droite b+w1*x1+w2*x2=0\n",
    "# separation(b,w1,w2)\n",
    "separation(1,1,1)"
   ]
  },
  {
   "cell_type": "markdown",
   "metadata": {
    "id": "LqRaPj_nX1sp"
   },
   "source": [
    "## Calcul du gradient"
   ]
  },
  {
   "cell_type": "markdown",
   "metadata": {},
   "source": [
    "### Exercice\n",
    "\n",
    "*Exercice à rendre sur papier (éventuellement à la fin du TP)*\n",
    "\n",
    "On rappelle ($\\log$ désigne le logarithme népérien) : $$\\sigma'(x)=\\sigma(x)(1-\\sigma(x))$$\n",
    "$$(u(v(x)))'=u'(v(x))\\times v'(x)$$\n",
    "$$LogV(b,W)=\\sum\\limits_j\\left(Y_j\\log(\\sigma(h(X_j)))+(1-Y_j)\\log(1-\\sigma(h(X_j)\\right)$$\n",
    "\n",
    "- En déduire $(\\sigma(u(x)))'$ et $(\\sigma(\\ln(u(x))))'$ pour une fonction $u(x)$\n",
    "- En déduire, en simplifiant au maximum les expressions obtenues :\n",
    "    - $\\frac{\\partial LogV(b,W)}{\\partial b}=\\sum\\limits_j\\left(Y_j-\\sigma(b+w_1x_{j1}+w_2x_{j_2}\\right)$\n",
    "    - $\\frac{\\partial LogV(b,W)}{\\partial w_1}=\\sum\\limits_j\\left(Y_j-\\sigma(b+w_1x_{j1}+w_2x_{j_2}\\right)x_{j1}$\n",
    "    - $\\frac{\\partial LogV(b,W)}{\\partial w_2}=\\sum\\limits_j\\left(Y_j-\\sigma(b+w_1x_{j1}+w_2x_{j_2}\\right)x_{j2}$\n",
    "- Compléter la cellule suivante avec les expressions des composantes du gradient"
   ]
  },
  {
   "cell_type": "code",
   "execution_count": 11,
   "metadata": {},
   "outputs": [],
   "source": [
    "# À compléter par le gradient obtenu dans l'exercice précédent\n",
    "\n",
    "def dLogV(b,w1,w2):\n",
    "    return [np.sum([Y[j]-sigmoid(b+w1*X[j][0]+w2*X[j][1])\n",
    "                   for j in range(len(X))]),\n",
    "            np.sum([(Y[j]-sigmoid(b+w1*X[j][0]+w2*X[j][1]))*X[j][0]\n",
    "                   for j in range(len(X))]),\n",
    "            np.sum([(Y[j]-sigmoid(b+w1*X[j][0]+w2*X[j][1]))*X[j][1]\n",
    "                   for j in range(len(X))])]"
   ]
  },
  {
   "cell_type": "markdown",
   "metadata": {},
   "source": [
    "## Algorithme de \"montée\" de gradient"
   ]
  },
  {
   "cell_type": "code",
   "execution_count": 12,
   "metadata": {
    "colab": {
     "base_uri": "https://localhost:8080/"
    },
    "executionInfo": {
     "elapsed": 594,
     "status": "ok",
     "timestamp": 1606832108296,
     "user": {
      "displayName": "Stephan Semirat",
      "photoUrl": "",
      "userId": "06413469689434144964"
     },
     "user_tz": -60
    },
    "id": "QfvzrSaAYmi3",
    "outputId": "0da3db24-cc70-4da8-ce4c-a9044844fce6"
   },
   "outputs": [],
   "source": [
    "def montee(b,w1,w2,tau=0.01,tolerance=1e-6,nbiterations=1000):\n",
    "    diverge=False\n",
    "    L=[]\n",
    "    for i in range(nbiterations):\n",
    "        g = dLogV(b,w1,w2)\n",
    "        try: # traitement des erreurs si l'algorithme diverge\n",
    "            L.append([b,w1,w2])\n",
    "            if g[0]**2+g[1]**2+g[2]**2<tolerance:\n",
    "                print('L\\'algorithme a convergé en',i,'itérations. \\nSolution atteinte :\\n b=',b,'\\n w1=',w1,'\\n w2=',w2,'\\nGradient :',g,'\\nNorme du gradient:',g[0]**2+g[1]**2+g[2]**2)\n",
    "                return L\n",
    "            b=b+tau*g[0]\n",
    "            w1=w1+tau*g[1]\n",
    "            w2=w2+tau*g[2]\n",
    "        except OverflowError as err: # traitement de l'erreur \"overflow\"\n",
    "            print('L\\'algorithme a divergé.\\n Solution atteinte :\\n b=',b,'\\n w1=',w1,'\\n w2=',w2,'\\nGradient :',g,'\\nNorme du gradient:',g[0]**2+g[1]**2+g[2]**2)\n",
    "            diverge=True\n",
    "            break\n",
    "    if (diverge==False):        \n",
    "        print('L\\'algorithme n\\'a pas convergé.\\n Solution atteinte :\\n b=',b,'\\n w1=',w1,'\\n w2=',w2,'\\nGradient :',g,'\\nNorme du gradient:',g[0]**2+g[1]**2+g[2]**2)\n",
    "    return L"
   ]
  },
  {
   "cell_type": "markdown",
   "metadata": {},
   "source": [
    "### Exercice \n",
    "Pourquoi doit-on dans l'algorithme mettre à jour les paramètres via la relation $$\\begin{cases}b[n+1]=b[n]+\\tau\\times\\frac{\\partial LogV}{\\partial b}\\\\w_1[n+1]=w_1[n]+\\tau\\times\\frac{\\partial LogV}{\\partial w_1}\\\\w_2[n+1]=w_2[n]+\\tau\\times\\frac{\\partial LogV}{\\partial w_2}\\end{cases}$$ c'est à dire effecuer une **montée** de gradient, contrairement à l'algorithme de *descente* de gradient vue en cours ?"
   ]
  },
  {
   "cell_type": "markdown",
   "metadata": {},
   "source": [
    "### *Réponse* :\n",
    "\n",
    "Explications :\n",
    "\n",
    "*(double cliquez pour compléter votre réponse, puis valider en éxecutant (CTR+ENTREE))*"
   ]
  },
  {
   "cell_type": "markdown",
   "metadata": {},
   "source": [
    "### Exercice\n",
    "Le graphique ci-dessous représente la droite $0+0x_1+1x_2=0$, associée aux paramètres $b=0$, $w_1=0$ et $w_2=1$.\n",
    "\n",
    "Quelle est le nombre d'erreurs de classification des données de la régression $X\\mapsto \\sigma(0+0x_1+1x_2)$ ?"
   ]
  },
  {
   "cell_type": "markdown",
   "metadata": {},
   "source": [
    "### *Réponse* :\n",
    "\n",
    "- Nombre de faux positifs (Y=1 calculé, Y=0 observé) : \n",
    "- Nombre de faux négatifs (Y=0 calculé, Y=1 observé) :\n",
    "- Nombre total d'erreurs : \n",
    "\n",
    "*(double cliquer pour compléter votre réponse, puis valider en exécutant (CTRL+ENTREE))*"
   ]
  },
  {
   "cell_type": "code",
   "execution_count": 13,
   "metadata": {
    "scrolled": true
   },
   "outputs": [
    {
     "data": {
      "image/png": "[encoded data removed]",
      "text/plain": [
       "<Figure size 432x288 with 1 Axes>"
      ]
     },
     "metadata": {
      "needs_background": "light"
     },
     "output_type": "display_data"
    }
   ],
   "source": [
    "separation(0,0,1)"
   ]
  },
  {
   "cell_type": "markdown",
   "metadata": {},
   "source": [
    "### Exercice\n",
    "\n",
    "Utiliser la fonction `montee` pour retrouver la solution trouvée dans l'exploration graphique ci-dessus, en initilisant l'algorithme à $b=0$, $w_1=0$, $w_2=1$, avec une tolérance de $10^{-5}$ et un pas $\\tau$ et nombre d'itérations tels que l'algorithme converge"
   ]
  },
  {
   "cell_type": "code",
   "execution_count": 14,
   "metadata": {
    "colab": {
     "base_uri": "https://localhost:8080/",
     "height": 297
    },
    "executionInfo": {
     "elapsed": 1591,
     "status": "ok",
     "timestamp": 1606832068149,
     "user": {
      "displayName": "Stephan Semirat",
      "photoUrl": "",
      "userId": "06413469689434144964"
     },
     "user_tz": -60
    },
    "id": "C2x73vQkpWaZ",
    "outputId": "434d768d-3865-4b9d-be7c-bd45b3376310",
    "scrolled": false
   },
   "outputs": [
    {
     "name": "stdout",
     "output_type": "stream",
     "text": [
      "L'algorithme n'a pas convergé.\n",
      " Solution atteinte :\n",
      " b= -1.5360648528727066 \n",
      " w1= 14.597612986927189 \n",
      " w2= 5.647871954207371 \n",
      "Gradient : [-0.008119881535119918, 0.0545282685710194, 0.01428163622415604] \n",
      "Norme du gradient: 0.0032432296827367294\n"
     ]
    }
   ],
   "source": [
    "# Syntaxe : montee(b,w1,w2,tau,tolerance,nbiterations)\n",
    "\n",
    "Wi=montee(0,0,1,0.1,1e-5,1000)"
   ]
  },
  {
   "cell_type": "markdown",
   "metadata": {},
   "source": [
    "### Exercice\n",
    "\n",
    "- Quelle est l'équation de la droite obtenue par l'algorithme ?\n",
    "- Est-ce la même droite que celle que vous avez déterminée dans l'exploration graphique ? Commentez"
   ]
  },
  {
   "cell_type": "markdown",
   "metadata": {},
   "source": [
    "### *Réponse* :\n",
    "\n",
    "Equation obtenue par l'algorithme :\n",
    "\n",
    "Commentaire :\n",
    "\n",
    "*(double cliquer pour compléter votre réponse, puis valider en exécutant (CTRL+ENTREE)*"
   ]
  },
  {
   "cell_type": "markdown",
   "metadata": {
    "id": "zF_q_GCtZqBq"
   },
   "source": [
    "### Représentation graphique de l'algorithme et de la solution"
   ]
  },
  {
   "cell_type": "code",
   "execution_count": 15,
   "metadata": {
    "colab": {
     "base_uri": "https://localhost:8080/"
    },
    "executionInfo": {
     "elapsed": 546,
     "status": "ok",
     "timestamp": 1606829356585,
     "user": {
      "displayName": "Stephan Semirat",
      "photoUrl": "",
      "userId": "06413469689434144964"
     },
     "user_tz": -60
    },
    "id": "cdQ4pmz_ZtC8",
    "outputId": "eb5374bb-2117-47f6-f576-ded80b5d08a1",
    "scrolled": true
   },
   "outputs": [
    {
     "data": {
      "text/plain": [
       "<function matplotlib.pyplot.show(*args, **kw)>"
      ]
     },
     "execution_count": 15,
     "metadata": {},
     "output_type": "execute_result"
    },
    {
     "data": {
      "image/png": "[encoded data removed]",
      "text/plain": [
       "<Figure size 432x288 with 1 Axes>"
      ]
     },
     "metadata": {
      "needs_background": "light"
     },
     "output_type": "display_data"
    }
   ],
   "source": [
    "# Création de la fenêtre\n",
    "plt.xlim([-2,2])\n",
    "plt.ylim([-2,2])\n",
    "\n",
    "#Affichage des données\n",
    "mask=(Y==0)\n",
    "plt.plot(X[mask, 0], X[mask, 1],'o',c='red',clip_on=True)\n",
    "mask=(Y==1)\n",
    "plt.plot(X[mask, 0], X[mask, 1],'o',c='blue',clip_on=True)\n",
    "\n",
    "# Affichage de l'algorithme\n",
    "# on choisit 100 valeurs de b,w1,w2 obtenues par la descente de gradient\n",
    "# c'est à dire 100 équations b+w1x1+w2x2=0 visant à séparer les données\n",
    "for i in np.linspace(0,len(Wi)-1,100):\n",
    "    W=Wi[i.astype(int)]\n",
    "    b,w1,w2=W[0],W[1],W[2]\n",
    "    if (w2!=0):\n",
    "        plt.plot([-2,2],[(-w1*(-2)-b)/w2,(-w1*2-b)/w2],c=\"black\",alpha=0.1+0.9*i/(len(Wi)-1))\n",
    "    elif (w1!=0):\n",
    "        plt.plot([(-w2*(-2)-b)/w1,(-w2*2-b)/w1],[-2,2],c=\"black\",alpha=0.1+0.9*i/(len(Wi)-1))        \n",
    "    # alpha est un paramètre de transparence variant ici de 0.1 à 0.9 avec la valeur de i\n",
    "plt.show"
   ]
  },
  {
   "cell_type": "markdown",
   "metadata": {},
   "source": [
    "### Exercice\n",
    "\n",
    "Quel est le nombre d'erreurs de la régression obtenue ?\n",
    "\n",
    "La régression optimale peut en effet, selon les données, conserver des erreurs : pour quels types d'ensemble de données, et pourquoi ?"
   ]
  },
  {
   "cell_type": "markdown",
   "metadata": {},
   "source": [
    "### *Réponse* :\n",
    "\n",
    "- Nombre de faux positifs (Y=1 calculé, Y=0 observé) : \n",
    "- Nombre de faux négatifs (Y=0 calculé, Y=1 observé) :\n",
    "- Nombre total d'erreurs : \n",
    "\n",
    "Explications :\n",
    "\n",
    "\n",
    "\n",
    "*(double cliquer pour compléter votre réponse, puis valider en exécutant (CTRL+ENTREE))*"
   ]
  }
 ],
 "metadata": {
  "colab": {
   "authorship_tag": "ABX9TyOL5iJTlZCmM9764vTsZljv",
   "collapsed_sections": [],
   "name": "descente-deux-variables.ipynb",
   "provenance": [
    {
     "file_id": "164i4yxW6Yks9BXBhzNAJHUMyX1UBjEp3",
     "timestamp": 1606828072802
    }
   ]
  },
  "kernelspec": {
   "display_name": "Python 3",
   "language": "python",
   "name": "python3"
  },
  "language_info": {
   "codemirror_mode": {
    "name": "ipython",
    "version": 3
   },
   "file_extension": ".py",
   "mimetype": "text/x-python",
   "name": "python",
   "nbconvert_exporter": "python",
   "pygments_lexer": "ipython3",
   "version": "3.8.3"
  }
 },
 "nbformat": 4,
 "nbformat_minor": 1
}
