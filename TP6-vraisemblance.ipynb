{
 "cells": [
  {
   "cell_type": "markdown",
   "metadata": {},
   "source": [
    "# TP6 : Maximum de vraisemblance"
   ]
  },
  {
   "cell_type": "markdown",
   "metadata": {},
   "source": [
    "## Nom : Balmondo\n",
    "## Prénom : JP\n",
    "## Groupe : A1\n",
    "\n",
    "*(double cliquer pour compléter vos noms et groupe, puis valider en exécutant (CTRL+ENTREE))*"
   ]
  },
  {
   "cell_type": "code",
   "execution_count": 1,
   "metadata": {
    "executionInfo": {
     "elapsed": 530,
     "status": "ok",
     "timestamp": 1606831889555,
     "user": {
      "displayName": "Stephan Semirat",
      "photoUrl": "",
      "userId": "06413469689434144964"
     },
     "user_tz": -60
    },
    "id": "Zupdaax6Xf8b"
   },
   "outputs": [],
   "source": [
    "# Chargement des librairies\n",
    "from matplotlib import pyplot as plt\n",
    "import numpy as np\n",
    "from sklearn.datasets import make_blobs"
   ]
  },
  {
   "cell_type": "code",
   "execution_count": 2,
   "metadata": {
    "scrolled": true
   },
   "outputs": [
    {
     "name": "stdout",
     "output_type": "stream",
     "text": [
      "Liste des [x1j,x2j] (à copier coller dans la cellule ci-dessous): \n",
      "\n",
      " [[-0.54139596, 0.1663653 ], [ 0.38497392, 0.29226603], [-1.33735978,-0.79286683], [-1.29284494,-0.68191309], [-0.09587002, 1.15460404], [-0.72467463,-1.18076461], [-0.43172706, 0.76377998], [-0.97945086,-0.63866423], [ 0.337363  , 0.27533122], [-0.80811735,-0.39270169], [ 0.61781485, 0.12916074], [-1.02183894,-0.20800627], [ 0.59134461, 0.90292168], [-1.36031686, 0.73555023], [ 0.28849044,-0.00573173], [ 0.70554149, 0.18489408], [ 0.26086512, 0.52761918], [-0.37237938,-0.44670127], [ 1.37334382,-0.25740515], [ 1.74804526, 0.95054163]]\n",
      "\n",
      "Liste des Yj (à copier coller dans la cellule ci-dessous): \n",
      "\n",
      " [0,1,0,0,1,0,0,0,1,0,1,0,1,0,1,1,1,0,1,1]\n"
     ]
    }
   ],
   "source": [
    "# Cette cellule n'est à exécuter qu'une fois afin de générer des données aléatoires,\n",
    "# et afin de les recopier dans la cellule suivante\n",
    "\n",
    "# Création aléatoire des données :\n",
    "# génère 20 données (Xj,Yj), avec Xj=(xj1,xj2), Y=0 ou 1\n",
    "# données centrées autour de 2 centres\n",
    "X, Y = make_blobs(n_samples=20, centers=[[-0.5,-0.5],[0.5,0.5]], n_features=2, cluster_std=0.5,center_box=(-1, 1.0))\n",
    "print('Liste des [x1j,x2j] (à copier coller dans la cellule ci-dessous): \\n\\n',np.array2string(X,separator=',',max_line_width=10000).replace('\\n', ''))\n",
    "print('\\nListe des Yj (à copier coller dans la cellule ci-dessous): \\n\\n',np.array2string(Y,separator=',',max_line_width=10000).replace('\\n', ''))"
   ]
  },
  {
   "cell_type": "code",
   "execution_count": 3,
   "metadata": {},
   "outputs": [],
   "source": [
    "# Modifier en copiant collant avec les données générées aléatoirement ci-dessus\n",
    "X=np.array([[-0.54139596, 0.1663653 ], [ 0.38497392, 0.29226603], [-1.33735978,-0.79286683], [-1.29284494,-0.68191309], [-0.09587002, 1.15460404], [-0.72467463,-1.18076461], [-0.43172706, 0.76377998], [-0.97945086,-0.63866423], [ 0.337363  , 0.27533122], [-0.80811735,-0.39270169], [ 0.61781485, 0.12916074], [-1.02183894,-0.20800627], [ 0.59134461, 0.90292168], [-1.36031686, 0.73555023], [ 0.28849044,-0.00573173], [ 0.70554149, 0.18489408], [ 0.26086512, 0.52761918], [-0.37237938,-0.44670127], [ 1.37334382,-0.25740515], [ 1.74804526, 0.95054163]])\n",
    "Y=np.array([0,1,0,0,1,0,0,0,1,0,1,0,1,0,1,1,1,0,1,1])"
   ]
  },
  {
   "cell_type": "code",
   "execution_count": 4,
   "metadata": {},
   "outputs": [
    {
     "data": {
      "text/plain": [
       "[<matplotlib.lines.Line2D at 0x2b9103d7160>]"
      ]
     },
     "execution_count": 4,
     "metadata": {},
     "output_type": "execute_result"
    },
    {
     "data": {
      "image/png": "[encoded data removed]",
      "text/plain": [
       "<Figure size 432x288 with 1 Axes>"
      ]
     },
     "metadata": {
      "needs_background": "light"
     },
     "output_type": "display_data"
    }
   ],
   "source": [
    "# Visualisation des données\n",
    "\n",
    "# Création de la fenêtre\n",
    "plt.xlim([-2,2])\n",
    "plt.ylim([-2,2])\n",
    "\n",
    "# Création d'un \"masque\" permettant d'identifier les X associés à Y=0, et affichage en rouge\n",
    "mask=(Y==0)\n",
    "plt.plot(X[mask, 0], X[mask, 1],'o',c='red')\n",
    "\n",
    "# Création d'un \"masque\" permettant d'identifier les X associés à Y=1, et affichage en bleu\n",
    "mask=(Y==1)\n",
    "\n",
    "# Dessin des données\n",
    "plt.plot(X[mask, 0], X[mask, 1],'o',c='blue')"
   ]
  },
  {
   "cell_type": "markdown",
   "metadata": {},
   "source": [
    "### Exercice\n",
    "D'après vos données, proposer des paramètres $b$, $w_1$ et $w_2$ tels que la fonction $$X=\\begin{pmatrix}x_1\\\\x_2\\end{pmatrix}\\mapsto \\sigma(b+w_1x_1+w_2x_2)$$ sépare au mieux les valeurs $(x_1,x_2,Y=0)$ des valeurs $(x_1,x_2,Y=1)$\n",
    "\n",
    "Rappel : $\\sigma(A)$ est \"proche\" de $0$ pour $A$ suffisamment négatif, et $\\sigma(A)$ est \"proche\" de $1$ pour $A$ suffisammen positif"
   ]
  },
  {
   "cell_type": "markdown",
   "metadata": {},
   "source": [
    "### *Reponse* :\n",
    "- b= 10\n",
    "- w1= 25\n",
    "- w2= 40\n",
    "\n",
    "*(double cliquer pour compléter votre réponse, puis valider en exécutant (CTRL+ENTREE))*"
   ]
  },
  {
   "cell_type": "markdown",
   "metadata": {},
   "source": [
    "## Maximum de vraisemblance\n",
    "\n",
    "On cherche $(b,w_1,w_2)$ tel que pour chacune des données $X_j=\\begin{pmatrix}X_{j1}&X_{j2}\\end{pmatrix}$, $Y_j\\in\\{0,1\\}$, \n",
    "$$\\sigma(b+w_1X_{i1}+w_2X_{i2})\\simeq Y_i$$\n",
    "\n",
    "Pour ce faire, on pose $h(X)=b+w_1x_1+w_2x_2$ et on considère la log-vraisemblance :\n",
    "$$LogV(b,W)=\\sum\\limits_j\\left(Y_j\\log(\\sigma(h(X_j)))+(1-Y_j)\\log(1-\\sigma(h(X_j)\\right)$$\n",
    "qu'on cherche à maximiser"
   ]
  },
  {
   "cell_type": "markdown",
   "metadata": {},
   "source": [
    "### Exercice\n",
    "\n",
    "Que mesure la vraisemblance, et donc la log-vraisemblance ?\n",
    "\n",
    "Indication : une probabilité, laquelle ?"
   ]
  },
  {
   "cell_type": "markdown",
   "metadata": {},
   "source": [
    "### Réponse :\n",
    "\n",
    "La vraisemblance mesure  la probabilité que les arbres soient grands\n",
    "\n",
    "(double cliquer pour compléter votre réponse, puis valider en exécutant (CTRL+ENTREE))"
   ]
  },
  {
   "cell_type": "code",
   "execution_count": 5,
   "metadata": {
    "executionInfo": {
     "elapsed": 574,
     "status": "ok",
     "timestamp": 1606831895405,
     "user": {
      "displayName": "Stephan Semirat",
      "photoUrl": "",
      "userId": "06413469689434144964"
     },
     "user_tz": -60
    },
    "id": "x8vrszX1Xo7B"
   },
   "outputs": [],
   "source": [
    "# Définition des fonctions\n",
    "\n",
    "# Fonction sigmoïde\n",
    "def sigmoid(x):\n",
    "    return 1/(1+np.exp(-x))\n",
    "\n",
    "# Log-Vraisemblance\n",
    "def LogV(b,w1,w2):\n",
    "    return np.sum([Y[j]*np.log(sigmoid(b+w1*X[j][0]+w2*X[j][1]))\n",
    "                   +(1-Y[j])*np.log(1-sigmoid(b+w1*X[j][0]+w2*X[j][1]))\n",
    "                   for j in range(len(X))])\n"
   ]
  },
  {
   "cell_type": "code",
   "execution_count": 6,
   "metadata": {},
   "outputs": [],
   "source": [
    "# Fonction permettant de représenter les courbes de niveau de $(w_1,w_2)-->LogV(b,w1,w2)\n",
    "# paramétrées par b\n",
    "\n",
    "def niveaux(b, w1_min=-5, w1_max=5, w2_min=-5, w2_max=5):\n",
    "    # Tableau de valeur à 2 variables\n",
    "    w1_values = np.linspace(w1_min, w1_max,100)\n",
    "    w2_values = np.linspace(w2_min, w2_max,100)\n",
    "    fct_values = [[LogV(b,w1,w2) for w1 in w1_values] for w2 in w2_values]\n",
    "    # Fenêtre\n",
    "    plt.xlim([w1_min, w1_max])\n",
    "    plt.ylim([w2_min, w2_max])\n",
    "    # Dessin de 50 courbes de niveaux\n",
    "    plt.contour(w1_values, w2_values, fct_values, 50)\n",
    "    # Légendes\n",
    "    plt.colorbar()\n",
    "    plt.xlabel('$w1$')\n",
    "    plt.ylabel('$w2$')\n",
    "    \n",
    "# Fonction permettant de représenter les données (Xj,Yj) ainsi que la droite b+w1x1+w2x2=0\n",
    "def separation(b,w1,w2):\n",
    "    # Création de la fenêtre\n",
    "    plt.xlim([-2,2])\n",
    "    plt.ylim([-2,2])\n",
    "    # Dessin des données\n",
    "    mask=(Y==0)\n",
    "    plt.plot(X[mask, 0], X[mask, 1],'o',c='red',clip_on=True)\n",
    "    mask=(Y==1)\n",
    "    plt.plot(X[mask, 0], X[mask, 1],'o',c='blue',clip_on=True)\n",
    "    # Dessin de la droite d'équation b+w1x1+w2x2\n",
    "    # si elle n'est pas verticale, elle coupe les bords gauche et droit de la fenêtre\n",
    "    # en (-2,(-w1*(-2)-b)/w2) et (2,(-w1*2-b)/w2)\n",
    "    # sinon, elle coupe les bords bas et haut de la fenêtre\n",
    "    # en (-w2*(-2)-b)/w1,-2) et (-w2*2-b)/w1,2)\n",
    "    if (w2!=0):\n",
    "        plt.plot([-2,2],[(-w1*(-2)-b)/w2,(-w1*2-b)/w2],c=\"black\")\n",
    "    elif (w1!=0):\n",
    "            plt.plot([(-w2*(-2)-b)/w1,(-w2*2-b)/w1],[-2,2],c=\"black\")        \n",
    "    plt.show"
   ]
  },
  {
   "cell_type": "markdown",
   "metadata": {},
   "source": [
    "### Exercice\n",
    "Faire apparaitre dans la figure suivante \n",
    "le point (w1*,w2*) maximisant la log-vraisemblance, à la dizaine près,\n",
    "en explorant les valeurs de `b` et de la fenêtre `w1min,w1max,w2min,w2max`\n",
    "(des avertissements de division par zéro peuvent apparaître, ne pas en tenir compte)"
   ]
  },
  {
   "cell_type": "code",
   "execution_count": 18,
   "metadata": {
    "scrolled": false
   },
   "outputs": [
    {
     "name": "stderr",
     "output_type": "stream",
     "text": [
      "<ipython-input-5-4ee869cc4b27>:10: RuntimeWarning: divide by zero encountered in log\n",
      "  +(1-Y[j])*np.log(1-sigmoid(b+w1*X[j][0]+w2*X[j][1]))\n",
      "<ipython-input-5-4ee869cc4b27>:10: RuntimeWarning: invalid value encountered in multiply\n",
      "  +(1-Y[j])*np.log(1-sigmoid(b+w1*X[j][0]+w2*X[j][1]))\n"
     ]
    },
    {
     "data": {
      "image/png": "[encoded data removed]",
      "text/plain": [
       "<Figure size 432x288 with 2 Axes>"
      ]
     },
     "metadata": {
      "needs_background": "light"
     },
     "output_type": "display_data"
    }
   ],
   "source": [
    "# Courbes de niveaux de la log vraisemblance selon w1,w2, pour b fixé\n",
    "# Syntaxe :\n",
    "# niveaux(b,w1min,w1max,w2min,w2max)\n",
    "\n",
    "niveaux(1,10,30,0,10)"
   ]
  },
  {
   "cell_type": "markdown",
   "metadata": {},
   "source": [
    "### Exercice\n",
    "Faire apparaitre ci-dessous la droite $b+w_1x_1+w_2x_2=0$ trouvée par lecture graphique ci-dessus, et permettant de séparer au mieux les données"
   ]
  },
  {
   "cell_type": "code",
   "execution_count": 19,
   "metadata": {
    "scrolled": true
   },
   "outputs": [
    {
     "data": {
      "image/png": "[encoded data removed]",
      "text/plain": [
       "<Figure size 432x288 with 1 Axes>"
      ]
     },
     "metadata": {
      "needs_background": "light"
     },
     "output_type": "display_data"
    }
   ],
   "source": [
    "# Représentation des données et de la droite b+w1*x1+w2*x2=0\n",
    "# Syntaxe : separation(b,w1,w2)\n",
    "separation(1,20,5)"
   ]
  },
  {
   "cell_type": "markdown",
   "metadata": {
    "id": "LqRaPj_nX1sp"
   },
   "source": [
    "## Calcul du gradient"
   ]
  },
  {
   "cell_type": "markdown",
   "metadata": {},
   "source": [
    "### Exercice\n",
    "\n",
    "*Exercice à rendre sur papier (s'il vous reste du temps à la fin du TP)*\n",
    "\n",
    "On rappelle ($\\log$ désigne le logarithme népérien) : $$\\sigma'(x)=\\sigma(x)(1-\\sigma(x))$$\n",
    "$$(u(v(x)))'=u'(v(x))\\times v'(x)$$\n",
    "$$LogV(b,W)=\\sum\\limits_j\\left(Y_j\\log(\\sigma(h(X_j)))+(1-Y_j)\\log(1-\\sigma(h(X_j)\\right)$$\n",
    "\n",
    "- En déduire $(\\sigma(u(x)))'$ et $(\\sigma(\\ln(u(x))))'$ pour une fonction $u(x)$\n",
    "- En déduire, en simplifiant au maximum les expressions obtenues :\n",
    "    - $\\frac{\\partial LogV(b,W)}{\\partial b}=\\sum\\limits_j\\left(Y_j-\\sigma(b+w_1x_{j1}+w_2x_{j_2}\\right)$\n",
    "    - $\\frac{\\partial LogV(b,W)}{\\partial w_1}=\\sum\\limits_j\\left(Y_j-\\sigma(b+w_1x_{j1}+w_2x_{j_2}\\right)x_{j1}$\n",
    "    - $\\frac{\\partial LogV(b,W)}{\\partial w_2}=\\sum\\limits_j\\left(Y_j-\\sigma(b+w_1x_{j1}+w_2x_{j_2}\\right)x_{j2}$\n",
    "- Compléter la cellule suivante avec les expressions des composantes du gradient"
   ]
  },
  {
   "cell_type": "code",
   "execution_count": 23,
   "metadata": {},
   "outputs": [],
   "source": [
    "# À compléter par le gradient obtenu dans l'exercice précédent\n",
    "# vous pouvez tester la syntaxe de ce que vous écrivez grace à la cellule suivante\n",
    "def dLogV(b,w1,w2):\n",
    "    return [np.sum([Y[j]-sigmoid(b+w1*X[j][0]+w2*X[j][1]) for j in range(len(X))]), # DLogV/db\n",
    "            np.sum([(Y[j]-sigmoid(b+w1*X[j][0]+w2*X[j][1]))*X[j][0] for j in range(len(X))]), # Autre débilité\n",
    "            np.sum([(Y[j]-sigmoid(b+w1*X[j][0]+w2*X[j][1]))*X[j][0] for j in range(len(X))]) # dernière débilité\n",
    "           ] "
   ]
  },
  {
   "cell_type": "code",
   "execution_count": 24,
   "metadata": {},
   "outputs": [
    {
     "name": "stdout",
     "output_type": "stream",
     "text": [
      "Gradient en b=1,w1=1,w1=2 :  [-3.1110927946445623, 3.8607757751622698, 3.8607757751622698]\n"
     ]
    }
   ],
   "source": [
    "# Tester si la syntaxe de dLogV est correcte :\n",
    "print('Gradient en b=1,w1=1,w1=2 : ',dLogV(1,1,2))"
   ]
  },
  {
   "cell_type": "markdown",
   "metadata": {},
   "source": [
    "## Algorithme de \"montée\" de gradient"
   ]
  },
  {
   "cell_type": "code",
   "execution_count": 25,
   "metadata": {
    "colab": {
     "base_uri": "https://localhost:8080/"
    },
    "executionInfo": {
     "elapsed": 594,
     "status": "ok",
     "timestamp": 1606832108296,
     "user": {
      "displayName": "Stephan Semirat",
      "photoUrl": "",
      "userId": "06413469689434144964"
     },
     "user_tz": -60
    },
    "id": "QfvzrSaAYmi3",
    "outputId": "0da3db24-cc70-4da8-ce4c-a9044844fce6"
   },
   "outputs": [],
   "source": [
    "def montee(b,w1,w2,tau=0.01,tolerance=1e-6,nbiterations=1000):\n",
    "    diverge=False\n",
    "    L=[]\n",
    "    for i in range(nbiterations):\n",
    "        g = dLogV(b,w1,w2)\n",
    "        try: # traitement des erreurs si l'algorithme diverge\n",
    "            L.append([b,w1,w2])\n",
    "            if g[0]**2+g[1]**2+g[2]**2<tolerance:\n",
    "                print('L\\'algorithme a convergé en',i,'itérations. \\nSolution atteinte :\\n b=',b,'\\n w1=',w1,'\\n w2=',w2,'\\nGradient :',g,'\\nNorme du gradient:',g[0]**2+g[1]**2+g[2]**2)\n",
    "                return L\n",
    "            b=b+tau*g[0]\n",
    "            w1=w1+tau*g[1]\n",
    "            w2=w2+tau*g[2]\n",
    "        except OverflowError as err: # traitement de l'erreur \"overflow\"\n",
    "            print('L\\'algorithme a divergé.\\n Solution atteinte :\\n b=',b,'\\n w1=',w1,'\\n w2=',w2,'\\nGradient :',g,'\\nNorme du gradient:',g[0]**2+g[1]**2+g[2]**2)\n",
    "            diverge=True\n",
    "            break\n",
    "    if (diverge==False):        \n",
    "        print('L\\'algorithme n\\'a pas convergé.\\n Solution atteinte :\\n b=',b,'\\n w1=',w1,'\\n w2=',w2,'\\nGradient :',g,'\\nNorme du gradient:',g[0]**2+g[1]**2+g[2]**2)\n",
    "    return L"
   ]
  },
  {
   "cell_type": "markdown",
   "metadata": {},
   "source": [
    "### Exercice \n",
    "Pourquoi doit-on dans l'algorithme mettre à jour les paramètres via la relation $$\\begin{cases}b[n+1]=b[n]+\\tau\\times\\frac{\\partial LogV}{\\partial b}\\\\w_1[n+1]=w_1[n]+\\tau\\times\\frac{\\partial LogV}{\\partial w_1}\\\\w_2[n+1]=w_2[n]+\\tau\\times\\frac{\\partial LogV}{\\partial w_2}\\end{cases}$$ c'est à dire effecuer une **montée** de gradient, contrairement à l'algorithme de *descente* de gradient vue en cours ?"
   ]
  },
  {
   "cell_type": "markdown",
   "metadata": {},
   "source": [
    "### *Réponse* :\n",
    "\n",
    "Explications :\n",
    "Parce que c'est plus fatiguant"
   ]
  },
  {
   "cell_type": "markdown",
   "metadata": {},
   "source": [
    "### Exercice\n",
    "Le graphique *ci-dessous* représente la droite $0+0x_1+1x_2=0$, associée aux paramètres $b=0$, $w_1=0$ et $w_2=1$.\n",
    "\n",
    "Quel est le nombre d'erreurs de classification des données de la régression $X\\mapsto \\sigma(0+0x_1+1x_2)$ pour ces valeurs des paramètres ?"
   ]
  },
  {
   "cell_type": "markdown",
   "metadata": {},
   "source": [
    "### *Réponse* : (sur le schéma : Y=1 observé en bleu, Y=0 observé en rouge)\n",
    "\n",
    "- Nombre de faux positifs (Y=1 calculé, Y=0 observé) : 8 (n'importe quoi)\n",
    "- Nombre de faux négatifs (Y=0 calculé, Y=1 observé) : 2\n",
    "- Nombre total d'erreurs : 10\n",
    "\n",
    "*(double cliquer pour compléter votre réponse, puis valider en exécutant (CTRL+ENTREE))*"
   ]
  },
  {
   "cell_type": "code",
   "execution_count": 26,
   "metadata": {
    "scrolled": true
   },
   "outputs": [
    {
     "data": {
      "image/png": "[encoded data removed]",
      "text/plain": [
       "<Figure size 432x288 with 1 Axes>"
      ]
     },
     "metadata": {
      "needs_background": "light"
     },
     "output_type": "display_data"
    }
   ],
   "source": [
    "separation(0,0,1)"
   ]
  },
  {
   "cell_type": "markdown",
   "metadata": {},
   "source": [
    "### Exercice\n",
    "\n",
    "Utiliser la fonction `montee` pour retrouver la solution trouvée dans l'exploration graphique (début du TP), en initilisant l'algorithme à $b=0$, $w_1=0$, $w_2=1$, avec une tolérance de $10^{-5}$ et un pas $\\tau$ et nombre d'itérations tels que l'algorithme converge"
   ]
  },
  {
   "cell_type": "code",
   "execution_count": 53,
   "metadata": {
    "colab": {
     "base_uri": "https://localhost:8080/",
     "height": 297
    },
    "executionInfo": {
     "elapsed": 1591,
     "status": "ok",
     "timestamp": 1606832068149,
     "user": {
      "displayName": "Stephan Semirat",
      "photoUrl": "",
      "userId": "06413469689434144964"
     },
     "user_tz": -60
    },
    "id": "C2x73vQkpWaZ",
    "outputId": "434d768d-3865-4b9d-be7c-bd45b3376310",
    "scrolled": false
   },
   "outputs": [
    {
     "name": "stderr",
     "output_type": "stream",
     "text": [
      "<ipython-input-5-4ee869cc4b27>:5: RuntimeWarning: overflow encountered in exp\n",
      "  return 1/(1+np.exp(-x))\n"
     ]
    },
    {
     "name": "stdout",
     "output_type": "stream",
     "text": [
      "L'algorithme n'a pas convergé.\n",
      " Solution atteinte :\n",
      " b= -92.76681471350669 \n",
      " w1= 322.9303822652933 \n",
      " w2= 323.9303822652934 \n",
      "Gradient : [-0.18828848333376025, 0.6658978967229335, 0.6658978967229335] \n",
      "Norme du gradient: 0.922292570676181\n"
     ]
    }
   ],
   "source": [
    "# Syntaxe : montee(b,w1,w2,tau,tolerance,nbiterations)\n",
    "\n",
    "Wi=montee(0,0,1,0.05,1e-5,10000)"
   ]
  },
  {
   "cell_type": "markdown",
   "metadata": {},
   "source": [
    "### Exercice\n",
    "\n",
    "- Quelle est l'équation de la droite obtenue par l'algorithme ?\n",
    "- Est-ce la même droite que celle que vous avez déterminée dans l'exploration graphique ? Commentez"
   ]
  },
  {
   "cell_type": "markdown",
   "metadata": {},
   "source": [
    "### *Réponse* :\n",
    "\n",
    "Equation obtenue par l'algorithme :\n",
    "\n",
    "Commentaire :\n",
    "\n",
    "*(double cliquer pour compléter votre réponse, puis valider en exécutant (CTRL+ENTREE)*"
   ]
  },
  {
   "cell_type": "markdown",
   "metadata": {
    "id": "zF_q_GCtZqBq"
   },
   "source": [
    "### Représentation graphique de l'algorithme et de la solution"
   ]
  },
  {
   "cell_type": "code",
   "execution_count": 54,
   "metadata": {
    "colab": {
     "base_uri": "https://localhost:8080/"
    },
    "executionInfo": {
     "elapsed": 546,
     "status": "ok",
     "timestamp": 1606829356585,
     "user": {
      "displayName": "Stephan Semirat",
      "photoUrl": "",
      "userId": "06413469689434144964"
     },
     "user_tz": -60
    },
    "id": "cdQ4pmz_ZtC8",
    "outputId": "eb5374bb-2117-47f6-f576-ded80b5d08a1",
    "scrolled": true
   },
   "outputs": [
    {
     "data": {
      "text/plain": [
       "<function matplotlib.pyplot.show(*args, **kw)>"
      ]
     },
     "execution_count": 54,
     "metadata": {},
     "output_type": "execute_result"
    },
    {
     "data": {
      "image/png": "[encoded data removed]",
      "text/plain": [
       "<Figure size 432x288 with 1 Axes>"
      ]
     },
     "metadata": {
      "needs_background": "light"
     },
     "output_type": "display_data"
    }
   ],
   "source": [
    "# Création de la fenêtre\n",
    "plt.xlim([-2,2])\n",
    "plt.ylim([-2,2])\n",
    "\n",
    "#Affichage des données\n",
    "mask=(Y==0)\n",
    "plt.plot(X[mask, 0], X[mask, 1],'o',c='red',clip_on=True)\n",
    "mask=(Y==1)\n",
    "plt.plot(X[mask, 0], X[mask, 1],'o',c='blue',clip_on=True)\n",
    "\n",
    "# Affichage de l'algorithme\n",
    "# on choisit 100 valeurs de b,w1,w2 obtenues par la descente de gradient\n",
    "# c'est à dire 100 équations b+w1x1+w2x2=0 visant à séparer les données\n",
    "for i in np.linspace(0,len(Wi)-1,100):\n",
    "    W=Wi[i.astype(int)]\n",
    "    b,w1,w2=W[0],W[1],W[2]\n",
    "    if (w2!=0):\n",
    "        plt.plot([-2,2],[(-w1*(-2)-b)/w2,(-w1*2-b)/w2],c=\"black\",alpha=0.1+0.9*i/(len(Wi)-1))\n",
    "    elif (w1!=0):\n",
    "        plt.plot([(-w2*(-2)-b)/w1,(-w2*2-b)/w1],[-2,2],c=\"black\",alpha=0.1+0.9*i/(len(Wi)-1))        \n",
    "    # alpha est un paramètre de transparence variant ici de 0.1 à 0.9 avec la valeur de i\n",
    "plt.show"
   ]
  },
  {
   "cell_type": "markdown",
   "metadata": {},
   "source": [
    "### Exercice\n",
    "\n",
    "La régression optimale, selon les données, conserver des erreurs : pour quels types d'ensemble de données, et pourquoi ?\n",
    "\n",
    "Quel est le nombre d'erreurs de classification de la régression obtenue par l'algorithme ?"
   ]
  },
  {
   "cell_type": "markdown",
   "metadata": {},
   "source": [
    "### *Réponse* :\n",
    "\n",
    "Explications (pourquoi il peut rester des erreurs) :\n",
    "\n",
    "\n",
    "Nombre d'erreurs de la classification trouvée par l'algorithme :\n",
    "- Nombre de faux positifs (Y=1 calculé, Y=0 observé) : \n",
    "- Nombre de faux négatifs (Y=0 calculé, Y=1 observé) :\n",
    "- Nombre total d'erreurs : \n",
    "\n",
    "*(double cliquer pour compléter votre réponse, puis valider en exécutant (CTRL+ENTREE))*"
   ]
  }
 ],
 "metadata": {
  "colab": {
   "authorship_tag": "ABX9TyOL5iJTlZCmM9764vTsZljv",
   "collapsed_sections": [],
   "name": "descente-deux-variables.ipynb",
   "provenance": [
    {
     "file_id": "164i4yxW6Yks9BXBhzNAJHUMyX1UBjEp3",
     "timestamp": 1606828072802
    }
   ]
  },
  "kernelspec": {
   "display_name": "Python 3",
   "language": "python",
   "name": "python3"
  },
  "language_info": {
   "codemirror_mode": {
    "name": "ipython",
    "version": 3
   },
   "file_extension": ".py",
   "mimetype": "text/x-python",
   "name": "python",
   "nbconvert_exporter": "python",
   "pygments_lexer": "ipython3",
   "version": "3.8.3"
  }
 },
 "nbformat": 4,
 "nbformat_minor": 1
}
