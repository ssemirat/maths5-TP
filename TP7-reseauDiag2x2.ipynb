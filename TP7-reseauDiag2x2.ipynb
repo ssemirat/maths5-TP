{
 "cells": [
  {
   "cell_type": "markdown",
   "metadata": {},
   "source": [
    "# TP6 : Reconnaissance d'une diagonale dans carré 2x2"
   ]
  },
  {
   "cell_type": "markdown",
   "metadata": {
    "id": "Na-Yck4lZiN1"
   },
   "source": [
    "### Chargement des librairies"
   ]
  },
  {
   "cell_type": "code",
   "execution_count": 11,
   "metadata": {
    "executionInfo": {
     "elapsed": 530,
     "status": "ok",
     "timestamp": 1606831889555,
     "user": {
      "displayName": "Stephan Semirat",
      "photoUrl": "",
      "userId": "06413469689434144964"
     },
     "user_tz": -60
    },
    "id": "Zupdaax6Xf8b"
   },
   "outputs": [],
   "source": [
    "from matplotlib import pyplot as plt\n",
    "import numpy as np\n",
    "import pandas as pd"
   ]
  },
  {
   "cell_type": "markdown",
   "metadata": {},
   "source": [
    "Chargement des données"
   ]
  },
  {
   "cell_type": "code",
   "execution_count": 70,
   "metadata": {},
   "outputs": [
    {
     "name": "stdout",
     "output_type": "stream",
     "text": [
      "    X1  X2  X3  X4  Y\n",
      "0    0   0   0   0  0\n",
      "1    0   0   0   1  0\n",
      "2    0   0   1   0  0\n",
      "3    0   0   1   1  0\n",
      "4    0   1   0   0  0\n",
      "5    0   1   0   1  0\n",
      "6    0   1   1   0  1\n",
      "7    0   1   1   1  0\n",
      "8    1   0   0   0  0\n",
      "9    1   0   0   1  1\n",
      "10   1   0   1   0  0\n",
      "11   1   0   1   1  0\n",
      "12   1   1   0   0  0\n",
      "13   1   1   0   1  0\n",
      "14   1   1   1   0  0\n",
      "15   1   1   1   1  0\n"
     ]
    }
   ],
   "source": [
    "# Ensemble des données non linéairement séparable:\n",
    "# Lecture des données\n",
    "data=pd.read_csv(\"diag2x2.csv\",sep=\",\")\n",
    "print(data)"
   ]
  },
  {
   "cell_type": "code",
   "execution_count": 71,
   "metadata": {},
   "outputs": [
    {
     "data": {
      "text/html": [
       "<div>\n",
       "<style scoped>\n",
       "    .dataframe tbody tr th:only-of-type {\n",
       "        vertical-align: middle;\n",
       "    }\n",
       "\n",
       "    .dataframe tbody tr th {\n",
       "        vertical-align: top;\n",
       "    }\n",
       "\n",
       "    .dataframe thead th {\n",
       "        text-align: right;\n",
       "    }\n",
       "</style>\n",
       "<table border=\"1\" class=\"dataframe\">\n",
       "  <thead>\n",
       "    <tr style=\"text-align: right;\">\n",
       "      <th></th>\n",
       "      <th>X1</th>\n",
       "      <th>X2</th>\n",
       "      <th>X3</th>\n",
       "      <th>X4</th>\n",
       "      <th>Y</th>\n",
       "    </tr>\n",
       "  </thead>\n",
       "  <tbody>\n",
       "    <tr>\n",
       "      <th>0</th>\n",
       "      <td>0</td>\n",
       "      <td>0</td>\n",
       "      <td>0</td>\n",
       "      <td>0</td>\n",
       "      <td>0</td>\n",
       "    </tr>\n",
       "    <tr>\n",
       "      <th>1</th>\n",
       "      <td>0</td>\n",
       "      <td>0</td>\n",
       "      <td>0</td>\n",
       "      <td>1</td>\n",
       "      <td>0</td>\n",
       "    </tr>\n",
       "    <tr>\n",
       "      <th>2</th>\n",
       "      <td>0</td>\n",
       "      <td>0</td>\n",
       "      <td>1</td>\n",
       "      <td>0</td>\n",
       "      <td>0</td>\n",
       "    </tr>\n",
       "    <tr>\n",
       "      <th>3</th>\n",
       "      <td>0</td>\n",
       "      <td>0</td>\n",
       "      <td>1</td>\n",
       "      <td>1</td>\n",
       "      <td>0</td>\n",
       "    </tr>\n",
       "    <tr>\n",
       "      <th>4</th>\n",
       "      <td>0</td>\n",
       "      <td>1</td>\n",
       "      <td>0</td>\n",
       "      <td>0</td>\n",
       "      <td>0</td>\n",
       "    </tr>\n",
       "  </tbody>\n",
       "</table>\n",
       "</div>"
      ],
      "text/plain": [
       "   X1  X2  X3  X4  Y\n",
       "0   0   0   0   0  0\n",
       "1   0   0   0   1  0\n",
       "2   0   0   1   0  0\n",
       "3   0   0   1   1  0\n",
       "4   0   1   0   0  0"
      ]
     },
     "execution_count": 71,
     "metadata": {},
     "output_type": "execute_result"
    }
   ],
   "source": [
    "# Création d'un dataframe\n",
    "DF = pd.DataFrame(data, columns = ['X1','X2','X3','X4','Y'])\n",
    "# Affichage des 5 premières données\n",
    "DF.head()"
   ]
  },
  {
   "cell_type": "code",
   "execution_count": 79,
   "metadata": {},
   "outputs": [],
   "source": [
    "# Définition des entrées X et de la sortie désirée Y\n",
    "Xdata=DF.drop(['Y'],axis=1) # Xdata = toutes les colonnes sauf la colonne Y\n",
    "Ydata=DF['Y'] # Ydata = la colonne Y\n",
    "n=len(Xdata) # Nombre de ligne\n",
    "d=len(Xdata.iloc[1]) # Nombre de colonnes de X"
   ]
  },
  {
   "cell_type": "markdown",
   "metadata": {},
   "source": [
    "### Réseau à 1 couche cachée de 2 neurones\n",
    "On tente d'approximer $X\\mapsto Y$ par la fonction\n",
    "$$X=(x_1,x_2,x_3,x_4)\\mapsto \\sigma(b+w_1 \\sigma(h_1(X))+w_2\\sigma(h_2(X)))$$ avec $$h_1(X)=b_1+w_{11}x_1+w_{21}x_2+w_{31}x_3+w_{41}x_4$$\n",
    "et $$h_2(X)=b_2+w_{12}x_1+w_{22}x_2+w_{32}x_3+w_{42}x_4$$\n",
    "\n",
    "En particulier, $w_{k\\ell}$ est le poids situé de $x_\\ell$ vers $\\sigma(h_k)$"
   ]
  },
  {
   "cell_type": "code",
   "execution_count": 82,
   "metadata": {},
   "outputs": [
    {
     "data": {
      "text/plain": [
       "X1    0\n",
       "X2    0\n",
       "X3    0\n",
       "X4    1\n",
       "Name: 1, dtype: int64"
      ]
     },
     "execution_count": 82,
     "metadata": {},
     "output_type": "execute_result"
    }
   ],
   "source": [
    "Xdata.iloc[1]"
   ]
  },
  {
   "cell_type": "code",
   "execution_count": 116,
   "metadata": {},
   "outputs": [],
   "source": [
    "# Réseau\n",
    "def sigma(x):\n",
    "    return 1/(1+np.exp(-x))\n",
    "def R(W,W1,W2,j):\n",
    "    b,w1,w2=W[0],W[1],W[2]\n",
    "    b1,w11,w12,w13,w14=W1[0],W1[1],W1[2],W1[3],W1[4]\n",
    "    b2,w21,w22,w23,w24=W2[0],W2[1],W2[2],W2[3],W2[4]\n",
    "    Xj=Xdata.iloc[j]\n",
    "    h1=b1+np.dot([w11,w12,w13,w14],Xj)\n",
    "    h2=b2+np.dot([w21,w22,w23,w24],Xj)\n",
    "    H=b+np.dot([w1,w2],[sigma(h1),sigma(h2)])\n",
    "    return sigma(H)"
   ]
  },
  {
   "cell_type": "code",
   "execution_count": 432,
   "metadata": {},
   "outputs": [],
   "source": [
    "# Gradient par rétropropagation\n",
    "def gradE(W,W1,W2,j):\n",
    "    b,w1,w2=W[0],W[1],W[2]\n",
    "    b1,w11,w12,w13,w14=W1[0],W1[1],W1[2],W1[3],W1[4]\n",
    "    b2,w21,w22,w23,w24=W2[0],W2[1],W2[2],W2[3],W2[4]\n",
    "    Xj=Xdata.iloc[j]\n",
    "    Yj=Ydata.iloc[j]\n",
    "    h1=b1+w11*Xj[0]+w12*Xj[1]+w13*Xj[2]+w14*Xj[3]\n",
    "    h2=b2+w21*Xj[0]+w22*Xj[1]+w23*Xj[2]+w24*Xj[3]    \n",
    "    H=b+w1*sigma(h1)+w2*sigma(h2)\n",
    "    sH=sigma(H)\n",
    "    sh1=sigma(h1)\n",
    "    sh2=sigma(h2)\n",
    "    dsH=sH*(1-sH)\n",
    "    dsh1=sh1*(1-sh1)\n",
    "    dsh2=sh2*(1-sh2)\n",
    "    # Calcul des dérivées partielles couche par couche\n",
    "    # E=0.5(sigma(H)-Yj)^2\n",
    "    dEdsH=sH-Yj # d(E)/d(sigma(H))=(sigma(H)-Yj)*1\n",
    "    dsHdb=dsH*1            # d(sigma(H))/db=sigma'(H)*1\n",
    "    dsHdw1=dsH*sh1           # d(sigma(H))/dw1=sigma'(H)*sigma(h1)\n",
    "    dsHdw2=dsH*sh2           # d(sigma(H))/dw2=sigma'(H)*sigma(h2)\n",
    "    dsHdsh1=dsH*w1           # d(sigma(H))/d(sigma(h1))=sigma'(H)*w1\n",
    "    dsHdsh2=dsH*w2           # d(sigma(H))/d(sigma(h2))=sigma'(H)*w2\n",
    "    dsh1db1=dsh1*1          # d(sigma(h1))/db1=sigma'(h1)*1\n",
    "    dsh1dw11=dsh1*Xj[0]        # d(sigma(h1))/dw11=sigma'(h1)*x1\n",
    "    dsh1dw12=dsh1*Xj[1]        # d(sigma(h1))/dw12=sigma'(h1)*x2\n",
    "    dsh1dw13=dsh1*Xj[2]        # d(sigma(h1))/dw13=sigma'(h1)*x3\n",
    "    dsh1dw14=dsh1*Xj[3]        # d(sigma(h1))/dw14=sigma'(h1)*x4\n",
    "    dsh2db2=dsh2*1          # d(sigma(h2))/db2=sigma'(h2)*1\n",
    "    dsh2dw21=dsh2*Xj[0]        # d(sigma(h2))/dw21=sigma'(h2)*x1\n",
    "    dsh2dw22=dsh2*Xj[1]        # d(sigma(h2))/dw22=sigma'(h2)*x2\n",
    "    dsh2dw23=dsh2*Xj[2]        # d(sigma(h2))/dw23=sigma'(h2)*x3\n",
    "    dsh2dw24=dsh2*Xj[3]        # d(sigma(h2))/dw24=sigma'(h2)*x4\n",
    "    dEdb=dEdsH*dsHdb\n",
    "    dEdw1=dEdsH*dsHdw1\n",
    "    dEdw2=dEdsH*dsHdw2\n",
    "    dEdb1=dEdsH*dsHdsh1*dsh1db1\n",
    "    dEdw11=dEdsH*dsHdsh1*dsh1dw11\n",
    "    dEdw12=dEdsH*dsHdsh1*dsh1dw12\n",
    "    dEdw13=dEdsH*dsHdsh1*dsh1dw13\n",
    "    dEdw14=dEdsH*dsHdsh1*dsh1dw14\n",
    "    dEdb2=dEdsH*dsHdsh2*dsh2db2\n",
    "    dEdw21=dEdsH*dsHdsh2*dsh2dw21\n",
    "    dEdw22=dEdsH*dsHdsh2*dsh2dw22\n",
    "    dEdw23=dEdsH*dsHdsh2*dsh2dw23\n",
    "    dEdw24=dEdsH*dsHdsh2*dsh2dw24\n",
    "    return [[dEdb,dEdw1,dEdw2],[dEdb1,dEdw11,dEdw12,dEdw13,dEdw14],[dEdb2,dEdw21,dEdw22,dEdw23,dEdw24]]"
   ]
  },
  {
   "cell_type": "code",
   "execution_count": 271,
   "metadata": {},
   "outputs": [
    {
     "name": "stdout",
     "output_type": "stream",
     "text": [
      "0.7310585786300049\n",
      "[[0.04353051773376169, 0.04323917446791269, 0.04323917446791269], [0.0002773488044401406, 0.0002893933488028782, 0.0002893933488028782, 0.0002893933488028782, 0.0002893933488028782], [0.0002893933488028782, 0.0002893933488028782, 0.0002893933488028782, 0.0002893933488028782, 0.0002893933488028782]]\n"
     ]
    }
   ],
   "source": [
    "print(R([1,0,0],[1,0,0,0,0],[1,0,0,0,0],5))\n",
    "print(gradE([1,1,1],[1,1,1,1,1],[1,1,1,1,1],15))"
   ]
  },
  {
   "cell_type": "code",
   "execution_count": 501,
   "metadata": {},
   "outputs": [],
   "source": [
    "def descente(W,W1,W2,tau=0.01,tolerance=1e-2,nbiterations=1000):\n",
    "    diverge=False\n",
    "    for i in range(nbiterations):\n",
    "        g=[[0,0,0],[0,0,0,0,0],[0,0,0,0,0]]\n",
    "        batch=np.random.randint(0, 16, 5) # 5 entiers aléatoires entre 0 et 15\n",
    "        for j in batch: # j parcourt 5 données aléatoires\n",
    "            gg=gradE(W,W1,W2,j)\n",
    "            g = [np.add(g[0],gg[0]),np.add(g[1],gg[1]),np.add(g[2],gg[2])]\n",
    "        try: # traitement des erreurs si l'algorithme diverge\n",
    "            ng=np.sqrt(np.sum([np.sum([gi**2 for gi in g[k]]) for k in range(2)]))/len(batch)\n",
    "            if ng<tolerance:\n",
    "                print('L\\'algorithme a convergé en',i,'itérations. \\nSolution atteinte :\\n W=',W,'\\n W1=',W1,'\\n W2=',W2,'\\nGradient :',g)\n",
    "                return [W,W1,W2]\n",
    "            W=[W[k]-tau*g[0][k] for k in range(3)]\n",
    "            W1=[W1[k]-tau*g[1][k] for k in range(5)]\n",
    "            W2=[W2[k]-tau*g[2][k] for k in range(5)]\n",
    "        except OverflowError as err: # traitement de l'erreur \"overflow\"\n",
    "            print('L\\'algorithme a divergé \\nSolution atteinte :\\n W=',W,'\\n W1=',W1,'\\n W2=',W2,'\\nGradient :',g)\n",
    "            diverge=True\n",
    "            break\n",
    "    if (diverge==False):\n",
    "        print('L\\'algorithme n\\'a pas convergé \\nSolution atteinte :\\n W=',W,'\\n W1=',W1,'\\n W2=',W2,'\\nGradient :',g,'\\n Norme :',ng)\n",
    "    return [W,W1,W2]"
   ]
  },
  {
   "cell_type": "code",
   "execution_count": 441,
   "metadata": {},
   "outputs": [],
   "source": [
    "myW=[[1,1,1],[1,1,1,1,1],[1,1,1,1,1]]"
   ]
  },
  {
   "cell_type": "code",
   "execution_count": 475,
   "metadata": {
    "scrolled": true
   },
   "outputs": [
    {
     "data": {
      "text/plain": [
       "array([15, 15,  8,  1, 10])"
      ]
     },
     "execution_count": 475,
     "metadata": {},
     "output_type": "execute_result"
    }
   ],
   "source": [
    "np.random.randint(0, 16, 5)"
   ]
  },
  {
   "cell_type": "code",
   "execution_count": null,
   "metadata": {},
   "outputs": [],
   "source": [
    "myW=[[1,1,1],[1,1,1,1,1],[1,1,1,1,1]]"
   ]
  },
  {
   "cell_type": "code",
   "execution_count": 506,
   "metadata": {
    "scrolled": false
   },
   "outputs": [
    {
     "name": "stdout",
     "output_type": "stream",
     "text": [
      "L'algorithme n'a pas convergé \n",
      "Solution atteinte :\n",
      " W= [-8.46517392992448, 3.47022918504678, 3.47022918504678] \n",
      " W1= [-5.344774733540449, 5.874995956316497, 5.891632845233985, 5.8910944599047745, 5.890279764120708] \n",
      " W2= [-5.344774733540449, 5.874995956316497, 5.891632845233985, 5.8910944599047745, 5.890279764120708] \n",
      "Gradient : [array([0.10531566, 0.10517169, 0.10517169]), array([3.69485609e-04, 1.23453748e-06, 1.44529320e-04, 2.25367504e-04,\n",
      "       1.44529877e-04]), array([3.69485609e-04, 1.23453748e-06, 1.44529320e-04, 2.25367504e-04,\n",
      "       1.44529877e-04])] \n",
      " Norme : 0.03644929956977157\n"
     ]
    }
   ],
   "source": [
    "myW=descente(myW[0],myW[1],myW[2],0.01,0.0001,10000)"
   ]
  },
  {
   "cell_type": "code",
   "execution_count": 507,
   "metadata": {},
   "outputs": [
    {
     "name": "stdout",
     "output_type": "stream",
     "text": [
      "0 0.00021769359271817977\n",
      "0 0.016770443615708133\n",
      "0 0.016792112451707926\n",
      "0 0.17714442849890388\n",
      "0 0.01680644464651939\n",
      "0 0.17714529795351788\n",
      "1 0.17714661274958873\n",
      "0 0.1787636698034009\n",
      "0 0.01636814702678062\n",
      "1 0.1771182153708943\n",
      "0 0.17711955199207383\n",
      "0 0.1787635941657336\n",
      "0 0.177120434696596\n",
      "0 0.1787635966331923\n",
      "0 0.17876360036447617\n",
      "0 0.17876816587350325\n"
     ]
    }
   ],
   "source": [
    "for j in range(n):\n",
    "    print(Ydata.iloc[j],R(myW[0],myW[1],myW[2],j))"
   ]
  }
 ],
 "metadata": {
  "colab": {
   "authorship_tag": "ABX9TyOL5iJTlZCmM9764vTsZljv",
   "collapsed_sections": [],
   "name": "descente-deux-variables.ipynb",
   "provenance": [
    {
     "file_id": "164i4yxW6Yks9BXBhzNAJHUMyX1UBjEp3",
     "timestamp": 1606828072802
    }
   ]
  },
  "kernelspec": {
   "display_name": "Python 3",
   "language": "python",
   "name": "python3"
  },
  "language_info": {
   "codemirror_mode": {
    "name": "ipython",
    "version": 3
   },
   "file_extension": ".py",
   "mimetype": "text/x-python",
   "name": "python",
   "nbconvert_exporter": "python",
   "pygments_lexer": "ipython3",
   "version": "3.8.3"
  }
 },
 "nbformat": 4,
 "nbformat_minor": 1
}
