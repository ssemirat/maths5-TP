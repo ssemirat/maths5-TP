{
 "cells": [
  {
   "cell_type": "markdown",
   "metadata": {},
   "source": [
    "Double-cliquer ici, remplacer ce texte par Nom, Prénom et Groupe ici puis valider les changements à l'aide de CTRL+ENTREE"
   ]
  },
  {
   "attachments": {
    "image.png": {
     "image/png": "[encoded data removed]"
    }
   },
   "cell_type": "markdown",
   "metadata": {},
   "source": [
    "# TP 1 : Régression par minimisation (cas de 1 variable)\n",
    "\n",
    "## Problème A : à faire conjointement avec l'enseignant\n",
    "On considère les points A(1,3) et B(4,2).\n",
    "On suppose que ce sont deux observations de variables X (par exemple: x=âge) et Y (par exemple : y=salaire).\n",
    "\n",
    "On suppose qu'il existe une relation linéaire de la forme $Y=wX$ entre les variables $X$ et $Y$.\n",
    "\n",
    "L'analyse de données consite à trouver le coefficient directeur $w$ de la droite d'équation $$Y=wX$$ *minimisant la somme des carrés des distances verticales entre les points et la droite* (comme représenté ci-dessous) :\n",
    "![image.png](attachment:image.png)\n"
   ]
  },
  {
   "cell_type": "markdown",
   "metadata": {},
   "source": [
    "## Exploration graphique"
   ]
  },
  {
   "cell_type": "code",
   "execution_count": 6,
   "metadata": {},
   "outputs": [
    {
     "name": "stdout",
     "output_type": "stream",
     "text": [
      "Librairies chargées\n"
     ]
    }
   ],
   "source": [
    "# Chargement des librairies Python\n",
    "# Entrer dans cette cellule puis l'executer par CTRL+ENTREE\n",
    "# effectuer cette opération pour chacune des cellules suivantes lorsque nécessaire\n",
    "\n",
    "# Mathématiques \n",
    "import numpy as np\n",
    "\n",
    "# Graphique\n",
    "from matplotlib import pyplot as plt\n",
    "\n",
    "print('Librairies chargées')"
   ]
  },
  {
   "cell_type": "markdown",
   "metadata": {},
   "source": [
    "### Définition des points\n",
    "\n",
    "Les données, représentées par les points $(1,3)$ et $(4,2)$, se représentent pour l'analyse par deux listes :\n",
    "- la liste $X$ des \"entrées\", correspondant aux *abscisses* des points ;\n",
    "- la liste $Y$ des \"sorties\", correspondant aux *ordonnées* des points."
   ]
  },
  {
   "cell_type": "code",
   "execution_count": 5,
   "metadata": {},
   "outputs": [],
   "source": [
    "X=[1,4]  #Crée une liste X telle que X[0]=1 et X[1]=4\n",
    "Y=[3,2]  #Crée une liste Y telle que Y[0]=3 et Y[1]=2"
   ]
  },
  {
   "cell_type": "markdown",
   "metadata": {},
   "source": [
    "**Remarque** : sous python, le premier élément d'une liste `L` est l'élément numéro 0 de la liste, accessible par `L[0]`."
   ]
  },
  {
   "cell_type": "markdown",
   "metadata": {},
   "source": [
    "### Visualisation des points"
   ]
  },
  {
   "cell_type": "code",
   "execution_count": 7,
   "metadata": {
    "scrolled": false
   },
   "outputs": [
    {
     "data": {
      "image/png": "[encoded data removed]",
      "text/plain": [
       "<Figure size 432x288 with 1 Axes>"
      ]
     },
     "metadata": {
      "needs_background": "light"
     },
     "output_type": "display_data"
    }
   ],
   "source": [
    "plt.axis([0,5,0,5]) # définition de la fenêtre xmin,xmax,ymin,ymax\n",
    "plt.plot(X,Y,'o') # représentation graphique des points\n",
    "plt.show()"
   ]
  },
  {
   "cell_type": "markdown",
   "metadata": {},
   "source": [
    "### Visualisation d'une droite de régression (pas forcément optimale)"
   ]
  },
  {
   "cell_type": "code",
   "execution_count": 18,
   "metadata": {},
   "outputs": [
    {
     "data": {
      "image/png": "[encoded data removed]",
      "text/plain": [
       "<Figure size 432x288 with 1 Axes>"
      ]
     },
     "metadata": {
      "needs_background": "light"
     },
     "output_type": "display_data"
    }
   ],
   "source": [
    "w=2\n",
    "plt.axis([0,5,0,10]) # xmin,xmax,ymin,ymax\n",
    "plt.plot(X,Y,'o') # affichage des points\n",
    "plt.plot([0,5],[0,w*5],'-') # affichage d'un segment plein\n",
    "plt.plot([X[0],X[0]],[Y[0],w*X[0]],'--') # affichage d'un segment en pointillés\n",
    "plt.plot([X[1],X[1]],[Y[1],w*X[1]],'--') # affichage d'un segment en pointillés\n",
    "residu1=(Y[0]-w*X[0])**2 # carré de la distance verticale au premier point\n",
    "residu2=(Y[1]-w*X[1])**2 # carré de la distance verticale au second point\n",
    "plt.text(0.1,9,'$w='+str(w)+'$') # affichage d'un texte\n",
    "plt.text(X[0],(Y[0]+w*X[0])/2,' $r_1(w)=$'+str(residu1)) # affichage d'un texte \n",
    "plt.text(X[1],(Y[1]+w*X[1])/2,' $r_2(w)=$'+str(residu2)) # affichage d'un texte\n",
    "plt.text(0.1,8,' $r_1(w)+r_2(w)=$'+str(residu1+residu2)) # affichage d'un texte\n",
    "plt.show()"
   ]
  },
  {
   "cell_type": "markdown",
   "metadata": {},
   "source": [
    "##### **Exercice.**\n",
    "Dans le code exécuté ci-dessus, et reécrit ci-dessous, quelles sont les coordonnées des deux points considérés par chacun des segments tracés ? Quelle est la couleur de chaque segment dans a figure ci-dessus ?\n",
    "- Segment 1 : `plt.plot([0,5],[0,w*5])`\n",
    "- Segment 2 : `plt.plot([X[0],X[0]],[Y[0],w*X[0]],'*--')`\n",
    "- Segment 3 : `plt.plot([X[1],X[1]],[Y[1],w*X[1]],'*--')`\n"
   ]
  },
  {
   "cell_type": "markdown",
   "metadata": {},
   "source": [
    "Double-cliquer et répondre ici :\n",
    "- Segment 1 : Points (...,...) et (...,...); Couleur du segment :...\n",
    "- Segment 2 : ...\n",
    "- ..."
   ]
  },
  {
   "cell_type": "markdown",
   "metadata": {},
   "source": [
    "##### **Exercice.**\n",
    "\n",
    "Utiliser changer la valeur de $w$ dans la cellule ci-dessus (représentation graphique) afin de trouver une valeur $w^*$ optimale à 0.01 près afin de minimiser le critère $f(w)=r_1(w)+r_2(w)$.\n",
    "\n",
    "Quelle est alors la valeur $f(w^*)$ ?"
   ]
  },
  {
   "cell_type": "markdown",
   "metadata": {},
   "source": [
    "Réponse :\n",
    "- Solution : $w^*=...$\n",
    "- Valeur optimale $f(w^*)=...$"
   ]
  },
  {
   "cell_type": "markdown",
   "metadata": {},
   "source": [
    "##### **Exercice 3**  (sur papier)\n",
    "1. Formaliser le programme d'optimisation à résoudre (variable, domaine, critère).\n",
    "2. Résoudre le programme et donner sa solution $w^*$."
   ]
  },
  {
   "cell_type": "markdown",
   "metadata": {},
   "source": [
    "**Attention** : lorsque le notebook n'est pas utilisé pendant un temps assez long (le temps de faire l'exercice précedent), le noyau Python s'arrête. Pour continuer le TP, il faut relancer le noyau et rééxecuter les cellules (chargement des librairies, définition des variables, etc) : \n",
    "- **MENU Kernel>Restart**\n",
    "- Sélectionner cette cette cellule, puis **MENU Cell>Run All Above**"
   ]
  },
  {
   "cell_type": "markdown",
   "metadata": {},
   "source": [
    "## Représentation graphique de la fonction à minimiser\n",
    "\n",
    "### Définition de la fonction"
   ]
  },
  {
   "cell_type": "code",
   "execution_count": 20,
   "metadata": {},
   "outputs": [],
   "source": [
    "def f(w):\n",
    "    return np.sum([(w*X[i]-Y[i])**2 for i in [0,1]])"
   ]
  },
  {
   "cell_type": "markdown",
   "metadata": {},
   "source": [
    "##### **Exercice 4.**\n",
    "\n",
    "1. La commande `[(w*X[i]-Y[i])**2 for i in [0,1]]` défini une liste. Quelle est cette liste ?\n",
    "2. D'après vous, quel est le résultat de la commande : `np.sum([1,2,3,4])` ?\n",
    "3. Quel est finalement le calcul exécuté par la fonction `f(w)` définie ci-dessus ?\n",
    "4. Quel code devrait changer dans la définition si nous disposions de 20 données (au lieu de 2)?"
   ]
  },
  {
   "cell_type": "markdown",
   "metadata": {},
   "source": [
    "Double-cliquer et répondre ici :\n",
    "\n",
    "1. La commande `[(w*X[i]-Y[i])**2 for i in [0,1]]` défini la liste : `[...,...,...,...]`\n",
    "2. Le résultat de `np.sum([1,2,3,4])` est : ...\n",
    "3. La fonction `f(w)` renvoie le résultat du calcul :\n",
    "4. Il faudrait changer ... en ..."
   ]
  },
  {
   "cell_type": "markdown",
   "metadata": {},
   "source": [
    "### Création d'un tableau de valeurs de la fonction $w\\mapsto f(w)$"
   ]
  },
  {
   "cell_type": "code",
   "execution_count": 21,
   "metadata": {},
   "outputs": [],
   "source": [
    "wlist=[i/10 for i in range(20)]\n",
    "flist=[f(w) for w in wlist]"
   ]
  },
  {
   "cell_type": "markdown",
   "metadata": {},
   "source": [
    "**Exercice**\n",
    "1. La commande `range(k)` renvoie la liste des k premiers entiers `[0,1,2,...,k-1]`. Que contient `wlist` ? \n",
    "\n",
    "double cliquer et répondre ici\n",
    "\n",
    "2. Que contient `flist` ?\n",
    "\n",
    "double-cliquer et répondre ici"
   ]
  },
  {
   "cell_type": "code",
   "execution_count": null,
   "metadata": {},
   "outputs": [],
   "source": [
    "#Affichage du tableau de valeurs de f\n",
    "print(wlist)\n",
    "print(flist)"
   ]
  },
  {
   "cell_type": "markdown",
   "metadata": {},
   "source": [
    "### Représentation graphique de $w\\mapsto f(w)$"
   ]
  },
  {
   "cell_type": "code",
   "execution_count": 12,
   "metadata": {
    "scrolled": true
   },
   "outputs": [
    {
     "data": {
      "image/png": "[encoded data removed]",
      "text/plain": [
       "<Figure size 432x288 with 1 Axes>"
      ]
     },
     "metadata": {
      "needs_background": "light"
     },
     "output_type": "display_data"
    }
   ],
   "source": [
    "plt.axis([0,2,0,35])\n",
    "plt.plot(wlist,flist)\n",
    "plt.plot([0.9],[f(0.9)],'o')\n",
    "plt.show()"
   ]
  },
  {
   "cell_type": "markdown",
   "metadata": {},
   "source": [
    "**Exercice.**\n",
    "1. Dans le programme d'optimisation, comment s'appelle la fonction qui est représentée ci-dessus.\n",
    "2. Donner les coordonnées et ajouter dans la figure ci-dessus, le point optimal $(w^*,f(w^*))$ déterminé précédemment."
   ]
  },
  {
   "cell_type": "markdown",
   "metadata": {},
   "source": [
    "Répondre ici\n",
    "\n",
    "1. La fonction représentée s'appelle .... du programme d'optimisation.\n",
    "2. (modifier la cellule ci-dessus)\n"
   ]
  },
  {
   "cell_type": "markdown",
   "metadata": {},
   "source": [
    "## Problème B : à traiter en autonomie à partir\n",
    "\n",
    "Dans ce problème, on généralise le problème A à 20 données.\n",
    "\n",
    "Les 20 données sont générées aléatoirement ci-dessous : **il ne faut exécuter cette cellule qu'une fois**, puis copier coller les deux listes de valeurs dans la cellule suivante, afin de les fixer une fois pour toute.\n",
    "\n",
    "Une fois ces 20 données générées, il s'agit, comme ci-dessus, de trouver la droite $Y=wX$ minimisant la somme des carrés des distances verticales entre les points et la droite (mais avec 20 données le calcul ne peut plus trop se faire sur papier...)."
   ]
  },
  {
   "cell_type": "markdown",
   "metadata": {},
   "source": [
    "### Génération aléatoire des points"
   ]
  },
  {
   "cell_type": "code",
   "execution_count": 44,
   "metadata": {
    "scrolled": true
   },
   "outputs": [
    {
     "name": "stdout",
     "output_type": "stream",
     "text": [
      "Liste des X à copier-coller ci-dessous:\n",
      "\n",
      "8.010669450789415, 5.236266925889953, 9.17602317808562, 8.804424092630224, 1.4031549236753105, 7.02504925067897, 6.30626182553295, 3.127121068301295, 9.815800492601927, 5.03678699218845, 3.2661982318892626, 0.5253809508567353, 8.788283247488115, 9.155611792436092, 3.2875601785060926, 2.250888200179255, 7.780287825738613, 8.657172073852246, 9.522615813843057, 3.9742867381656777\n",
      "\n",
      "Liste des Y à copier-coller ci-dessous:\n",
      "\n",
      "9.413011114122392, 5.407573531003231, 8.518629150376588, 13.173242270569107, -0.9834755423256656, 7.298041745077903, 7.748582446176067, 6.42483414384351, 8.711847267958525, 3.572914872992742, 6.327769463702774, 3.4629964499535033, 13.113517574417193, 9.781794490990572, 4.850530487889786, 1.8024457257441995, 6.545050278513219, 12.958163535980226, 13.101396885959073, 3.0592322209530227\n"
     ]
    }
   ],
   "source": [
    "# Génère 1 nombre aléatoire choisi uniformément entre 1 et 2\n",
    "wr=np.random.uniform(1,2)\n",
    "# Génère 20 abscisses aléatoires uniformément compris en 0 et 10\n",
    "L1=np.random.uniform(0, 10, 20)\n",
    "# Génère 20 ordonnées approximativement égales à wr*x\n",
    "L2=[wr*x+np.random.uniform(-3,3) for x in L1]\n",
    "print('Liste des X à copier-coller ci-dessous:\\n')\n",
    "print(*L1,sep=', ')\n",
    "print('\\nListe des Y à copier-coller ci-dessous:\\n')\n",
    "print(*L2,sep=', ')"
   ]
  },
  {
   "cell_type": "code",
   "execution_count": 28,
   "metadata": {},
   "outputs": [],
   "source": [
    "# Compléter le code ci-dessous en copiant-collant les deux listes générées aléatoirement ci-dessus\n",
    "X=[...]\n",
    "Y=[...]"
   ]
  },
  {
   "cell_type": "markdown",
   "metadata": {},
   "source": [
    "### Représentation graphique des données (nuage de points)"
   ]
  },
  {
   "cell_type": "code",
   "execution_count": 42,
   "metadata": {},
   "outputs": [
    {
     "data": {
      "image/png": "[encoded data removed]",
      "text/plain": [
       "<Figure size 432x288 with 1 Axes>"
      ]
     },
     "metadata": {
      "needs_background": "light"
     },
     "output_type": "display_data"
    }
   ],
   "source": [
    "plt.axis([-1,11,-5,25]) #xmin,xmax,ymin,tmax\n",
    "plt.plot(X,Y,'o') # nuage de points\n",
    "plt.show()"
   ]
  },
  {
   "cell_type": "markdown",
   "metadata": {},
   "source": [
    "**Exercice**\n",
    "\n",
    "Par copié-collé et adaptation des cellules du problème A dans les cellules suivantes, résoudre graphiquement le problème :\n",
    "1. Programmer la fonction à minimiser (attention, il y a maintenant 20 données : penser à `range`).\n",
    "2. Représenter graphiquement la fonction à minimiser (avant, il faut créer le tableau de valeurs).\n",
    "3. Lire graphiquement une valeur approximative du minimum de la fonction à minimiser.\n",
    "3. Tracer dans un même graphique le nuage de points et la droite optimale (droite de régression) trouvée."
   ]
  },
  {
   "cell_type": "code",
   "execution_count": 2,
   "metadata": {},
   "outputs": [],
   "source": [
    "# 1) Fonction à minimiser (attention : il y a maintenant 20 données)\n",
    "\n",
    "..."
   ]
  },
  {
   "cell_type": "code",
   "execution_count": null,
   "metadata": {},
   "outputs": [],
   "source": [
    "# 2) et 3) Représentation graphique de la fonction à minimiser\n",
    "\n",
    "...\n"
   ]
  },
  {
   "cell_type": "code",
   "execution_count": 43,
   "metadata": {},
   "outputs": [],
   "source": [
    "# 4) Représentation graphique du nuage de points et de la droite de régression optimale\n",
    "\n",
    "..."
   ]
  }
 ],
 "metadata": {
  "kernelspec": {
   "display_name": "Python 3",
   "language": "python",
   "name": "python3"
  },
  "language_info": {
   "codemirror_mode": {
    "name": "ipython",
    "version": 3
   },
   "file_extension": ".py",
   "mimetype": "text/x-python",
   "name": "python",
   "nbconvert_exporter": "python",
   "pygments_lexer": "ipython3",
   "version": "3.8.3"
  }
 },
 "nbformat": 4,
 "nbformat_minor": 4
}
