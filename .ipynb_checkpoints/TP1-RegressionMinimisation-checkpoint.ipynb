{
 "cells": [
  {
   "attachments": {
    "image.png": {
     "image/png": "[encoded data removed]"
    }
   },
   "cell_type": "markdown",
   "metadata": {},
   "source": [
    "# TP 1 : Régression par minimisation\n",
    "\n",
    "## Problème 1\n",
    "On considère les points (1,3) et (4,2).\n",
    "\n",
    "On cherche le coefficient directeur $w$ de la droite d'équation $$y=wx$$ minimisant la somme des carrés des distances verticales entre les points et la droite (comme représenté ci-dessous) :\n",
    "![image.png](attachment:image.png)\n"
   ]
  },
  {
   "cell_type": "markdown",
   "metadata": {},
   "source": [
    "##### **Exercice 1** \n",
    "Formaliser le programme d'optimisation à résoudre (variable, domaine, critère).\n",
    "Résoudre le programme (sur papier) puis donner sa solution $w^*$."
   ]
  },
  {
   "cell_type": "markdown",
   "metadata": {},
   "source": [
    "Répondre ici"
   ]
  },
  {
   "cell_type": "markdown",
   "metadata": {},
   "source": [
    "## Exploration graphique"
   ]
  },
  {
   "cell_type": "code",
   "execution_count": 4,
   "metadata": {},
   "outputs": [],
   "source": [
    "# Chargement des librairies Python\n",
    "\n",
    "# Mathématiques \n",
    "import numpy as np\n",
    "\n",
    "# Graphique\n",
    "from matplotlib import pyplot as plt"
   ]
  },
  {
   "cell_type": "markdown",
   "metadata": {},
   "source": [
    "### Définition des points\n",
    "\n",
    "La liste des points $(1,3)$ et $(4,2)$ se définit par la liste des abscisses et la liste des ordonnées."
   ]
  },
  {
   "cell_type": "code",
   "execution_count": 5,
   "metadata": {},
   "outputs": [],
   "source": [
    "X=[1,4]  #Créer une liste X telle que X[0]=1 et X[1]=4\n",
    "Y=[3,2]  #Créer une liste Y telle que Y[0]=3 et Y[1]=2"
   ]
  },
  {
   "cell_type": "markdown",
   "metadata": {},
   "source": [
    "### Visualisation des points"
   ]
  },
  {
   "cell_type": "code",
   "execution_count": 6,
   "metadata": {
    "scrolled": false
   },
   "outputs": [
    {
     "data": {
      "text/plain": [
       "[<matplotlib.lines.Line2D at 0x2d4eeb17730>]"
      ]
     },
     "execution_count": 6,
     "metadata": {},
     "output_type": "execute_result"
    },
    {
     "data": {
      "image/png": "[encoded data removed]",
      "text/plain": [
       "<Figure size 432x288 with 1 Axes>"
      ]
     },
     "metadata": {
      "needs_background": "light"
     },
     "output_type": "display_data"
    }
   ],
   "source": [
    "plt.axis([0,5,0,5]) # xmin,xmax,ymin,ymax\n",
    "plt.plot(X,Y,'o') # représentation graphique des points"
   ]
  },
  {
   "cell_type": "markdown",
   "metadata": {},
   "source": [
    "### Visualisation d'une droite de régression (pas forcément optimale)"
   ]
  },
  {
   "cell_type": "code",
   "execution_count": 7,
   "metadata": {},
   "outputs": [
    {
     "data": {
      "text/plain": [
       "Text(0, 6, ' $d_1+d_2=$18.25')"
      ]
     },
     "execution_count": 7,
     "metadata": {},
     "output_type": "execute_result"
    },
    {
     "data": {
      "image/png": "[encoded data removed]",
      "text/plain": [
       "<Figure size 432x288 with 1 Axes>"
      ]
     },
     "metadata": {
      "needs_background": "light"
     },
     "output_type": "display_data"
    }
   ],
   "source": [
    "w=1.5\n",
    "plt.axis([0,5,0,10]) # xmin,xmax,ymin,ymax\n",
    "plt.plot(X,Y,'o')\n",
    "plt.plot([0,5],[0,w*5])\n",
    "plt.plot([X[0],X[0]],[Y[0],w*X[0]],'*--')\n",
    "plt.plot([X[1],X[1]],[Y[1],w*X[1]],'*--')\n",
    "d1=(Y[0]-w*X[0])**2\n",
    "d2=(Y[1]-w*X[1])**2\n",
    "plt.text(X[0],(Y[0]+w*X[0])/2,' $d_1=$'+str(d1))\n",
    "plt.text(X[1],(Y[1]+w*X[1])/2,' $d_2=$'+str(d2))\n",
    "plt.text(0,6,' $d_1+d_2=$'+str(d1+d2))"
   ]
  },
  {
   "cell_type": "markdown",
   "metadata": {},
   "source": [
    "##### **Exercice 2.**\n",
    "Dans le code exécuté ci-dessus, et redonné ci-dessous, quels sont les points considérés par chacun des segments tracés ? Quelle est la couleur de chaque segment dans a figure ci-dessus ?\n",
    "- Segment 1 : `plt.plot([0,5],[0,w*5])`\n",
    "- Segment 2 : `plt.plot([X[0],X[0]],[Y[0],w*X[0]],'*--')`\n",
    "- Segment 3 : `plt.plot([X[1],X[1]],[Y[1],w*X[1]],'*--')`\n"
   ]
  },
  {
   "cell_type": "markdown",
   "metadata": {},
   "source": [
    "Répondre ici"
   ]
  },
  {
   "cell_type": "markdown",
   "metadata": {},
   "source": [
    "##### **Exercice 3.**\n",
    "- Explorer le graphique en changeant la valeur de $w$ (à 0.5, 1, 2, ...).\n",
    "- Finaliser le graphique en représentant la droite de régression optimale ($w=w^*$, où $w^*$ est la solution trouvée dans l'exercice 1). Quelle est alors la valeur optimale du critère ?"
   ]
  },
  {
   "cell_type": "markdown",
   "metadata": {},
   "source": [
    "Répondre ici"
   ]
  },
  {
   "cell_type": "markdown",
   "metadata": {},
   "source": [
    "## Représentation graphique de la fonction à minimiser\n",
    "\n",
    "### Définition de la fonction"
   ]
  },
  {
   "cell_type": "code",
   "execution_count": 8,
   "metadata": {},
   "outputs": [],
   "source": [
    "def f(w):\n",
    "    return np.sum([(w*X[i]-Y[i])**2 for i in [0,1]])"
   ]
  },
  {
   "cell_type": "markdown",
   "metadata": {},
   "source": [
    "##### **Exercice 4.**\n",
    "\n",
    "- 1) La commande `[(w*X[i]-Y[i])**2 for i in [0,1]]` défini une liste. Quelle est cette liste ?\n",
    "- 2) D'après vous, quel est le résultat de la commande : `np.sum([1,2,3,4])` ?\n",
    "- 3) Quelle est l'expression de la fonction f(w) définie ci-dessus ?"
   ]
  },
  {
   "cell_type": "markdown",
   "metadata": {},
   "source": [
    "Répondre ici"
   ]
  },
  {
   "cell_type": "markdown",
   "metadata": {},
   "source": [
    "### Création d'un tableau de valeurs pour $f$"
   ]
  },
  {
   "cell_type": "code",
   "execution_count": 9,
   "metadata": {},
   "outputs": [
    {
     "name": "stdout",
     "output_type": "stream",
     "text": [
      "w :  [0.0, 0.1, 0.2, 0.3, 0.4, 0.5, 0.6, 0.7, 0.8, 0.9, 1.0, 1.1, 1.2, 1.3, 1.4, 1.5, 1.6, 1.7, 1.8, 1.9]\n",
      "f(w) :  [13.0, 10.97, 9.28, 7.9300000000000015, 6.920000000000001, 6.25, 5.92, 5.929999999999999, 6.280000000000001, 6.970000000000001, 8.0, 9.370000000000001, 11.079999999999998, 13.130000000000003, 15.519999999999998, 18.25, 21.320000000000004, 24.73, 28.480000000000004, 32.56999999999999]\n"
     ]
    }
   ],
   "source": [
    "wlist=[i/10 for i in range(20)] # créer la liste 0/10, 1/10, ..., 19/10\n",
    "flist=[f(w) for w in wlist]\n",
    "print('w : ',wlist)\n",
    "print('f(w) : ',flist)"
   ]
  },
  {
   "cell_type": "markdown",
   "metadata": {},
   "source": [
    "### Représentation graphique de la fonction"
   ]
  },
  {
   "cell_type": "code",
   "execution_count": 10,
   "metadata": {
    "scrolled": true
   },
   "outputs": [
    {
     "data": {
      "text/plain": [
       "[<matplotlib.lines.Line2D at 0x2d4eec60d90>]"
      ]
     },
     "execution_count": 10,
     "metadata": {},
     "output_type": "execute_result"
    },
    {
     "data": {
      "image/png": "[encoded data removed]",
      "text/plain": [
       "<Figure size 432x288 with 1 Axes>"
      ]
     },
     "metadata": {
      "needs_background": "light"
     },
     "output_type": "display_data"
    }
   ],
   "source": [
    "plt.axis([0,2,0,35])\n",
    "plt.plot(wlist,flist)"
   ]
  },
  {
   "cell_type": "markdown",
   "metadata": {},
   "source": [
    "**Exercice.**\n",
    "- 1) Dans le programme d'optimisation, comment s'appelle la fonction représentée ci-dessus.\n",
    "- 2) Donner les coordonnées et ajouter dans la figure ci-dessus, le point optimal $(w^*,f(w^*))$ calculé dans l'exercice 1 ?"
   ]
  },
  {
   "cell_type": "markdown",
   "metadata": {},
   "source": [
    "Répondre ici"
   ]
  },
  {
   "cell_type": "markdown",
   "metadata": {},
   "source": [
    "## Problème 2\n",
    "\n",
    "Dans ce problème, on généralise le problème 1 à plus de 2 points.\n",
    "\n",
    "On se donne un paquet de 20 points (générés aléatoirement), et on va déterminer la droite $y=wx$ minimisant la somme des carrés des distances verticales entre les points et la droite"
   ]
  },
  {
   "cell_type": "markdown",
   "metadata": {},
   "source": [
    "### Génération aléatoire des points"
   ]
  },
  {
   "cell_type": "code",
   "execution_count": 18,
   "metadata": {},
   "outputs": [
    {
     "name": "stdout",
     "output_type": "stream",
     "text": [
      "X :  [4.08645845 0.42961594 3.86543214 8.1405741  8.54045471 1.55010132\n",
      " 6.6282723  4.01635229 5.67179186 8.49458395 5.21225688 6.60034393\n",
      " 4.13407052 2.04248488 5.19072557 5.56823874 8.697374   9.27479468\n",
      " 4.84936825 4.78452621]\n",
      "Y :  [1.4863554679589033, 3.43876818233712, 3.8250598296112797, 8.081614045771445, 11.113145769224795, -1.3866426641213647, 4.93374146594581, 7.00024475635939, 7.667457124711127, 7.490520013605246, 6.693671770330537, 7.061204131380734, 3.4986768516582005, 2.264694538856883, 3.638391695513926, 3.772921964484003, 6.820063759565749, 10.713995401914632, 6.873662683451517, 3.4751389561452073]\n"
     ]
    }
   ],
   "source": [
    "# Génère 1 nombre aléatoire choisi uniformément entre 1 et 2\n",
    "wr=np.random.uniform(1,2)\n",
    "# Génère 20 abscisses aléatoires uniformément compris en 0 et 10\n",
    "X=np.random.uniform(0, 10, 20)\n",
    "# Génère 20 ordonnées égales à wr*x+aléatoire\n",
    "Y=[wr*x+np.random.uniform(-3,3) for x in X]\n",
    "print('X : ',X)\n",
    "print('Y : ',Y)"
   ]
  },
  {
   "cell_type": "markdown",
   "metadata": {},
   "source": [
    "### Nuage des points"
   ]
  },
  {
   "cell_type": "code",
   "execution_count": 20,
   "metadata": {},
   "outputs": [
    {
     "data": {
      "text/plain": [
       "[<matplotlib.lines.Line2D at 0x2d4eee48940>]"
      ]
     },
     "execution_count": 20,
     "metadata": {},
     "output_type": "execute_result"
    },
    {
     "data": {
      "image/png": "[encoded data removed]",
      "text/plain": [
       "<Figure size 432x288 with 1 Axes>"
      ]
     },
     "metadata": {
      "needs_background": "light"
     },
     "output_type": "display_data"
    }
   ],
   "source": [
    "plt.axis([0,10,-5,25]) #xmin,xmax,ymin,tmax\n",
    "plt.plot(X,Y,'o')"
   ]
  },
  {
   "cell_type": "markdown",
   "metadata": {},
   "source": [
    "**Exercice 5.**\n",
    "\n",
    "Par copier coller des cellules précédentes dans les cellules suivantes, résoudre graphiquement le problème :\n",
    "- 1) Programmer la fonction à minimiser\n",
    "- 2) La représenter graphiquement pour lire graphiquement une valeur approximative de son minimum\n",
    "- 3) Tracer dans un même graphique le nuage de points ainsi que la droite de régression trouvée"
   ]
  },
  {
   "cell_type": "code",
   "execution_count": 2,
   "metadata": {},
   "outputs": [],
   "source": [
    "# 1) Fonction à minimiser\n"
   ]
  },
  {
   "cell_type": "code",
   "execution_count": null,
   "metadata": {},
   "outputs": [],
   "source": [
    "# 2) Représentation graphique de la fonction à minimiser\n"
   ]
  },
  {
   "cell_type": "code",
   "execution_count": 3,
   "metadata": {},
   "outputs": [],
   "source": [
    "# 3) Représentation graphique du nuage de points et de la droite de régression optimale"
   ]
  },
  {
   "cell_type": "code",
   "execution_count": null,
   "metadata": {},
   "outputs": [],
   "source": []
  },
  {
   "cell_type": "code",
   "execution_count": null,
   "metadata": {},
   "outputs": [],
   "source": []
  }
 ],
 "metadata": {
  "kernelspec": {
   "display_name": "Python 3",
   "language": "python",
   "name": "python3"
  },
  "language_info": {
   "codemirror_mode": {
    "name": "ipython",
    "version": 3
   },
   "file_extension": ".py",
   "mimetype": "text/x-python",
   "name": "python",
   "nbconvert_exporter": "python",
   "pygments_lexer": "ipython3",
   "version": "3.8.3"
  }
 },
 "nbformat": 4,
 "nbformat_minor": 4
}
