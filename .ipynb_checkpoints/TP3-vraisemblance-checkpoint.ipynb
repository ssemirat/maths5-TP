{
 "cells": [
  {
   "cell_type": "markdown",
   "metadata": {},
   "source": [
    "Entrer nom, prenom et groupe ici"
   ]
  },
  {
   "cell_type": "markdown",
   "metadata": {},
   "source": [
    "# TP3: Vraisemblance"
   ]
  },
  {
   "cell_type": "code",
   "execution_count": null,
   "metadata": {
    "executionInfo": {
     "elapsed": 530,
     "status": "ok",
     "timestamp": 1606831889555,
     "user": {
      "displayName": "Stephan Semirat",
      "photoUrl": "",
      "userId": "06413469689434144964"
     },
     "user_tz": -60
    },
    "id": "Zupdaax6Xf8b"
   },
   "outputs": [],
   "source": [
    "# Chargement des bibliothèques\n",
    "# Graphiques\n",
    "from matplotlib import pyplot as plt\n",
    "# Maths\n",
    "import numpy as np\n",
    "# Générations des données aléatoires\n",
    "from sklearn.datasets import make_blobs\n",
    "print('Bibliothèques chargées')"
   ]
  },
  {
   "cell_type": "markdown",
   "metadata": {},
   "source": [
    "## Problème A\n",
    "\n",
    "On considère les données $X_j=(X_{j1},X_{j2})\\mapsto Y_j$, pour $j\\in\\{1,2,3,4\\}$, avec :\n",
    "\n",
    "$X_1=(2,0)$, $X_2=(3,2)$, $X_3=(0,3)$. $X_3=(3,4)$, et\n",
    "\n",
    "$Y_1=0$, $Y_2=0$, $Y_3=1$, $Y_4=1$.\n",
    "\n",
    "Ces données seront représentées ci-dessous.\n",
    "\n",
    "Dans la suite, on va chercher des coefficients $b$ et $W=\\begin{pmatrix}w_1\\\\w_2\\end{pmatrix}$ maximisant la *vraisemblance* de la loi de probabilité $$X\\mapsto \\Pr(Y=1|X)=\\sigma(b+w_1x_1+w_2x_2),$$\n",
    "où $\\sigma$ est la fonction sigmoïde, définie pour tout $x$ dans $R$ par $$\\sigma(x)=\\frac{1}{1+e^{-x}}.$$\n",
    "\n",
    "On a vu en cours que :\n",
    "-  $\\sigma(x)\\simeq 1$ dès que $x>>0$ ($x$ très supérieur à $0$),\n",
    "-  $\\sigma(x)\\simeq 0$ dès que $x<<0$ ($x$ très inférieur à $0$),\n",
    "-  $\\sigma(x)=0.5$ lorsque $x=0$.\n",
    "\n",
    "La *vraisemblance* de la loi $X\\mapsto \\Pr(Y=1|X)=\\sigma(b+w_1x_1+w_2x_2)$ est définie par :\n",
    "$$L(b,w_1,w_2)=\\prod\\limits_{j:Y_j=1}\\sigma(b+w_1X_{j1}+w_2X_{j2})\\times\\prod\\limits_{j:Y_j=0}(1-\\sigma(b+w_1X_{j1}+w_2X_{j2})).$$\n",
    "\n",
    "D'après la propriété rappelée ci-dessus, la vraisemblance $L(b,w_1,w_2)$ est comprise entre $0$ et $1$, et elle est grande lorsque les coefficients $b$, $w_1$ et $w_2$ vérifient pour tout $j\\in\\{1,2,3,4\\}$ :\n",
    "$$(C_j):\\left\\{\\begin{array}{l}b+w_1x_{j1}+w_2x_{j2}>>0\\text{ si }Y_j=1\\\\b+w_1x_{j1}+w_2x_{j2}<<0\\text{ si }Y_j=0\\end{array}\\right.$$"
   ]
  },
  {
   "cell_type": "code",
   "execution_count": null,
   "metadata": {
    "scrolled": true
   },
   "outputs": [],
   "source": [
    "# Enregistrement des données\n",
    "X1=[2,3,0,3]\n",
    "X2=[0,2,3,4]\n",
    "Y=[0,0,1,1]\n",
    "print('Données en mémoire')"
   ]
  },
  {
   "cell_type": "code",
   "execution_count": null,
   "metadata": {},
   "outputs": [],
   "source": [
    "#Représentation graphique des données\n",
    "plt.axis([-1,5,-1,5]) #xmin,xmax,ymin,ymax\n",
    "for i in range(len(X1)):\n",
    "    if Y[i]==0:\n",
    "        color='blue'\n",
    "    else:\n",
    "        color='red'\n",
    "    plt.plot([X1[i]],[X2[i]],'o',c=color)\n",
    "plt.show()"
   ]
  },
  {
   "cell_type": "markdown",
   "metadata": {},
   "source": [
    "**Exercice**\n",
    "\n",
    "Ecrire ci-dessous les 4 conditions $(C_j)$ que doivent satisfaire $b$, $w_1$ et $w_2$ compte tenu des données $(X_{j1},X_{j2})$ et $Y_j$, ainsi que les 4 valeurs de la probabilité correspondantes.\n",
    "\n",
    "Réponses :\n",
    "- Donnée $(X_{11},X_{12},Y_1)$:\n",
    "  - Condition (C1) issue de la donnée : $b+w_1X_{11}+w_2X_{12}$ ...\n",
    "  - Valeur vraisemblable de la probabilité : $\\sigma(b+w_1X_{11}+w_2X_{12})=$...\n",
    "\n",
    "- Donnée $(X_{21},X_{22},Y_1)$:\n",
    "  - Condition (C1) issue de la donnée : $b+w_1X_{21}+w_2X_{22}$ ...\n",
    "  - Valeur vraisemblable de la probabilité : $\\sigma(b+w_1X_{21}+w_2X_{22})=$...\n",
    "\n",
    "- Donnée $(X_{31},X_{32},Y_1)$:\n",
    "  - Condition (C1) issue de la donnée : $b+w_1X_{31}+w_2X_{32}$ ...\n",
    "  - Valeur vraisemblable de la probabilité : $\\sigma(b+w_1X_{31}+w_2X_{32})=$...\n",
    "\n",
    "- Donnée $(X_{41},X_{42},Y_1)$:\n",
    "  - Condition (C1) issue de la donnée : $b+w_1X_{41}+w_2X_{42}$ ...\n",
    "  - Valeur vraisemblable de la probabilité : $\\sigma(b+w_1X_{41}+w_2X_{42})=$...\n"
   ]
  },
  {
   "cell_type": "markdown",
   "metadata": {},
   "source": [
    "### Exploration graphique"
   ]
  },
  {
   "cell_type": "markdown",
   "metadata": {},
   "source": [
    "**Exercice**\n",
    "\n",
    "La cellule suivante permet de représenter les courbes de niveaux de la fonction $(x_1,x_2)\\mapsto \\sigma(b+w_1x_1+w_2x_2)$.\n",
    "\n",
    "Modifier les valeurs de $b$, $w1$ et $w2$ dans la cellule ci-dessous afin que la fonction $(x_1,x_2)\\mapsto \\sigma(b+w_1x_1+w_2x_2)$ vérifient les 4 conditions précédentes.\n",
    "\n",
    "*Auparavent, pour vous aider dans votre exploration, vous pourrez répondre aux questions suivantes :*\n",
    "\n",
    "a) Le gradient d'une fonction indique la direction dans laquelle cette fonction augmente. Quelles sont les coordonnées du gradient de la fonction $(x_1,x_2)\\mapsto b+w_1x_1+w_2x_2$ ?\n",
    "\n",
    "b) Puisque la fonction sigmoïde est croissante, dans quelle direction la fonction $(x_1,x_2)\\mapsto \\sigma(b+w_1x_1+w_2x_2)$ augmente-t-elle ?\n",
    "\n",
    "c) En augmentant simultanément tous les coefficients $b$, $w_1$ et $w_2$, comment varie la variation de la fonction $(x_1,x_2)\\mapsto \\sigma(b+w_1x_1+w_2x_2)$ ?\n",
    "\n",
    "d) Lorsque $b$ augmente, comment le niveau de $(x_1,x_2)\\mapsto \\sigma(b+w_1x_1+w_2x_2)$ en un point donné varie-t-il ? Dans quelle direction se déplace alors la courbe de niveau $0.5$ ?"
   ]
  },
  {
   "cell_type": "code",
   "execution_count": null,
   "metadata": {},
   "outputs": [],
   "source": [
    "def sigma(x):\n",
    "    return 1/(1+np.exp(-x))\n",
    "\n",
    "#  Tableau de valeurs (changer b, w1, w2)\n",
    "b=1\n",
    "w1=2\n",
    "w2=3\n",
    "X1list=np.linspace(-1,5,50)\n",
    "X2list=np.linspace(-1,5,50)\n",
    "sigmalist=[[sigma(b+w1*x1+w2*x2) for x1 in X1list] for x2 in X2list]\n",
    "\n",
    "# Courbes de niveau de la fonction sigma(b+w1x1+w2x2)\n",
    "plt.contour(X1list,X2list,sigmalist,100) # dessine 100 courbes de niveau de sigma(b+w1x1+w2x2)\n",
    "plt.colorbar() # dessine la légende \n",
    "\n",
    "# Nuage de points\n",
    "plt.axis([-1,5,-1,5])\n",
    "for i in range(len(X1)):\n",
    "    if Y[i]==0:\n",
    "        color='blue'\n",
    "    else:\n",
    "        color='red'\n",
    "    plt.plot([X1[i]],[X2[i]],'o',c=color)\n",
    "\n",
    "plt.show()"
   ]
  },
  {
   "cell_type": "markdown",
   "metadata": {},
   "source": [
    "**Exercice**\n",
    "\n",
    "Compléter le code ci-dessous afin de représenter le nuage de points ainsi que la droite d'équation $b+w_1x_1+w_2x_2=0$, pour les valeurs de $b$, $w_1$, $w_2$ trouvées précédemment. Quelle est la valeur de $\\sigma(b+w_1x_1+w_2x_2)$ sur cette droite et de part et d'autre de cette droite ?"
   ]
  },
  {
   "cell_type": "code",
   "execution_count": null,
   "metadata": {
    "scrolled": true
   },
   "outputs": [],
   "source": [
    "plt.axis([-1,5,-1,5]) #xmin,xmax,ymin,ymax\n",
    "for i in range(len(X1)):\n",
    "    if Y[i]==0:\n",
    "        color='blue'\n",
    "    else:\n",
    "        color='red'\n",
    "    plt.plot([X1[i]],[X2[i]],'o',c=color)\n",
    "\n",
    "# Droite b+w1x1+w2x2=0 <=> x2=(-b-w1*x1)/w2\n",
    "plt.plot([-1,5],[...,...])\n",
    "\n",
    "plt.show()"
   ]
  },
  {
   "cell_type": "markdown",
   "metadata": {},
   "source": [
    "**Exercice**"
   ]
  },
  {
   "cell_type": "markdown",
   "metadata": {},
   "source": [
    "La cellule suivante permet de calculer et d'afficher la vraisemblance $L(b,w_1,w_2)$ associée à $b$, $w_1$ et $w_2$ pour les données .\n",
    "\n",
    "1) Calculer la vraisemblance associée aux $b$, $w_1$ et $w_2$ trouvés précédemment :\n",
    "\n",
    "Réponse : L(...,...,...)=...\n",
    "\n",
    "2) Comment varie la vraisemblance lorsqu'on multiplie chacune des valeurs de $b$, $w_1$ et $w_2$ par $10$ ? par $100$ ?\n",
    "\n",
    "Réponse : ...\n",
    "\n",
    "3) D'après vous, la fonction $L$ possède-t-elle un maximum ? Pourquoi ?\n",
    "\n",
    "Réponse : ..."
   ]
  },
  {
   "cell_type": "code",
   "execution_count": null,
   "metadata": {},
   "outputs": [],
   "source": [
    "b=1\n",
    "w1=2\n",
    "w2=3\n",
    "\n",
    "l=1\n",
    "for i in range(len(X1)):\n",
    "    if Y[i]==1:\n",
    "        l=l*sigma(b+w1*X1[i]+w2*X2[i])\n",
    "    else:\n",
    "        l=l*(1-sigma(b+w1*X1[i]+w2*X2[i]))\n",
    "print('L(',b,',',w1,',',w2,')=',l)"
   ]
  },
  {
   "cell_type": "markdown",
   "metadata": {},
   "source": [
    "# Problème B #\n",
    "\n",
    "Dans la suite, on généralise les résultats précédents avec un nuage de 40 données"
   ]
  },
  {
   "cell_type": "code",
   "execution_count": null,
   "metadata": {
    "scrolled": true
   },
   "outputs": [],
   "source": [
    "# Cette cellule n'est à exécuter qu'une fois, afin de générer des données aléatoires,\n",
    "# et afin de les recopier dans la cellule suivante\n",
    "\n",
    "# Création aléatoire des données :\n",
    "# on génère 40 données (Xj,Yj), avec Xj=(xj1,xj2), Y=0 ou 1\n",
    "# données centrées autour de 2 centres\n",
    "X, Y = make_blobs(n_samples=40, centers=[[-0.3,-0.3],[0.3,0.3]], n_features=2, cluster_std=0.5,center_box=(-1,1))\n",
    "print('Liste X1 des Xj1 (à copier coller dans la cellule ci-dessous): \\n\\n',np.array2string(X[:,0],separator=',',max_line_width=10000).replace('\\n', ''),'\\n')\n",
    "print('Liste X2 des Xj2 (à copier coller dans la cellule ci-dessous): \\n\\n',np.array2string(X[:,1],separator=',',max_line_width=10000).replace('\\n', ''),'\\n')\n",
    "print('\\nListe Y des Yj (à copier coller dans la cellule ci-dessous): \\n\\n',np.array2string(Y,separator=',',max_line_width=10000).replace('\\n', ''),'\\n')"
   ]
  },
  {
   "cell_type": "code",
   "execution_count": null,
   "metadata": {},
   "outputs": [],
   "source": [
    "# Modifier en copiant collant avec les données générées aléatoirement ci-dessus.\n",
    "\n",
    "X1=[...]\n",
    "X2=[...]\n",
    "Y=[...]"
   ]
  },
  {
   "cell_type": "markdown",
   "metadata": {},
   "source": [
    "**Exercice**\n",
    "\n",
    "Modifier les valeurs de $b$, $w_1$, $w_2$ en sorte que $\\Pr(Y=1|X)=\\sigma(b+w_1x_1+w_2x_2)$ sépare au mieux les données telles que $Y_j=0$ des données telles que $Y_j=1$."
   ]
  },
  {
   "cell_type": "code",
   "execution_count": null,
   "metadata": {
    "scrolled": false
   },
   "outputs": [],
   "source": [
    "#  Tableau de valeurs (changer b, w1, w2)\n",
    "b=1\n",
    "w1=2\n",
    "w2=3\n",
    "X1list=np.linspace(min(X1)-0.5,max(X1)+0.5,50)\n",
    "X2list=np.linspace(min(X2)-0.5,max(X2)+0.5,50)\n",
    "sigmalist=[[sigma(b+w1*x1+w2*x2) for x1 in X1list] for x2 in X2list]\n",
    "\n",
    "# Courbes de niveau de la fonction sigma(b+w1x1+w2x2)\n",
    "plt.contour(X1list,X2list,sigmalist,100) # dessine 100 courbes de niveau de sigma(b+w1x1+w2x2)\n",
    "plt.colorbar()\n",
    "\n",
    "# Nuage de points\n",
    "plt.axis([min(X1)-0.5,max(X1)+0.5,min(X2)-0.5,max(X2)+0.5])\n",
    "for i in range(len(X1)):\n",
    "    if Y[i]==0:\n",
    "        color='blue'\n",
    "    else:\n",
    "        color='red'\n",
    "    plt.plot([X1[i]],[X2[i]],'o',c=color)\n",
    "\n",
    "plt.show()"
   ]
  },
  {
   "cell_type": "markdown",
   "metadata": {},
   "source": [
    "**Exercice**\n",
    "\n",
    "Combien la loi $\\Pr(Y=1|X)=\\sigma(b+w_1x_1+w_2x_2)$ ainsi déterminée produit-elle de faux positifs (tels que $\\sigma(b+w_1X_{j1}+w_2X_{j2})>0.5$ alors que $Y_j=0$) et combien produit-elle de faux négatifs (tels que $\\sigma(b+w_1X_{j1}+w_2X_{j2})<0.5$ alors que $Y_j=1$) ?\n",
    "\n",
    "Réponse :\n",
    "\n",
    "- Nombre de faux positifs : ...\n",
    "- Nombre de faux négatifs : ..."
   ]
  }
 ],
 "metadata": {
  "colab": {
   "authorship_tag": "ABX9TyOL5iJTlZCmM9764vTsZljv",
   "collapsed_sections": [],
   "name": "descente-deux-variables.ipynb",
   "provenance": [
    {
     "file_id": "164i4yxW6Yks9BXBhzNAJHUMyX1UBjEp3",
     "timestamp": 1606828072802
    }
   ]
  },
  "kernelspec": {
   "display_name": "Python 3",
   "language": "python",
   "name": "python3"
  },
  "language_info": {
   "codemirror_mode": {
    "name": "ipython",
    "version": 3
   },
   "file_extension": ".py",
   "mimetype": "text/x-python",
   "name": "python",
   "nbconvert_exporter": "python",
   "pygments_lexer": "ipython3",
   "version": "3.8.3"
  }
 },
 "nbformat": 4,
 "nbformat_minor": 1
}
