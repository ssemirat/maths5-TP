{
 "cells": [
  {
   "cell_type": "markdown",
   "metadata": {},
   "source": [
    "Nom, prénom et Groupe"
   ]
  },
  {
   "cell_type": "markdown",
   "metadata": {},
   "source": [
    "# TP5 - Descente de gradient en 2 variables"
   ]
  },
  {
   "cell_type": "code",
   "execution_count": null,
   "metadata": {
    "executionInfo": {
     "elapsed": 530,
     "status": "ok",
     "timestamp": 1606831889555,
     "user": {
      "displayName": "Stephan Semirat",
      "photoUrl": "",
      "userId": "06413469689434144964"
     },
     "user_tz": -60
    },
    "id": "Zupdaax6Xf8b"
   },
   "outputs": [],
   "source": [
    "# Chargement des blibliothèques\n",
    "\n",
    "from matplotlib import pyplot as plt\n",
    "import numpy as np\n",
    "\n",
    "print('Blibliothèques chargées')"
   ]
  },
  {
   "cell_type": "markdown",
   "metadata": {
    "id": "Je6t76NBqrf1"
   },
   "source": [
    "La fonction suivante permet de représenter les courbes de niveaux d'une fonction de 2 variables, elle sera utilisée par la suite."
   ]
  },
  {
   "cell_type": "code",
   "execution_count": null,
   "metadata": {
    "executionInfo": {
     "elapsed": 584,
     "status": "ok",
     "timestamp": 1606831891752,
     "user": {
      "displayName": "Stephan Semirat",
      "photoUrl": "",
      "userId": "06413469689434144964"
     },
     "user_tz": -60
    },
    "id": "_6vPF5tDlFQw"
   },
   "outputs": [],
   "source": [
    "def plotniveaux(fct, x_min, x_max, y_min, y_max):\n",
    "    x_values = np.linspace(x_min, x_max,100)\n",
    "    y_values = np.linspace(y_min, y_max,100)\n",
    "    fct_values = [[fct(x,y) for x in x_values] for y in y_values]\n",
    "    plt.contour(x_values, y_values, fct_values, 50)\n",
    "    plt.xlim((x_min, x_max))\n",
    "    plt.ylim((y_min, y_max))\n",
    "    plt.colorbar()\n",
    "    plt.xlabel('$b$')\n",
    "    plt.ylabel('$w$')\n",
    "    \n",
    "print('Fonction plotniveaux enregistrée')"
   ]
  },
  {
   "cell_type": "markdown",
   "metadata": {
    "id": "dev_luUrXiaK"
   },
   "source": [
    "## Problème A\n",
    "\n",
    "On considère les points $(3,4)$, $(1,0)$ et $(7,6)$ et on cherche $(b,w)$ minimisant la somme, notée $f(b,w)$, des carrés des distances verticales entre les points et la droite d'équation $y=b+wx$."
   ]
  },
  {
   "cell_type": "code",
   "execution_count": null,
   "metadata": {},
   "outputs": [],
   "source": [
    "# Représentation graphique des données et d'une droite de régression\n",
    "X=[3,1,7]\n",
    "Y=[4,0,6]\n",
    "plt.axis([-1,10,-1,10])\n",
    "plt.plot(X,Y,'o') # Nuage de points\n",
    "plt.plot([-1,10],[-2+3*-1,-2+3*10]) # représentation de la droite Y=b+wX, avec b=-2 et w=3 \n",
    "plt.show()"
   ]
  },
  {
   "cell_type": "markdown",
   "metadata": {},
   "source": [
    "### Définitions de la fonction et de son gradient"
   ]
  },
  {
   "cell_type": "markdown",
   "metadata": {},
   "source": [
    "**Exercice** \n",
    "\n",
    "Après les avoirs calculées, compléter les fonctions Python `f` et `gf` suivantes afin qu'elle renvoient les valeurs de $f(b,w)$ et la liste des valeurs du gradient de $f$ en $(b,w)$."
   ]
  },
  {
   "cell_type": "code",
   "execution_count": null,
   "metadata": {
    "executionInfo": {
     "elapsed": 574,
     "status": "ok",
     "timestamp": 1606831895405,
     "user": {
      "displayName": "Stephan Semirat",
      "photoUrl": "",
      "userId": "06413469689434144964"
     },
     "user_tz": -60
    },
    "id": "x8vrszX1Xo7B"
   },
   "outputs": [],
   "source": [
    "# Fonction à optimiser\n",
    "def f(b,w):\n",
    "    return ...\n",
    "\n",
    "# Gradient\n",
    "def gf(b,w):\n",
    "    return [...,...]\n",
    "\n",
    "print('Fonction f et gf enregistrées')"
   ]
  },
  {
   "cell_type": "markdown",
   "metadata": {},
   "source": [
    "### Représentation graphique de $f$\n",
    "\n",
    "On représente les courbes de niveaux de $f$ via la fonction `niveaux()` définie ci-dessus."
   ]
  },
  {
   "cell_type": "code",
   "execution_count": null,
   "metadata": {
    "colab": {
     "base_uri": "https://localhost:8080/",
     "height": 265
    },
    "executionInfo": {
     "elapsed": 5555,
     "status": "ok",
     "timestamp": 1606831902935,
     "user": {
      "displayName": "Stephan Semirat",
      "photoUrl": "",
      "userId": "06413469689434144964"
     },
     "user_tz": -60
    },
    "id": "hZ_eO8FklLwi",
    "outputId": "729b03ec-8faf-4b86-fea4-6dcc723e12b2",
    "scrolled": true
   },
   "outputs": [],
   "source": [
    "# affichage des courbes de niveaux de f\n",
    "# dans la fenêtre définie sous la forme xmin,xmax,ymin,ymax\n",
    "\n",
    "plotniveaux(f,-5,5,-5,5)\n",
    "plt.show()"
   ]
  },
  {
   "cell_type": "markdown",
   "metadata": {},
   "source": [
    "**Exercice**\n",
    "\n",
    "Par lecture du graphique ci-dessus,\n",
    "1. Déterminer une valeur approximative des coordonnées du point critique $(b^*,w^*)$ de $f$.\n",
    "\n",
    "Réponse : $(b^*,w^*)\\simeq$\n",
    "\n",
    "2. Déterminer les signes du gradient (parmi $(+,+)$, $(-,-)$, $(+,-)$ ou $(-,+)$) en chacun des points suivants :\n",
    "    - En $(b,w)=(-2,3)$, signe du gradient : (...,...)\n",
    "    - En $(b,w)=(2,-2)$, signe du gradient : (...,...)\n",
    "    - En $(b,w)=(0,-4)$, signe du gradient : (...,...)\n",
    "\n",
    "3. Justifier les signes du gradient au point (-2,3) à partir du graphique représentant le nuage de points ainsi que la droite $y=-2+3w$.\n",
    "\n",
    "Réponse : ..."
   ]
  },
  {
   "cell_type": "markdown",
   "metadata": {},
   "source": [
    "**Exercice**\n",
    "\n",
    "\n",
    "Compléter les deux cellules suivantes afin de calculer, dans la première cellule, les valeurs $(b_1,w_1)$, $(b_2,w_2)$ des deux premières itérations de l'algorithme de descente de gradient initialisé en $(b_0,w_0)=(-4,4)$ avec un facteur $\\tau=0.015$, puis, dans la seconde cellule, de représenter les 3 droites ainsi déterminées."
   ]
  },
  {
   "cell_type": "code",
   "execution_count": null,
   "metadata": {},
   "outputs": [],
   "source": [
    "# Initialisation\n",
    "tau=...\n",
    "b0=...\n",
    "w0=...\n",
    "print('Algorithme initialisé à b0=',b0,' et w0=',w0,' avec un facteur tau=',tau)\n",
    "\n",
    "# Calcul du gradient en (b0,w0)\n",
    "g0=...\n",
    "print('Gradient en (b0,w0):',g0[0],',',g0[1])\n",
    "\n",
    "# Valeurs b1,w1\n",
    "b1=...\n",
    "w1=...\n",
    "print('Valeurs calculées b1=',b1,' et w1=',w1)\n",
    "\n",
    "# Calcul du gradient en (b1,w1)\n",
    "g1=...\n",
    "print('Gradient en (b1,w1):',g1[0],',',g1[1])\n",
    "\n",
    "# Valeurs b2,w2\n",
    "b2=...\n",
    "w2=...\n",
    "print('Valeurs calculées b2=',b2,' et w1=',w2)\n"
   ]
  },
  {
   "cell_type": "markdown",
   "metadata": {},
   "source": [
    "**Exercice**\n",
    "\n",
    "Compléter la cellule suivante afin de représenter le nuage et les droites issues des 3 premières itération de l'algorithme déterminées ci-dessus."
   ]
  },
  {
   "cell_type": "code",
   "execution_count": null,
   "metadata": {},
   "outputs": [],
   "source": [
    "# Représentation du nuage, et visualisation droites Y=b[i]+w[i]*X issues de l'algorithme de descente de gradient\n",
    "\n",
    "plt.axis([-1,10,-1,10])\n",
    "plt.plot(X,Y,'o') # Nuage de points\n",
    "\n",
    "# Ci-dessous, le paramètre alpha (compris entre 0 et 1) définie l'opacité de l'objet graphique dessiné\n",
    "# une opacité croissante permet de visualiser la progression de l'algorithme\n",
    "\n",
    "plt.plot([...],[...],alpha=0.3,color=\"black\") # représentation de la droite Y=b+wX, avec b=b0 et w=w0 (opacité à 0.3)\n",
    "plt.plot([...],[...],alpha=0.6,color=\"black\") # représentation de la droite Y=b+wX, avec b=b1 et w=w1 (opacité à 0.6)\n",
    "plt.plot([...],[...],alpha=1,color=\"black\") # représentation de la droite Y=b+wX, avec b=b2 et w=w2 (opacité à 1)\n",
    "\n",
    "plt.show()"
   ]
  },
  {
   "cell_type": "markdown",
   "metadata": {
    "id": "LqRaPj_nX1sp"
   },
   "source": [
    "##  Programmation de l'algorithme de descente de gradient"
   ]
  },
  {
   "cell_type": "code",
   "execution_count": null,
   "metadata": {
    "colab": {
     "base_uri": "https://localhost:8080/"
    },
    "executionInfo": {
     "elapsed": 594,
     "status": "ok",
     "timestamp": 1606832108296,
     "user": {
      "displayName": "Stephan Semirat",
      "photoUrl": "",
      "userId": "06413469689434144964"
     },
     "user_tz": -60
    },
    "id": "QfvzrSaAYmi3",
    "outputId": "0da3db24-cc70-4da8-ce4c-a9044844fce6"
   },
   "outputs": [],
   "source": [
    "def descente(b0,w0,tau,tolerance,NbIterationsMax):\n",
    "    diverge=False\n",
    "    b=b0\n",
    "    w=w0\n",
    "    L=[]\n",
    "    for i in range(NbIterationsMax):\n",
    "        try: # traitement des erreurs si l'algorithme diverge\n",
    "            if (b==float('inf')) or (w==float(\"inf\")):\n",
    "                raise(OverflowError)\n",
    "            g = gf(b,w)\n",
    "            if g[0]**2+g[1]**2<tolerance:\n",
    "                print('L\\'algorithme a convergé en',i,'itérations.')\n",
    "                print('Solution atteinte :\\n b=',b,'\\n w=',w)\n",
    "                print('Gradient atteint :',g)\n",
    "                L.append([b,w])\n",
    "                return L\n",
    "            L.append([b,w])\n",
    "            b=b-tau*g[0]\n",
    "            w=w-tau*g[1]\n",
    "        except OverflowError as err: # traitement de l'erreur \"Overflow\"\n",
    "            print('L\\'algorithme a divergé.')\n",
    "            print('Solution atteinte :\\n b=',b,'\\n w=',w)\n",
    "            print('Gradient atteint :',g)\n",
    "            diverge=True\n",
    "            break\n",
    "    if (diverge==False):\n",
    "        print('L\\'algorithme n\\'a pas convergé.')\n",
    "        print('Solution atteinte :\\n b=',b,'\\n w=',w)\n",
    "        print('Gradient atteint :',g)\n",
    "    return L\n",
    "\n",
    "print('Fonction descente enregisrée')"
   ]
  },
  {
   "cell_type": "markdown",
   "metadata": {},
   "source": [
    "**Exercice**\n",
    "\n",
    "Par lecture de l'algorithme, expliquer le rôle de chacun des paramètres de la fonction `descente` définie ci-dessus :\n",
    "- `b0,w0` : ...\n",
    "- `tau` : ...\n",
    "- `tolerance` : ...\n",
    "- `nbiterationsmax` : ...\n",
    "\n",
    "La fonction renvoie une liste `L`. Que contient cette liste ?\n",
    "\n",
    "Réponse : ..."
   ]
  },
  {
   "cell_type": "markdown",
   "metadata": {},
   "source": [
    "### Calcul de la solution via la descente de gradient"
   ]
  },
  {
   "cell_type": "code",
   "execution_count": null,
   "metadata": {
    "colab": {
     "base_uri": "https://localhost:8080/",
     "height": 297
    },
    "executionInfo": {
     "elapsed": 1591,
     "status": "ok",
     "timestamp": 1606832068149,
     "user": {
      "displayName": "Stephan Semirat",
      "photoUrl": "",
      "userId": "06413469689434144964"
     },
     "user_tz": -60
    },
    "id": "C2x73vQkpWaZ",
    "outputId": "434d768d-3865-4b9d-be7c-bd45b3376310",
    "scrolled": true
   },
   "outputs": [],
   "source": [
    "listeBW=descente(-4,4,0.02,1e-4,1000)"
   ]
  },
  {
   "cell_type": "markdown",
   "metadata": {},
   "source": [
    "### Représentation graphique de la trajectoire sur les courbes de niveaux"
   ]
  },
  {
   "cell_type": "markdown",
   "metadata": {},
   "source": [
    "La fonction suivante permet de représenter la trajectoire de l'algorithme de descente de gradient en prenant pour entrées :\n",
    "- la liste `L=[[b0,w0],[b1,w1],[b2,w2],...]` renvoyée par l'algorithme via la fonction `descente` définie ci-dessus.\n",
    "- la fonction `fct' pour la représentation des courbes de niveaux\n",
    "- les paramètres `x_min,x_max,y_min,y_max` définissant le cadre de la fenêtre pour la représentation graphique"
   ]
  },
  {
   "cell_type": "code",
   "execution_count": null,
   "metadata": {},
   "outputs": [],
   "source": [
    "def plottrajectoire(L,fct,x_min,x_max,y_min,y_max):\n",
    "    plotniveaux(fct, x_min,x_max,y_min,y_max)     \n",
    "    if len(L) > 0:\n",
    "        trajet = np.array(L)\n",
    "        plt.plot(trajet[:,0], trajet[:,1], '--')\n",
    "    plt.title('Trajectoire de la descente de gradient')"
   ]
  },
  {
   "cell_type": "markdown",
   "metadata": {},
   "source": [
    "**Exercice**\n",
    "\n",
    "Utiliser la cellule suivante, afin de commenter la trajectoire de la descente de gradient dans chacun des cas suivants :\n",
    "\n",
    "- b0=-4, w0=4, tau=0.02, tolerance=1e-2, nbiterations=1000\n",
    "\n",
    "Commentaire : ...\n",
    "\n",
    "- b0=-4, w0=4, tau=0.03, tolerance=1e-2, nbiterations=10\n",
    "\n",
    "Commentaire : ...\n",
    "\n",
    "- b0=0, w0=3, tau=0.02, tolerance=1e-2, nbiterations=1000\n",
    "\n",
    "Commentaire : ...\n",
    "\n",
    "- L'algorithme vous semble-t-il toujours prendre le chemin le plus court vers la solution ?\n",
    "\n",
    "Réponse : ..."
   ]
  },
  {
   "cell_type": "code",
   "execution_count": null,
   "metadata": {
    "scrolled": true
   },
   "outputs": [],
   "source": [
    "listeBW=descente(-4,4,0.02,1e-2,1000) # b0,w0,tau,tolerance,NbIterationsMax\n",
    "plottrajectoire(listeBW,f,-5,5,-5,5)\n",
    "plt.show()"
   ]
  },
  {
   "cell_type": "markdown",
   "metadata": {},
   "source": [
    "**Exercice**\n",
    "\n",
    "Utiliser la cellule suivante pour représenter le nuage de points ainsi qu'une droite de régression obtenue par une descente de gradient convergente, avec `tolerance=1e-2`"
   ]
  },
  {
   "cell_type": "code",
   "execution_count": null,
   "metadata": {},
   "outputs": [],
   "source": [
    "plt.axis([-1,10,-1,10])\n",
    "plt.plot(X,Y,'o') # Nuage de points\n",
    "plt.plot([...,...],[...,...]) # représentation de la droite Y=b+wX, avec b=b* et w=w* \n",
    "plt.show()"
   ]
  },
  {
   "cell_type": "markdown",
   "metadata": {},
   "source": [
    "### Illustration de l'algorithme via la représentation des droites parcourues par l'algorithme"
   ]
  },
  {
   "cell_type": "code",
   "execution_count": null,
   "metadata": {},
   "outputs": [],
   "source": [
    "listeBW=descente(-4,4,0.02,1e-2,1000)\n",
    "plt.axis([-1,10,-1,10])\n",
    "plt.plot(X,Y,'o') # Nuage de points\n",
    "alpha=0.3 # opacité des droites dessinées ci-dessous\n",
    "k=0 # comptage pour dessiner une droite sur 10 seulement\n",
    "for bw in listeBW:\n",
    "    alpha=alpha+0.7/len(listeBW) # on augmente l'opacité de 0.3 à 1\n",
    "    k=k+1\n",
    "    b=bw[0]\n",
    "    w=bw[1]\n",
    "    if (k<5) or (k/10==round(k/10)): # on trace les 5 premières droites, puis une droite sur 10        \n",
    "        plt.plot([-1,10],[b+w*-1,b+w*10],color=\"black\",alpha=transparence) # droite Y=b[i]+w[i]*X\n",
    "plt.plot([-1,10],[b+w*-1,b+w*10],alpha=1,color=\"red\") # représentation de la dernière droite en rouge\n",
    "plt.show()"
   ]
  },
  {
   "cell_type": "markdown",
   "metadata": {},
   "source": [
    "## Problème B\n",
    "\n",
    "Compléter par copier-coller certaines des cellules ci-dessous, afin d'obtenir, pour les données $(1,6)$, $(2,8)$, $(3,7)$, $(4,9)$ :\n",
    "1. Une trajectoire convergente de l'algorithme de descente de gradient, pour une tolerance inférieure ou égale à $10^{-2}$.\n",
    "2. Une représentation graphique du nuage ainsi que de la droite de régression obtenue par descente de gradient, éventuellement montrant la progression de l'algorithme vers la droite trouvée."
   ]
  },
  {
   "cell_type": "code",
   "execution_count": null,
   "metadata": {},
   "outputs": [],
   "source": []
  },
  {
   "cell_type": "code",
   "execution_count": null,
   "metadata": {},
   "outputs": [],
   "source": []
  },
  {
   "cell_type": "code",
   "execution_count": null,
   "metadata": {},
   "outputs": [],
   "source": []
  },
  {
   "cell_type": "code",
   "execution_count": null,
   "metadata": {},
   "outputs": [],
   "source": []
  }
 ],
 "metadata": {
  "colab": {
   "authorship_tag": "ABX9TyOL5iJTlZCmM9764vTsZljv",
   "collapsed_sections": [],
   "name": "descente-deux-variables.ipynb",
   "provenance": [
    {
     "file_id": "164i4yxW6Yks9BXBhzNAJHUMyX1UBjEp3",
     "timestamp": 1606828072802
    }
   ]
  },
  "kernelspec": {
   "display_name": "Python 3",
   "language": "python",
   "name": "python3"
  },
  "language_info": {
   "codemirror_mode": {
    "name": "ipython",
    "version": 3
   },
   "file_extension": ".py",
   "mimetype": "text/x-python",
   "name": "python",
   "nbconvert_exporter": "python",
   "pygments_lexer": "ipython3",
   "version": "3.8.3"
  }
 },
 "nbformat": 4,
 "nbformat_minor": 1
}
