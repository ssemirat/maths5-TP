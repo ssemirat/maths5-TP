{
 "cells": [
  {
   "cell_type": "markdown",
   "metadata": {},
   "source": [
    "# Régression logistique"
   ]
  },
  {
   "cell_type": "code",
   "execution_count": 2,
   "metadata": {
    "executionInfo": {
     "elapsed": 530,
     "status": "ok",
     "timestamp": 1606831889555,
     "user": {
      "displayName": "Stephan Semirat",
      "photoUrl": "",
      "userId": "06413469689434144964"
     },
     "user_tz": -60
    },
    "id": "Zupdaax6Xf8b"
   },
   "outputs": [],
   "source": [
    "# Chargement des librairies\n",
    "from matplotlib import pyplot as plt\n",
    "import numpy as np\n",
    "from sklearn.datasets import make_blobs"
   ]
  },
  {
   "cell_type": "code",
   "execution_count": 4,
   "metadata": {
    "scrolled": true
   },
   "outputs": [
    {
     "data": {
      "text/plain": [
       "[<matplotlib.lines.Line2D at 0x194611a6cd0>]"
      ]
     },
     "execution_count": 4,
     "metadata": {},
     "output_type": "execute_result"
    },
    {
     "data": {
      "image/png": "[encoded data removed]",
      "text/plain": [
       "<Figure size 432x288 with 1 Axes>"
      ]
     },
     "metadata": {
      "needs_background": "light"
     },
     "output_type": "display_data"
    }
   ],
   "source": [
    "# Création des données :\n",
    "# génère 20 données (Xj,Yj), avec Xj=(xj1,xj2), Y=0 ou 1\n",
    "# données centrées autour de 2 centres\n",
    "X, Y = make_blobs(n_samples=20, centers=2, n_features=2, cluster_std=4.0)\n",
    "# Création d'un \"masque\" permettant d'identifier les X associés à Y=0\n",
    "mask=(Y==0)\n",
    "plt.plot(X[mask, 0], X[mask, 1],'o',c='red')\n",
    "# Création d'un \"masque\" permettant d'identifier les X associés à Y=1\n",
    "mask=(Y==1)\n",
    "plt.plot(X[mask, 0], X[mask, 1],'o',c='blue')\n"
   ]
  },
  {
   "cell_type": "markdown",
   "metadata": {},
   "source": [
    "### Exercice\n",
    "D'après vos données (générées aléatoirement) proposer une régression $$X=\\begin{pmatrix}x_1\\\\x_2\\end{pmatrix}\\mapsto \\sigma(b+w_1x_1+w_2x_2)$$ séparant au mieux les valeurs $(x_1,x_2,Y=0)$ et $(x_1,x_2,Y=1)$"
   ]
  },
  {
   "cell_type": "markdown",
   "metadata": {},
   "source": [
    "## Fonctions objectif et gradient\n",
    "\n",
    "On cherche $(b,w_1,w_2)$ tel que pour chacune des données $X_j=\\begin{pmatrix}X_{j1}&X_{j2}\\end{pmatrix}$, $Y_j\\in\\{0,1\\}$, \n",
    "$$\\sigma(b+w_1X_{i1}+w_2X_{i2})\\simeq Y_i$$\n",
    "\n",
    "Pour ce faire, on considère la log-vraisemblance :\n",
    "$$LogV(b,W)=\\sum\\limits_j\\left(Y_j\\log(\\sigma(b+W\\cdot X_j))+(1-Y_j)\\log(1-\\sigma(b+W\\cdot X_j\\right)$$\n",
    "qu'on cherche à maximiser\n",
    "\n",
    "### Exercice\n",
    "On rappelle : $\\sigma'(x)=\\sigma(x)(1-\\sigma(x))$ et $(u(v(x)))'=u'(v(x))\\times v'(x)$\n",
    "- En déduire $(\\sigma(u(x)))'$ et $(\\sigma(\\ln(u(x))))'$ pour une fonction $u(x)$\n",
    "- En déduire $\\frac{\\partial LogV(b,W)}{\\partial b}$, $\\frac{\\partial LogV(b,W)}{\\partial w_1}$ et $\\frac{\\partial LogV(b,W)}{\\partial w_2}$\n",
    "    en simplifiant au maximum les expressions obtenues\n"
   ]
  },
  {
   "cell_type": "code",
   "execution_count": 193,
   "metadata": {
    "executionInfo": {
     "elapsed": 574,
     "status": "ok",
     "timestamp": 1606831895405,
     "user": {
      "displayName": "Stephan Semirat",
      "photoUrl": "",
      "userId": "06413469689434144964"
     },
     "user_tz": -60
    },
    "id": "x8vrszX1Xo7B"
   },
   "outputs": [],
   "source": [
    "# Compléter\n",
    "\n",
    "def sigmoid(x):\n",
    "    return 1/(1+np.exp(-x))\n",
    "\n",
    "def LogV(b,w1,w2):\n",
    "    return np.sum([???])\n",
    "\n",
    "def dLogV(b,w1,w2):\n",
    "    return [np.sum([???]),\n",
    "            np.sum([???]),\n",
    "            np.sum([???]))]"
   ]
  },
  {
   "cell_type": "markdown",
   "metadata": {
    "id": "LqRaPj_nX1sp"
   },
   "source": [
    "### \"Montée\" de gradient\n"
   ]
  },
  {
   "cell_type": "code",
   "execution_count": 180,
   "metadata": {
    "colab": {
     "base_uri": "https://localhost:8080/"
    },
    "executionInfo": {
     "elapsed": 594,
     "status": "ok",
     "timestamp": 1606832108296,
     "user": {
      "displayName": "Stephan Semirat",
      "photoUrl": "",
      "userId": "06413469689434144964"
     },
     "user_tz": -60
    },
    "id": "QfvzrSaAYmi3",
    "outputId": "0da3db24-cc70-4da8-ce4c-a9044844fce6"
   },
   "outputs": [],
   "source": [
    "def descente(b,w1,w2,tau=0.01,tolerance=1e-6,nbiterations=1000):\n",
    "    diverge=False\n",
    "    L=[]\n",
    "    for i in range(nbiterations):\n",
    "        g = dLogV(b,w1,w2)\n",
    "        try: # traitement des erreurs si l'algorithme diverge\n",
    "            L.append([b,w1,w2])\n",
    "            if g[0]**2+g[1]**2+g[2]**2<tolerance:\n",
    "                print('L\\'algorithme a convergé en',i,'itérations. \\nSolution atteinte :\\n b=',b,'\\n w1=',w1,'\\n w2=',w2,'\\nGradient :',g)\n",
    "                return L\n",
    "            b=b+tau*g[0]\n",
    "            w1=w1+tau*g[1]\n",
    "            w2=w2+tau*g[2]\n",
    "        except OverflowError as err: # traitement de l'erreur \"overflow\"\n",
    "            print('L\\'algorithme a divergé.\\n Solution atteinte :\\n b=',b,'\\n w1=',w1,'\\n w2=',w2,'\\nGradient :',g)\n",
    "            diverge=True\n",
    "            break\n",
    "    if (diverge==False):        \n",
    "        print('L\\'algorithme n\\'a pas convergé.\\n Solution atteinte :\\n b=',b,'\\n w1=',w1,'\\n w2=',w2,'\\nGradient :',g)\n",
    "    return L"
   ]
  },
  {
   "cell_type": "markdown",
   "metadata": {},
   "source": [
    "### Exercice 2\n",
    "Pourquoi doit-on ici mettre à jour les paramètres selon $$W[n+1]=W[n]+\\tau\\times\\text{grad} LogV$$ c'est à dire en **ajoutant** le produit du pas et du gradient (soit une **montée** de gradient)"
   ]
  },
  {
   "cell_type": "markdown",
   "metadata": {},
   "source": [
    "### Calcul de la solution"
   ]
  },
  {
   "cell_type": "code",
   "execution_count": 205,
   "metadata": {
    "colab": {
     "base_uri": "https://localhost:8080/",
     "height": 297
    },
    "executionInfo": {
     "elapsed": 1591,
     "status": "ok",
     "timestamp": 1606832068149,
     "user": {
      "displayName": "Stephan Semirat",
      "photoUrl": "",
      "userId": "06413469689434144964"
     },
     "user_tz": -60
    },
    "id": "C2x73vQkpWaZ",
    "outputId": "434d768d-3865-4b9d-be7c-bd45b3376310",
    "scrolled": false
   },
   "outputs": [
    {
     "name": "stdout",
     "output_type": "stream",
     "text": [
      "L'algorithme a convergé en 322 itérations. \n",
      "Solution atteinte :\n",
      " b= 1.0565791239912434 \n",
      " w1= 3.2601631603072407 \n",
      " w2= 2.733742374480766 \n",
      "Gradient : [-0.0028136391428620552, 0.00837357067273946, -0.004650572363622648]\n"
     ]
    }
   ],
   "source": [
    "Wi=descente(1,0,5,0.05,1e-4,10000)"
   ]
  },
  {
   "cell_type": "markdown",
   "metadata": {},
   "source": [
    "### Exercice\n",
    "\n",
    "Quelle est l'équation de la droite initialisant l'algorithme lorsque l'appel de l'algorithme est :\n",
    "\n",
    "`Wi=descente(1,0,5,0.05,1e-4,10000)` ?"
   ]
  },
  {
   "cell_type": "markdown",
   "metadata": {
    "id": "zF_q_GCtZqBq"
   },
   "source": [
    "### Représentation graphique de l'algorithme et de la solution"
   ]
  },
  {
   "cell_type": "code",
   "execution_count": 207,
   "metadata": {
    "colab": {
     "base_uri": "https://localhost:8080/"
    },
    "executionInfo": {
     "elapsed": 546,
     "status": "ok",
     "timestamp": 1606829356585,
     "user": {
      "displayName": "Stephan Semirat",
      "photoUrl": "",
      "userId": "06413469689434144964"
     },
     "user_tz": -60
    },
    "id": "cdQ4pmz_ZtC8",
    "outputId": "eb5374bb-2117-47f6-f576-ded80b5d08a1",
    "scrolled": false
   },
   "outputs": [
    {
     "data": {
      "text/plain": [
       "<function matplotlib.pyplot.show(*args, **kw)>"
      ]
     },
     "execution_count": 207,
     "metadata": {},
     "output_type": "execute_result"
    },
    {
     "data": {
      "image/png": "[encoded data removed]",
      "text/plain": [
       "<Figure size 432x288 with 1 Axes>"
      ]
     },
     "metadata": {
      "needs_background": "light"
     },
     "output_type": "display_data"
    }
   ],
   "source": [
    "# Création de la fenêtre\n",
    "fig = plt.figure()\n",
    "ax = plt.subplot()\n",
    "xmin=np.min(X[:,0])\n",
    "xmax=np.max(X[:,0])\n",
    "ymin=np.min(X[:,1])\n",
    "ymax=np.max(X[:,1])\n",
    "# On empêche tout dessin hors de la fenêtre xmin,xmax,ymin,ymax\n",
    "ax.set_xlim(xmin-1,xmax+1)\n",
    "ax.set_ylim(ymin-1,ymax+1)\n",
    "\n",
    "#Affichage des données\n",
    "mask=(Y==0)\n",
    "plt.plot(X[mask, 0], X[mask, 1],'o',c='red',clip_on=True)\n",
    "mask=(Y==1)\n",
    "plt.plot(X[mask, 0], X[mask, 1],'o',c='blue',clip_on=True)\n",
    "\n",
    "# Affichage de l'algorithme\n",
    "# on choisit 100 valeurs de b,w1,w2 obtenues par l'algorithme de \"montée\" de gradient\n",
    "for i in np.linspace(0,len(Wi)-1,100):\n",
    "    W=Wi[i.astype(int)]\n",
    "    b,w1,w2=W[0],W[1],W[2]\n",
    "# Pour chaque valeur, on trace la droite b+w1x1+w2x2=0 séparant les Y>0 des Y<0\n",
    "# elle coupe les bords de la fenêtre en (xmin,(-w1*xmin-b)/w2) et (xmax,(-w1*xmax-b)/w2)\n",
    "    if (w2!=0):\n",
    "        plt.plot([xmin,xmax],[(-w1*xmin-b)/w2,(-w1*xmax-b)/w2],alpha=0.1+0.9*i/(len(Wi)-1),c=\"black\")\n",
    "# alpha est un paramètre de transparence variant ici de 0.1 à 0.9 avec la valeur de i\n",
    "plt.show"
   ]
  },
  {
   "cell_type": "markdown",
   "metadata": {},
   "source": [
    "### Exercice\n",
    "\n",
    "Quelle est, pour une issue convergente de l'algorithme, l'équation de la droite permettant de séparer au mieux les données ?"
   ]
  },
  {
   "cell_type": "markdown",
   "metadata": {},
   "source": [
    "# Problèmes de convergence"
   ]
  },
  {
   "cell_type": "code",
   "execution_count": 5,
   "metadata": {},
   "outputs": [],
   "source": [
    "# On considère à présent des données non linéairement séparables\n",
    "X=np.array([[0,0],[0,1],[1,0],[1,1]])\n",
    "Y=np.array([0,1,1,0])"
   ]
  },
  {
   "cell_type": "code",
   "execution_count": null,
   "metadata": {},
   "outputs": [],
   "source": [
    "# Calculer le gradient de LogV en b=0, w1=0, w2=0 :\n",
    "dLogV(?,?,?)\n",
    "# que peut-on en déduire ?"
   ]
  },
  {
   "cell_type": "markdown",
   "metadata": {},
   "source": [
    "### Exercice\n",
    "\n",
    "- Expliciter les composantes du gradient de $LogV$ pour les données ci-dessus.\n",
    "- Résoudre $[\\text{grad} LogV](b,w_1,w_2)=(0,0,0)$\n",
    "- Calculer en chacun des points critiques, la Hessienne de $LogV$, et en déduire la nature des points critiques.\n",
    "- L'algorithme de descente de gradient permet-il de s'assurer que la solution atteinte maximise la vraisemblance ?"
   ]
  }
 ],
 "metadata": {
  "colab": {
   "authorship_tag": "ABX9TyOL5iJTlZCmM9764vTsZljv",
   "collapsed_sections": [],
   "name": "descente-deux-variables.ipynb",
   "provenance": [
    {
     "file_id": "164i4yxW6Yks9BXBhzNAJHUMyX1UBjEp3",
     "timestamp": 1606828072802
    }
   ]
  },
  "kernelspec": {
   "display_name": "Python 3",
   "language": "python",
   "name": "python3"
  },
  "language_info": {
   "codemirror_mode": {
    "name": "ipython",
    "version": 3
   },
   "file_extension": ".py",
   "mimetype": "text/x-python",
   "name": "python",
   "nbconvert_exporter": "python",
   "pygments_lexer": "ipython3",
   "version": "3.8.3"
  }
 },
 "nbformat": 4,
 "nbformat_minor": 1
}
