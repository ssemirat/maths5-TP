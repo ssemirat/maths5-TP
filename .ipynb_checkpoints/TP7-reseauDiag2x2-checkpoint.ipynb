{
 "cells": [
  {
   "cell_type": "markdown",
   "metadata": {},
   "source": [
    "# TP6 : Reconnaissance d'une diagonale dans carré 2x2"
   ]
  },
  {
   "cell_type": "markdown",
   "metadata": {
    "id": "Na-Yck4lZiN1"
   },
   "source": [
    "## Chargement des librairies"
   ]
  },
  {
   "cell_type": "code",
   "execution_count": 2,
   "metadata": {
    "executionInfo": {
     "elapsed": 530,
     "status": "ok",
     "timestamp": 1606831889555,
     "user": {
      "displayName": "Stephan Semirat",
      "photoUrl": "",
      "userId": "06413469689434144964"
     },
     "user_tz": -60
    },
    "id": "Zupdaax6Xf8b"
   },
   "outputs": [],
   "source": [
    "from matplotlib import pyplot as plt\n",
    "import numpy as np\n",
    "import pandas as pd"
   ]
  },
  {
   "cell_type": "markdown",
   "metadata": {},
   "source": [
    "## Chargement des données"
   ]
  },
  {
   "cell_type": "code",
   "execution_count": 3,
   "metadata": {
    "scrolled": false
   },
   "outputs": [
    {
     "name": "stdout",
     "output_type": "stream",
     "text": [
      "    X1  X2  X3  X4  Y\n",
      "0    0   0   0   0  0\n",
      "1    0   0   0   1  0\n",
      "2    0   0   1   0  0\n",
      "3    0   0   1   1  0\n",
      "4    0   1   0   0  0\n",
      "5    0   1   0   1  0\n",
      "6    0   1   1   0  1\n",
      "7    0   1   1   1  0\n",
      "8    1   0   0   0  0\n",
      "9    1   0   0   1  1\n",
      "10   1   0   1   0  0\n",
      "11   1   0   1   1  0\n",
      "12   1   1   0   0  0\n",
      "13   1   1   0   1  0\n",
      "14   1   1   1   0  0\n",
      "15   1   1   1   1  0\n"
     ]
    }
   ],
   "source": [
    "# Lecture des données depuis un fichier\n",
    "data=pd.read_csv(\"diag2x2.csv\",sep=\",\")\n",
    "print(data)"
   ]
  },
  {
   "cell_type": "markdown",
   "metadata": {},
   "source": [
    "### Exercice\n",
    "\n",
    "Les données ci-dessus représentent des carrés composés de 4 cases \n",
    "<table><tr><td >x1</td><td>x2</td></tr><tr><td>x3</td><td>x4</td></tr></table>\n",
    "\n",
    "auxquels sont associés $Y=0$ ou $Y=1$ selon que le carré comporte exactement une diagonale de $1$.\n",
    "\n",
    "Quels sont les numéros des données correspondant à un carré comportant exactement une diagonale de 1 ?"
   ]
  },
  {
   "cell_type": "code",
   "execution_count": 4,
   "metadata": {},
   "outputs": [
    {
     "data": {
      "text/html": [
       "<div>\n",
       "<style scoped>\n",
       "    .dataframe tbody tr th:only-of-type {\n",
       "        vertical-align: middle;\n",
       "    }\n",
       "\n",
       "    .dataframe tbody tr th {\n",
       "        vertical-align: top;\n",
       "    }\n",
       "\n",
       "    .dataframe thead th {\n",
       "        text-align: right;\n",
       "    }\n",
       "</style>\n",
       "<table border=\"1\" class=\"dataframe\">\n",
       "  <thead>\n",
       "    <tr style=\"text-align: right;\">\n",
       "      <th></th>\n",
       "      <th>X1</th>\n",
       "      <th>X2</th>\n",
       "      <th>X3</th>\n",
       "      <th>X4</th>\n",
       "      <th>Y</th>\n",
       "    </tr>\n",
       "  </thead>\n",
       "  <tbody>\n",
       "    <tr>\n",
       "      <th>0</th>\n",
       "      <td>0</td>\n",
       "      <td>0</td>\n",
       "      <td>0</td>\n",
       "      <td>0</td>\n",
       "      <td>0</td>\n",
       "    </tr>\n",
       "    <tr>\n",
       "      <th>1</th>\n",
       "      <td>0</td>\n",
       "      <td>0</td>\n",
       "      <td>0</td>\n",
       "      <td>1</td>\n",
       "      <td>0</td>\n",
       "    </tr>\n",
       "    <tr>\n",
       "      <th>2</th>\n",
       "      <td>0</td>\n",
       "      <td>0</td>\n",
       "      <td>1</td>\n",
       "      <td>0</td>\n",
       "      <td>0</td>\n",
       "    </tr>\n",
       "    <tr>\n",
       "      <th>3</th>\n",
       "      <td>0</td>\n",
       "      <td>0</td>\n",
       "      <td>1</td>\n",
       "      <td>1</td>\n",
       "      <td>0</td>\n",
       "    </tr>\n",
       "    <tr>\n",
       "      <th>4</th>\n",
       "      <td>0</td>\n",
       "      <td>1</td>\n",
       "      <td>0</td>\n",
       "      <td>0</td>\n",
       "      <td>0</td>\n",
       "    </tr>\n",
       "  </tbody>\n",
       "</table>\n",
       "</div>"
      ],
      "text/plain": [
       "   X1  X2  X3  X4  Y\n",
       "0   0   0   0   0  0\n",
       "1   0   0   0   1  0\n",
       "2   0   0   1   0  0\n",
       "3   0   0   1   1  0\n",
       "4   0   1   0   0  0"
      ]
     },
     "execution_count": 4,
     "metadata": {},
     "output_type": "execute_result"
    }
   ],
   "source": [
    "# Création d'un dataframe\n",
    "DF = pd.DataFrame(data, columns = ['X1','X2','X3','X4','Y'])\n",
    "# Affichage des 5 premières données\n",
    "DF.head()"
   ]
  },
  {
   "cell_type": "code",
   "execution_count": 8,
   "metadata": {},
   "outputs": [],
   "source": [
    "# Définition des entrées X et de la sortie désirée Y\n",
    "Xdata=DF.drop(['Y'],axis=1) # la variable Xdata contient toutes les colonnes sauf la colonne Y\n",
    "Ydata=DF['Y'] # La variable Ydata contient la colonne Y\n",
    "n=len(Xdata) # Nombre de données (16)\n",
    "d=len(Xdata.iloc[1]) # Nombre de colonnes de X[1]"
   ]
  },
  {
   "cell_type": "markdown",
   "metadata": {},
   "source": [
    "## Réseau à 1 couche cachée de 2 neurones\n",
    "On tente de déterminer une fonction définie par l'expression $$R(X)=\\sigma(H(X))$$ avec\n",
    "$$H(X)=b+w_1 \\sigma(h_1(X))+w_2\\sigma(h_2(X)),$$\n",
    "$$h_1(X)=b_1+w_{11}x_1+w_{12}x_2+w_{13}x_3+w_{14}x_4,$$\n",
    "$$h_2(X)=b_2+w_{21}x_1+w_{22}x_2+w_{23}x_3+w_{24}x_4,$$\n",
    "permettant d'associer les $X_j$ aux $Y_j$ pour les données ci-dessus."
   ]
  },
  {
   "cell_type": "markdown",
   "metadata": {},
   "source": [
    "### Exercice\n",
    "\n",
    "Représenter le réseau de neurones représentant la fonction d'expression $R(X)$ (répondre sur papier)."
   ]
  },
  {
   "cell_type": "markdown",
   "metadata": {},
   "source": [
    "### Exercice\n",
    "\n",
    "Compléter la cellule ci-dessous afin de définir la fonction `R(W,W1,w2,j)`, qui doit retourner la valeur de R(X_j) avec comme paramètres entrant :\n",
    "- `W`, qui représente $(b,w_1,w_2)$\n",
    "- `W1` et `W2`, qui représente $(b_1,w_{11},w_{12},w_{13},w_{14})$ et $(b_2,w_{21},w_{22},w_{23},w_{24})$ respectivement\n",
    "- `j`, qui représente le numéro $j$"
   ]
  },
  {
   "cell_type": "code",
   "execution_count": 116,
   "metadata": {},
   "outputs": [],
   "source": [
    "# Réseau\n",
    "def sigma(x):\n",
    "    return 1/(1+np.exp(-x))\n",
    "def R(W,W1,W2,j):\n",
    "    Xj=Xdata.iloc[j]\n",
    "    return ..."
   ]
  },
  {
   "cell_type": "markdown",
   "metadata": {},
   "source": [
    "### Exercice\n",
    "\n",
    "Compléter la boucle suivante afin de vérifier que la fonction $$R(X)=\\sigma(-25+28\\sigma(h_1(X))-13\\sigma(h_2(X)))$$ avec $$h_1(X)=0-3x_1+1.5x_2+1.5x_3+9x_4$$\n",
    "et $$h_2(X)=-14-4x_1+4x_2+4x_3+14x_4$$\n",
    "répond au problème posé."
   ]
  },
  {
   "cell_type": "code",
   "execution_count": null,
   "metadata": {},
   "outputs": [],
   "source": [
    "for j in range(n):\n",
    "    print('Y observé :',Ydata.iloc[j],' Y calculé :',R(...,...,...,j))"
   ]
  },
  {
   "cell_type": "markdown",
   "metadata": {},
   "source": [
    "### Exercice\n",
    "\n",
    "Le code ci-dessous calcule le gradient de la fonction définie par $$E(X_j)=\\frac{1}{2}(R(X_j)-Y_j)^2$$ par rétropropagation.\n",
    "\n",
    "Dans ce code, identifier la variable égale à $\\frac{\\partial E}{\\partial w_{23}}$ et expliciter chacune des dérivées partielles calculées pour obtenir sa valeur."
   ]
  },
  {
   "cell_type": "markdown",
   "metadata": {},
   "source": [
    "Répondre ici"
   ]
  },
  {
   "cell_type": "code",
   "execution_count": 432,
   "metadata": {},
   "outputs": [],
   "source": [
    "# Gradient par rétropropagation\n",
    "\n",
    "def gradE(W,W1,W2,j):\n",
    "    b,w1,w2=W[0],W[1],W[2]\n",
    "    b1,w11,w12,w13,w14=W1[0],W1[1],W1[2],W1[3],W1[4]\n",
    "    b2,w21,w22,w23,w24=W2[0],W2[1],W2[2],W2[3],W2[4]\n",
    "    Xj=Xdata.iloc[j]\n",
    "    Yj=Ydata.iloc[j]\n",
    "    h1=b1+w11*Xj[0]+w12*Xj[1]+w13*Xj[2]+w14*Xj[3]\n",
    "    h2=b2+w21*Xj[0]+w22*Xj[1]+w23*Xj[2]+w24*Xj[3]    \n",
    "    H=b+w1*sigma(h1)+w2*sigma(h2)\n",
    "    sH=sigma(H)\n",
    "    sh1=sigma(h1)\n",
    "    sh2=sigma(h2)\n",
    "    dsH=sH*(1-sH)\n",
    "    dsh1=sh1*(1-sh1)\n",
    "    dsh2=sh2*(1-sh2)\n",
    "    dEdsH=sH-Yj\n",
    "    dsHdb=dsH*1\n",
    "    dsHdw1=dsH*sh1\n",
    "    dsHdw2=dsH*sh2\n",
    "    dsHdsh1=dsH*w1\n",
    "    dsHdsh2=dsH*w2\n",
    "    dsh1db1=dsh1*1\n",
    "    dsh1dw11=dsh1*Xj[0]\n",
    "    dsh1dw12=dsh1*Xj[1]\n",
    "    dsh1dw13=dsh1*Xj[2]\n",
    "    dsh1dw14=dsh1*Xj[3]\n",
    "    dsh2db2=dsh2*1\n",
    "    dsh2dw21=dsh2*Xj[0]\n",
    "    dsh2dw22=dsh2*Xj[1]\n",
    "    dsh2dw23=dsh2*Xj[2]\n",
    "    dsh2dw24=dsh2*Xj[3]\n",
    "    dEdb=dEdsH*dsHdb\n",
    "    dEdw1=dEdsH*dsHdw1\n",
    "    dEdw2=dEdsH*dsHdw2\n",
    "    dEdb1=dEdsH*dsHdsh1*dsh1db1\n",
    "    dEdw11=dEdsH*dsHdsh1*dsh1dw11\n",
    "    dEdw12=dEdsH*dsHdsh1*dsh1dw12\n",
    "    dEdw13=dEdsH*dsHdsh1*dsh1dw13\n",
    "    dEdw14=dEdsH*dsHdsh1*dsh1dw14\n",
    "    dEdb2=dEdsH*dsHdsh2*dsh2db2\n",
    "    dEdw21=dEdsH*dsHdsh2*dsh2dw21\n",
    "    dEdw22=dEdsH*dsHdsh2*dsh2dw22\n",
    "    dEdw23=dEdsH*dsHdsh2*dsh2dw23\n",
    "    dEdw24=dEdsH*dsHdsh2*dsh2dw24\n",
    "    return [[dEdb,dEdw1,dEdw2],[dEdb1,dEdw11,dEdw12,dEdw13,dEdw14],[dEdb2,dEdw21,dEdw22,dEdw23,dEdw24]]"
   ]
  },
  {
   "cell_type": "markdown",
   "metadata": {},
   "source": [
    "### Exercice\n",
    "\n",
    "Utiliser la cellule ci-dessous pour calculer $R(X_5)$ et $\\frac{\\partial E(X_5)}{\\partial w_{23}}$ en $$(b,w_1,w_2)=(1,0,0)$$ $$(b_1,w_{11},w_{12},w_{13},w_{14})=(1,1,1,1,1)$$ $$((b_1,w_{21},w_{22},w_{23},w_{24})=(1,0,0,0,0).$$"
   ]
  },
  {
   "cell_type": "code",
   "execution_count": null,
   "metadata": {},
   "outputs": [],
   "source": [
    "print(...)\n",
    "print(...)"
   ]
  },
  {
   "cell_type": "markdown",
   "metadata": {},
   "source": [
    "## Algorithme de descente de gradient"
   ]
  },
  {
   "cell_type": "code",
   "execution_count": 501,
   "metadata": {},
   "outputs": [],
   "source": [
    "def descente(W,W1,W2,tau=0.01,tolerance=1e-2,nbiterations=1000):\n",
    "    diverge=False\n",
    "    for i in range(nbiterations):\n",
    "        g=[[0,0,0],[0,0,0,0,0],[0,0,0,0,0]] # gradient initialise à 0\n",
    "        batch=np.random.randint(0, 16, 5) # 5 entiers aléatoires choisis entre 0 et 15\n",
    "        for j in batch: # j parcourt 5 données aléatoires\n",
    "            gg=gradE(W,W1,W2,j) # calcul du gradient de la fonction associée à la donnée n°j\n",
    "            g = [np.add(g[0],gg[0]),np.add(g[1],gg[1]),np.add(g[2],gg[2])] # ajout du gradient gg au gradient g\n",
    "        try: # traitement des erreurs si l'algorithme diverge\n",
    "            ng=np.sqrt(np.sum([np.sum([gi**2 for gi in g[k]]) for k in range(2)]))/len(batch) # somme des carrés des coordonnées de g\n",
    "            if ng<tolerance:\n",
    "                print('L\\'algorithme a convergé en',i,'itérations. \\nSolution atteinte :\\n W=',W,'\\n W1=',W1,'\\n W2=',W2,'\\nGradient :',g)\n",
    "                return [W,W1,W2]\n",
    "            W=[W[k]-tau*g[0][k] for k in range(3)]\n",
    "            W1=[W1[k]-tau*g[1][k] for k in range(5)]\n",
    "            W2=[W2[k]-tau*g[2][k] for k in range(5)]\n",
    "        except OverflowError as err: # traitement de l'erreur \"overflow\"\n",
    "            print('L\\'algorithme a divergé \\nSolution atteinte :\\n W=',W,'\\n W1=',W1,'\\n W2=',W2,'\\nGradient :',g)\n",
    "            diverge=True\n",
    "            break\n",
    "    if (diverge==False):\n",
    "        print('L\\'algorithme n\\'a pas convergé \\nSolution atteinte :\\n W=',W,'\\n W1=',W1,'\\n W2=',W2,'\\nGradient :',g,'\\n Norme :',ng)\n",
    "    return [W,W1,W2]"
   ]
  },
  {
   "cell_type": "markdown",
   "metadata": {},
   "source": [
    "### Exercice\n",
    "\n",
    "Dans l'algorithme de descente de gradient ci-dessus, que désigne la variable `batch` et que calcule la boucle :\n",
    "\n",
    "`for j in batch:\n",
    "    gg=gradE(W,W1,W2,j)\n",
    "    g = [np.add(g[0],gg[0]),np.add(g[1],gg[1]),np.add(g[2],gg[2])]` ?"
   ]
  },
  {
   "cell_type": "markdown",
   "metadata": {},
   "source": [
    "Répondre ici"
   ]
  },
  {
   "cell_type": "markdown",
   "metadata": {},
   "source": [
    "### Exercice\n",
    "\n",
    "En utilisant la cellule suivante, faire converger l'algorithme avec une tolérance de $10^{-4}$."
   ]
  },
  {
   "cell_type": "code",
   "execution_count": null,
   "metadata": {
    "scrolled": true
   },
   "outputs": [],
   "source": [
    "descente([1,0,0],[1,1,1,1,1],[1,0,0,0,0],0.01,0.0001,10000)"
   ]
  },
  {
   "cell_type": "markdown",
   "metadata": {},
   "source": [
    "### Exercice\n",
    "\n",
    "Compléter la boucle suivante afin de vérifier que la fonction atteinte par l'algorithme de descente répond au problème posé."
   ]
  },
  {
   "cell_type": "code",
   "execution_count": null,
   "metadata": {},
   "outputs": [],
   "source": [
    "for j in range(n):\n",
    "    print('Y observé :',Ydata.iloc[j],' Y calculé :',R(...,...,...,j))"
   ]
  },
  {
   "cell_type": "markdown",
   "metadata": {},
   "source": [
    "# Problème\n",
    "\n",
    "Déterminer les coefficients d'un réseau de neurones qui identifie si un carré de 4 cases contient exactement une ligne de 1.\n",
    "\n",
    "À cette fin, vous pourrez au préalable modifier les données `Ydata[j]`, en modifiant les valeurs correspondant aux carrés visés (via par exemple `Ydata[10]=0`) :\n",
    "- Ydata[j] doit être égal à 1 si le carré contient exactement une ligne de 1\n",
    "- Ydata[j] doit être égal à 0 si le carré ne contient pas exactement une ligne de 1"
   ]
  },
  {
   "cell_type": "code",
   "execution_count": null,
   "metadata": {},
   "outputs": [],
   "source": [
    "# Modification des données Ydata :\n",
    "\n",
    "\n",
    "# Vérification des données :\n",
    "\n",
    "for j in range(n):\n",
    "    print('X :',Xdata.iloc[j],', Y correspondant :',Ydata.iloc[j])"
   ]
  },
  {
   "cell_type": "code",
   "execution_count": null,
   "metadata": {},
   "outputs": [],
   "source": [
    "# Convergeance de l'algorithme (tolerance à 10^-4) :\n",
    "\n",
    "descente([1,0,0],[1,1,1,1,1],[1,0,0,0,0],0.01,0.0001,10000)"
   ]
  },
  {
   "cell_type": "code",
   "execution_count": null,
   "metadata": {},
   "outputs": [],
   "source": [
    "# Vérification des valeurs de la fonction R obtenue :\n",
    "\n",
    "for j in range(n):\n",
    "    print('Y observé :',Ydata.iloc[j],' Y calculé :',R(...,...,...,j))"
   ]
  }
 ],
 "metadata": {
  "colab": {
   "authorship_tag": "ABX9TyOL5iJTlZCmM9764vTsZljv",
   "collapsed_sections": [],
   "name": "descente-deux-variables.ipynb",
   "provenance": [
    {
     "file_id": "164i4yxW6Yks9BXBhzNAJHUMyX1UBjEp3",
     "timestamp": 1606828072802
    }
   ]
  },
  "kernelspec": {
   "display_name": "Python 3",
   "language": "python",
   "name": "python3"
  },
  "language_info": {
   "codemirror_mode": {
    "name": "ipython",
    "version": 3
   },
   "file_extension": ".py",
   "mimetype": "text/x-python",
   "name": "python",
   "nbconvert_exporter": "python",
   "pygments_lexer": "ipython3",
   "version": "3.8.3"
  }
 },
 "nbformat": 4,
 "nbformat_minor": 1
}
