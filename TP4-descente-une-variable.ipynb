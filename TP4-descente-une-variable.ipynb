{
 "cells": [
  {
   "cell_type": "markdown",
   "metadata": {},
   "source": [
    "Nom, prénom, groupe"
   ]
  },
  {
   "cell_type": "markdown",
   "metadata": {},
   "source": [
    "# TP4 - Descente de gradient en 1 variable"
   ]
  },
  {
   "cell_type": "code",
   "execution_count": 1,
   "metadata": {
    "id": "Zupdaax6Xf8b"
   },
   "outputs": [],
   "source": [
    "# Chargement des librairies Python\n",
    "\n",
    "# Mathématiques \n",
    "import numpy as np\n",
    "\n",
    "# Graphique\n",
    "from matplotlib import pyplot as plt"
   ]
  },
  {
   "cell_type": "markdown",
   "metadata": {},
   "source": [
    "## Problème 1\n",
    "\n",
    "On cherche le minimum sur $\\mathbb{R}$ de la fonction $f(x)=x^2-6x+1$."
   ]
  },
  {
   "cell_type": "markdown",
   "metadata": {},
   "source": [
    "**Exercice 1.**\n",
    "\n",
    "Résoudre le problème par un calcul exact."
   ]
  },
  {
   "cell_type": "markdown",
   "metadata": {},
   "source": [
    "Répndre ici"
   ]
  },
  {
   "cell_type": "markdown",
   "metadata": {},
   "source": [
    "Dans la suite, on va résoudre le problème 1 de manière approchée à l'aide de l'algorithme de descente de gradient.\n",
    "\n",
    "**Exercice 2**\n",
    "\n",
    "Calculer à la main les valeurs $x1$ et $x2$ de l'algorithme de descente de gradient, initialisé à $x0=0.5$, avec un pas $\\tau=0.8$."
   ]
  },
  {
   "cell_type": "markdown",
   "metadata": {},
   "source": [
    "Répondre ici"
   ]
  },
  {
   "cell_type": "markdown",
   "metadata": {},
   "source": [
    "### Descente de gradient"
   ]
  },
  {
   "cell_type": "markdown",
   "metadata": {
    "id": "dev_luUrXiaK"
   },
   "source": [
    "#### Programmation de la fonction et de sa dérivée\n",
    "\n",
    "Compléter le code suivant avec la fonction et sa dérivée (attention : x^2 en python s'écrit `x**2`)"
   ]
  },
  {
   "cell_type": "code",
   "execution_count": 6,
   "metadata": {
    "id": "x8vrszX1Xo7B"
   },
   "outputs": [],
   "source": [
    "# Fonction à optimiser\n",
    "def f(x):           \n",
    "  return x**2-6*x+1\n",
    "\n",
    "# fonction dérivée\n",
    "def df(x):          \n",
    "  return 2*x-6"
   ]
  },
  {
   "cell_type": "markdown",
   "metadata": {},
   "source": [
    "#### Représentation graphique de $f$"
   ]
  },
  {
   "cell_type": "code",
   "execution_count": 7,
   "metadata": {},
   "outputs": [
    {
     "data": {
      "text/plain": [
       "[<matplotlib.lines.Line2D at 0x16e9efb2370>]"
      ]
     },
     "execution_count": 7,
     "metadata": {},
     "output_type": "execute_result"
    },
    {
     "data": {
      "image/png": "[encoded data removed]",
      "text/plain": [
       "<Figure size 432x288 with 1 Axes>"
      ]
     },
     "metadata": {
      "needs_background": "light"
     },
     "output_type": "display_data"
    }
   ],
   "source": [
    "plt.axis([-1,6,-10,5]) #xmin,xmax,ymin,ymax\n",
    "plt.plot(np.linspace(-2,6,100),[f(x) for x in np.linspace(-2,6,100)]) # Représentation de la fonction"
   ]
  },
  {
   "cell_type": "markdown",
   "metadata": {
    "id": "LqRaPj_nX1sp"
   },
   "source": [
    "### Algorithme de descente de gradient"
   ]
  },
  {
   "cell_type": "code",
   "execution_count": 8,
   "metadata": {
    "id": "QfvzrSaAYmi3"
   },
   "outputs": [],
   "source": [
    "def descente(x0,tau,tolerance,NbIterationsMax):\n",
    "    diverge=False\n",
    "    x=x0\n",
    "    L=[] #Pour visualiser graphiquement, on va stocker les valeurs de x dans la liste L\n",
    "    for i in range(NbIterationsMax):\n",
    "        d = df(x)\n",
    "        try: # traitement des erreurs (voir plus bas)\n",
    "            if abs(d)< tolerance: # abs renvoie la valeur absolue\n",
    "                print('L\\'algorithme a convergé en',i,'itérations.')\n",
    "                print('Solution atteinte : x=',x)\n",
    "                print('Dérivée en x:',d)\n",
    "                return L\n",
    "            L.append(x) # on ajoute la valeur de x à la liste L\n",
    "            x=x-tau*d # on affecte à x la nouvelle valeur x-tau*d\n",
    "        # Si l'algorithme diverge, les valeurs atteintes peuvent être trop grandes pour Python\n",
    "        except OverflowError as err: # traitement de l'erreur \"overflow\" \n",
    "            print('L\\'algorithme a divergé.')\n",
    "            print('Solution atteinte : x=',x)\n",
    "            print('Dérivée en x :',d)\n",
    "            diverge=True\n",
    "            break\n",
    "    if (diverge==False):\n",
    "        print('L\\'algorithme n\\'a pas convergé.')\n",
    "        print('Solution atteinte: x=',x)\n",
    "        print('Dérivée en x :',d)\n",
    "    return L"
   ]
  },
  {
   "cell_type": "markdown",
   "metadata": {},
   "source": [
    "**Exercice 3.**\n",
    "\n",
    "Décrire le rôle de chacun des paramètres de la fonction `descente(x0,tau,tolerance,nbiterations)` définie ci-dessus :\n",
    "- x0 :\n",
    "- tau :\n",
    "- tolerance :\n",
    "- nbiterations :"
   ]
  },
  {
   "cell_type": "markdown",
   "metadata": {},
   "source": [
    "Répondre ici"
   ]
  },
  {
   "cell_type": "markdown",
   "metadata": {},
   "source": [
    "#### Recherche de la solution\n",
    "Dans le code ci-dessous, on lance l'algorithme, puis on affiche les valeurs x0, x1, x2, ... parcourues par l'algorithme, puis on affiche le chemin de l'algorithme sur la courbe de $f$."
   ]
  },
  {
   "cell_type": "code",
   "execution_count": 12,
   "metadata": {
    "scrolled": true
   },
   "outputs": [
    {
     "name": "stdout",
     "output_type": "stream",
     "text": [
      "L'algorithme a convergé en 26 itérations.\n",
      "Solution atteinte : x= 2.9999957354567957\n",
      "Dérivée en x: -8.529086408692876e-06\n",
      "Liste des points atteints :\n",
      "[0.5, 4.5, 2.0999999999999996, 3.54, 2.676, 3.1944, 2.88336, 3.069984, 2.9580096, 3.02519424, 2.984883456, 3.0090699264, 2.99455804416, 3.003265173504, 2.9980408958976, 3.0011754624614397, 2.9992947225231363, 3.0004231664861183, 2.999746100108329, 3.0001523399350023, 2.9999085960389986, 3.000054842376601, 2.9999670945740395, 3.000019743255576, 2.999988154046654, 3.0000071075720074]\n"
     ]
    },
    {
     "data": {
      "text/plain": [
       "[<matplotlib.lines.Line2D at 0x16e9f06c580>]"
      ]
     },
     "execution_count": 12,
     "metadata": {},
     "output_type": "execute_result"
    },
    {
     "data": {
      "image/png": "[encoded data removed]",
      "text/plain": [
       "<Figure size 432x288 with 1 Axes>"
      ]
     },
     "metadata": {
      "needs_background": "light"
     },
     "output_type": "display_data"
    }
   ],
   "source": [
    "# Lancement de l'algorithme et récupération des points x0, x1, ... dans la liste Xi\n",
    "Xi=descente(0.5,0.8,1e-5,1000)\n",
    "# Affichage des Xi\n",
    "print('Liste des points atteints :')\n",
    "print(Xi)\n",
    "# Représentation graphique\n",
    "plt.axis([-1,6,-10,5]) #xmin,xmax,ymin,ymax\n",
    "plt.plot(np.linspace(-1,6,100),[f(x) for x in np.linspace(-1,6,100)]) # Courbe de la fonction\n",
    "plt.plot(Xi,[f(x) for x in Xi],'o--') # Représentation des segments (x_i,f(x_i))--(x_(i+1),f(x_(i+1)))"
   ]
  },
  {
   "cell_type": "markdown",
   "metadata": {},
   "source": [
    "**Exercice 5.**\n",
    "1. Pour $x_0=0.5$, déterminer un pas $\\tau$ tel que le comportement de l'algrythme vérifie la propriété suivante, en représentant l'algorithme dans les cellules suivantes (par copier-coller de la cellule précédente).\n",
    "\n",
    "    1. La suite $x_0$, $x_1$, ... est croissante.\n",
    "    2. L'algorithme cycle\n",
    "    3. L'algorithme diverge.\n",
    "    4. L'algorithme converge en 1 itération (pas optimal)"
   ]
  },
  {
   "cell_type": "code",
   "execution_count": null,
   "metadata": {},
   "outputs": [],
   "source": [
    "# La suite x0,x1,x2,.... est croissante\n"
   ]
  },
  {
   "cell_type": "code",
   "execution_count": null,
   "metadata": {},
   "outputs": [],
   "source": [
    "# L'algorithme cycle\n"
   ]
  },
  {
   "cell_type": "code",
   "execution_count": null,
   "metadata": {},
   "outputs": [],
   "source": [
    "# L'algorithme diverge\n"
   ]
  },
  {
   "cell_type": "code",
   "execution_count": 13,
   "metadata": {},
   "outputs": [],
   "source": [
    "# L'algorithme converge en 1 itération (le pas est alors dit optimal)\n"
   ]
  },
  {
   "cell_type": "markdown",
   "metadata": {},
   "source": [
    "# Problème 2\n",
    "\n",
    "Déterminer $x_0$ et $\\tau$ et représenter les étapes de l'algorithme sur la fonction $f(x)=x^4-7x^3+14x^2-8x$ (cette fonction possède un minimum local et un minimum global différents), en sorte que l'algorithme converge en au plus 10 itérations :\n",
    "1. Vers le minimum local.\n",
    "2. Vers le minimum global.\n"
   ]
  },
  {
   "cell_type": "code",
   "execution_count": null,
   "metadata": {},
   "outputs": [],
   "source": []
  },
  {
   "cell_type": "code",
   "execution_count": null,
   "metadata": {},
   "outputs": [],
   "source": []
  },
  {
   "cell_type": "code",
   "execution_count": null,
   "metadata": {},
   "outputs": [],
   "source": []
  },
  {
   "cell_type": "code",
   "execution_count": null,
   "metadata": {},
   "outputs": [],
   "source": []
  }
 ],
 "metadata": {
  "colab": {
   "authorship_tag": "ABX9TyMUNvpvplA+oiXkt6/VO1xX",
   "collapsed_sections": [],
   "name": "descente-une-variable.ipynb",
   "provenance": []
  },
  "kernelspec": {
   "display_name": "Python 3",
   "language": "python",
   "name": "python3"
  },
  "language_info": {
   "codemirror_mode": {
    "name": "ipython",
    "version": 3
   },
   "file_extension": ".py",
   "mimetype": "text/x-python",
   "name": "python",
   "nbconvert_exporter": "python",
   "pygments_lexer": "ipython3",
   "version": "3.8.3"
  }
 },
 "nbformat": 4,
 "nbformat_minor": 1
}
