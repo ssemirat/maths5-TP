{
 "cells": [
  {
   "cell_type": "raw",
   "metadata": {},
   "source": [
    "Nom, prénom, groupe"
   ]
  },
  {
   "cell_type": "markdown",
   "metadata": {},
   "source": [
    "# TP4 - Descente de gradient en 1 variable"
   ]
  },
  {
   "cell_type": "code",
   "execution_count": null,
   "metadata": {
    "id": "Zupdaax6Xf8b"
   },
   "outputs": [],
   "source": [
    "# Chargement des bibliothèques Python\n",
    "\n",
    "# Mathématiques \n",
    "import numpy as np\n",
    "\n",
    "# Graphique\n",
    "from matplotlib import pyplot as plt\n",
    "\n",
    "print('Bibliothèques chargées')"
   ]
  },
  {
   "cell_type": "markdown",
   "metadata": {},
   "source": [
    "## Problème A\n",
    "\n",
    "On cherche le minimum sur $\\mathbb{R}$ de la fonction $f(d)=d^2-6d+1$."
   ]
  },
  {
   "cell_type": "markdown",
   "metadata": {},
   "source": [
    "**Exercice**\n",
    "\n",
    "Résoudre le problème par un calcul exact.\n",
    "\n",
    "Réponse : $f$ atteint son minimum en $d\n",
    "^*=...$"
   ]
  },
  {
   "cell_type": "markdown",
   "metadata": {},
   "source": [
    "Dans la suite, on va illustrer le fonctionnement de l'algorithme de descente de gradient afin de résoudre le problème A de manière approchée.\n",
    "\n",
    "**Rappels de cours**\n",
    "\n",
    "En une dimension, l'algorithme de gradient construit une séquence *décroissante* $f(d_0)$, $f(d_1)$, ..., en sorte de s'approcher d'un minimum au moins local de $f$.\n",
    "\n",
    "L'algorithme fonctionne ainsi :\n",
    "- Choisir un facteur $\\tau$ et une valeur initiale $d_0$.\n",
    "- Tant que $f'(d_i)$ n'est pas suffisamment proche de zéro :\n",
    " - Définir $d_{i+1}=d_i-\\tau\\times f'(d_i)$\n",
    " - Calculer $f'(d_{i+1})$"
   ]
  },
  {
   "cell_type": "markdown",
   "metadata": {},
   "source": [
    "**Exercice**\n",
    "\n",
    "Calculer, pour la fonction $f$ du Problème A les valeurs $d_1$ et $d_2$ de l'algorithme de descente de gradient initialisé à $d_0=0.5$, avec un facteur $\\tau=0.8$.\n",
    "\n",
    "Réponses :\n",
    "\n",
    "Pour tout $d$, on a $f'(d)=$....\n",
    "\n",
    "On en déduit :\n",
    "- $f'(d_0)=$ ... , et donc $d_1=$ ....\n",
    "- $f'(d_1)=$ ..., et donc $d_2=$ ..."
   ]
  },
  {
   "cell_type": "markdown",
   "metadata": {},
   "source": [
    "## Programmation de l'algorithme de descente de gradient"
   ]
  },
  {
   "cell_type": "markdown",
   "metadata": {
    "id": "dev_luUrXiaK"
   },
   "source": [
    "### Définition de la fonction et de sa dérivée\n",
    "\n",
    "Compléter le code suivant avec la fonction et sa dérivée (attention : x^2 en python s'écrit `x**2`)"
   ]
  },
  {
   "cell_type": "code",
   "execution_count": null,
   "metadata": {
    "id": "x8vrszX1Xo7B"
   },
   "outputs": [],
   "source": [
    "# Fonction à optimiser\n",
    "def f(d):           \n",
    "    return ...\n",
    "\n",
    "# fonction dérivée\n",
    "def gf(d):          \n",
    "    return ...\n",
    "\n",
    "print('Fonctions f et f\\' définies')"
   ]
  },
  {
   "cell_type": "markdown",
   "metadata": {},
   "source": [
    "### Représentation graphique de $f$"
   ]
  },
  {
   "cell_type": "code",
   "execution_count": null,
   "metadata": {
    "scrolled": true
   },
   "outputs": [],
   "source": [
    "# Tableau de valeurs de f\n",
    "dvaleurs=np.linspace(-1,6,50) # 5à valeurs régulièrement espacées entre -1 et 6 (compris)\n",
    "fvaleurs=[f(d) for d in dvaleurs]\n",
    "# Graphique\n",
    "plt.axis([-1,6,-10,5]) #xmin,xmax,ymin,ymax\n",
    "plt.plot(dvaleurs,fvaleurs)\n",
    "plt.show()"
   ]
  },
  {
   "cell_type": "markdown",
   "metadata": {
    "id": "LqRaPj_nX1sp"
   },
   "source": [
    "### Algorithme de descente de gradient"
   ]
  },
  {
   "cell_type": "code",
   "execution_count": null,
   "metadata": {
    "id": "QfvzrSaAYmi3"
   },
   "outputs": [],
   "source": [
    "def descente(d0,tau,tolerance,NbIterationsMax):\n",
    "    diverge=False\n",
    "    d=d0\n",
    "    # Pour la visualisation graphique de l'algorithme\n",
    "    # on va stocker les valeurs de d dans la liste L\n",
    "    L=[] \n",
    "    for i in range(NbIterationsMax):\n",
    "        try: # traitement des erreurs (voir plus bas)\n",
    "            g = gf(d) # Calcul de la dérivée en d\n",
    "            if abs(g)< tolerance: # abs renvoie la valeur absolue\n",
    "                print('L\\'algorithme a convergé en',i,'itérations.')\n",
    "                print('Solution atteinte : d=',d)\n",
    "                print('Dérivée en d:',g)\n",
    "                return L\n",
    "            L.append(d) # on ajoute la valeur de d à la liste L\n",
    "            d=d-tau*g # on affecte à d la nouvelle valeur d-tau*g\n",
    "        # Si l'algorithme diverge, les valeurs atteintes peuvent être trop grandes pour Python\n",
    "        except OverflowError as err: # traitement de l'erreur \"overflow\" \n",
    "            print('L\\'algorithme a divergé.')\n",
    "            print('Valeur atteinte : d=',d)\n",
    "            print('Dérivée en d :',g)\n",
    "            diverge=True\n",
    "            break\n",
    "    if (diverge==False):\n",
    "        print('L\\'algorithme n\\'a pas convergé en au plus',NbIterationsMax)\n",
    "        print('Valeur atteinte: d=',d)\n",
    "        print('Dérivée en d :',g)\n",
    "    return L"
   ]
  },
  {
   "cell_type": "markdown",
   "metadata": {},
   "source": [
    "**Exercice**\n",
    "\n",
    "Décrire le rôle de chacun des paramètres de la fonction `descente(x0,tau,tolerance,nbiterations)` définie ci-dessus :\n",
    "\n",
    "Réponses :\n",
    "\n",
    "- d0 : ...\n",
    "- tau : ...\n",
    "- tolerance : ...\n",
    "- nbiterations : ..."
   ]
  },
  {
   "cell_type": "markdown",
   "metadata": {},
   "source": [
    "### Recherche de la solution\n",
    "Dans le code ci-dessous, on lance l'algorithme, puis on affiche la séquence $(d_i)$ (égale à $d_0$, $d_1$, $d_2$, ...) calculée par l'algorithme, et enfin on affiche le chemin de l'algorithme sur la courbe de $f$."
   ]
  },
  {
   "cell_type": "code",
   "execution_count": null,
   "metadata": {
    "scrolled": true
   },
   "outputs": [],
   "source": [
    "# Lancement de l'algorithme et récupération des points d_i d0, d1, ... dans la liste D\n",
    "di=descente(0.5,0.8,1e-5,1000)\n",
    "\n",
    "# Affichage des di\n",
    "print('Liste des valeurs calculées :')\n",
    "print(di)\n",
    "\n",
    "# Représentation graphique\n",
    "plt.axis([-2,6,-10,5]) #xmin,xmax,ymin,ymax\n",
    "plt.plot(dvaleurs,fvaleurs) # Courbe de f\n",
    "\n",
    "# Représentation des segments reliant les points\n",
    "# (d_i,f(d_i)) et (d_(i+1),f(d_(i+1)))\n",
    "plt.plot(di,[f(d) for d in di],'o--')\n",
    "\n",
    "plt.show()"
   ]
  },
  {
   "cell_type": "markdown",
   "metadata": {},
   "source": [
    "**Exercice**\n",
    "\n",
    "À l'aide de la cellule ci-dessus, et en initialisant à $d_0=0.5$, déterminer par tâtonnement ou par le calcul un facteur $\\tau$ tel que le comportement de l'algorithme vérifie la propriété suivante.\n",
    "\n",
    "1. La séquence $d_0$, $d_1$, ... est croissante pour $\\tau$= ...\n",
    "2. L'algorithme diverge pour $\\tau=$ ...\n",
    "3. L'algorithme cycle pour $\\tau$= ...\n",
    "4. L'algorithme converge en 1 itération (facteur optimal) pour $\\tau=$ ..."
   ]
  },
  {
   "cell_type": "markdown",
   "metadata": {},
   "source": [
    "# Problème B\n",
    "\n",
    "Compléter par copier coller les cellules suivantes afin de déterminer $d_0$ et $\\tau$ et de représenter les étapes de l'algorithme appliqué à la fonction $$f(d)=d^4-7d^3+14d^2-8d,$$\n",
    "en sorte que l'algorithme converge en au plus 10 itérations :\n",
    "1. vers le minimum local ;\n",
    "2. vers le minimum global ;\n",
    "3. si possible, vers le minimum global mais en partant du << bassin >> associé au minimum local ;\n",
    "4. si possible, vers le minimum local en partant du << bassin >> associé au minimum local."
   ]
  },
  {
   "cell_type": "code",
   "execution_count": null,
   "metadata": {},
   "outputs": [],
   "source": [
    "# Définitions préliminaires \n",
    "# (f, f', dvaleurs, fvaleurs et représentation graphique : attention à bien choisir la fenêtre)\n"
   ]
  },
  {
   "cell_type": "code",
   "execution_count": null,
   "metadata": {},
   "outputs": [],
   "source": [
    "# Convergence vers le minimum local\n"
   ]
  },
  {
   "cell_type": "code",
   "execution_count": null,
   "metadata": {},
   "outputs": [],
   "source": [
    "# Convergence vers le minimum global\n"
   ]
  },
  {
   "cell_type": "code",
   "execution_count": null,
   "metadata": {},
   "outputs": [],
   "source": [
    "# Convergence vers le minimum local en partant du bassin du minimum global\n"
   ]
  },
  {
   "cell_type": "code",
   "execution_count": null,
   "metadata": {},
   "outputs": [],
   "source": [
    "# Convergence vers le minimum local en partant du bassin du minimum local\n"
   ]
  }
 ],
 "metadata": {
  "colab": {
   "authorship_tag": "ABX9TyMUNvpvplA+oiXkt6/VO1xX",
   "collapsed_sections": [],
   "name": "descente-une-variable.ipynb",
   "provenance": []
  },
  "kernelspec": {
   "display_name": "Python 3",
   "language": "python",
   "name": "python3"
  },
  "language_info": {
   "codemirror_mode": {
    "name": "ipython",
    "version": 3
   },
   "file_extension": ".py",
   "mimetype": "text/x-python",
   "name": "python",
   "nbconvert_exporter": "python",
   "pygments_lexer": "ipython3",
   "version": "3.8.3"
  }
 },
 "nbformat": 4,
 "nbformat_minor": 1
}
